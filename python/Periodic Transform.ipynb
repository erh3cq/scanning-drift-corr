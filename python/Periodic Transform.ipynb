{
 "cells": [
  {
   "cell_type": "code",
   "execution_count": 16,
   "metadata": {},
   "outputs": [],
   "source": [
    "%matplotlib widget"
   ]
  },
  {
   "cell_type": "code",
   "execution_count": 17,
   "metadata": {},
   "outputs": [],
   "source": [
    "import numpy as np\n",
    "import matplotlib.pyplot as plt\n",
    "\n",
    "N = 100\n",
    "ideal = np.arange(N)\n",
    "\n",
    "period = 10\n",
    "disturbance = np.sin(np.arange(N)*2*np.pi/period)\n",
    "measured = ideal + disturbance"
   ]
  },
  {
   "cell_type": "code",
   "execution_count": 19,
   "metadata": {},
   "outputs": [
    {
     "data": {
      "application/vnd.jupyter.widget-view+json": {
       "model_id": "9aabc65b01ce4f9f9a8912ac8f56f895",
       "version_major": 2,
       "version_minor": 0
      },
      "text/plain": [
       "Canvas(toolbar=Toolbar(toolitems=[('Home', 'Reset original view', 'home', 'home'), ('Back', 'Back to previous …"
      ]
     },
     "metadata": {},
     "output_type": "display_data"
    },
    {
     "data": {
      "text/plain": [
       "Text(0, 0.5, 'Measured value')"
      ]
     },
     "execution_count": 19,
     "metadata": {},
     "output_type": "execute_result"
    }
   ],
   "source": [
    "fig, (ax1, ax2) = plt.subplots(ncols=2, figsize=(10,3))\n",
    "ax1.plot(ideal)\n",
    "ax2.plot(measured)\n",
    "ax1.set_title('No distortion')\n",
    "ax2.set_title('Periodic distortion')\n",
    "ax1.set_xlabel('Set value')\n",
    "ax2.set_xlabel('Set value')\n",
    "ax1.set_ylabel('Measured value')\n",
    "ax2.set_ylabel('Measured value')\n",
    "#plt.savefig('Scannoise.png', dpi=200)"
   ]
  },
  {
   "cell_type": "code",
   "execution_count": 20,
   "metadata": {},
   "outputs": [],
   "source": [
    "import hyperspy.api as hs"
   ]
  },
  {
   "cell_type": "code",
   "execution_count": 23,
   "metadata": {},
   "outputs": [
    {
     "name": "stderr",
     "output_type": "stream",
     "text": [
      "WARNING:hyperspy.signal:Units are not set or cannot be recognized\n"
     ]
    }
   ],
   "source": [
    "s = hs.signals.Signal1D(ideal)\n",
    "f = s.fft(True)"
   ]
  },
  {
   "cell_type": "code",
   "execution_count": 24,
   "metadata": {},
   "outputs": [
    {
     "data": {
      "application/vnd.jupyter.widget-view+json": {
       "model_id": "54e6aaae16cc4059a3c82fa43fd29a03",
       "version_major": 2,
       "version_minor": 0
      },
      "text/plain": [
       "Canvas(toolbar=Toolbar(toolitems=[('Home', 'Reset original view', 'home', 'home'), ('Back', 'Back to previous …"
      ]
     },
     "metadata": {},
     "output_type": "display_data"
    }
   ],
   "source": [
    "np.log(f.amplitude).plot()\n"
   ]
  },
  {
   "cell_type": "code",
   "execution_count": 85,
   "metadata": {},
   "outputs": [
    {
     "data": {
      "text/plain": [
       "array([ 0.        ,  1.09983342,  2.19866933,  3.29552021,  4.38941834,\n",
       "        5.47942554,  6.56464247,  7.64421769,  8.71735609,  9.78332691,\n",
       "       10.84147098, 11.89120736, 12.93203909, 13.96355819, 14.98544973,\n",
       "       15.99749499, 16.9995736 , 17.99166481, 18.97384763, 19.94630009,\n",
       "       20.90929743, 21.86320937, 22.8084964 , 23.74570521, 24.67546318,\n",
       "       25.59847214, 26.51550137, 27.42737988, 28.33498815, 29.23924933,\n",
       "       30.14112001, 31.04158066, 31.94162586, 32.84225431, 33.7444589 ,\n",
       "       34.64921677, 35.55747956, 36.47016386, 37.38814211, 38.31223384,\n",
       "       39.2431975 , 40.18172289, 41.12842423, 42.08383406, 43.04839793,\n",
       "       44.02246988, 45.006309  , 46.00007674, 47.00383539, 48.01754739,\n",
       "       49.04107573, 50.07418532, 51.11654534, 52.16773256, 53.22723551,\n",
       "       54.29445967, 55.36873336, 56.44931446, 57.53539782, 58.62612334,\n",
       "       59.7205845 , 60.8178375 , 61.9169106 , 63.0168139 , 64.1165492 ,\n",
       "       65.21511999, 66.31154136, 67.40484992, 68.49411335, 69.57843976,\n",
       "       70.6569866 , 71.72896904, 72.79366786, 73.85043662, 74.8987081 ,\n",
       "       75.93799998, 76.96791967, 77.98816823, 78.99854335, 79.99894134,\n",
       "       80.98935825, 81.96988981, 82.94073056, 83.90217183, 84.85459891,\n",
       "       85.79848711, 86.7343971 , 87.66296923, 88.58491719, 89.50102086,\n",
       "       90.41211849, 91.31909836, 92.22288991, 93.12445442, 94.02477543,\n",
       "       94.92484888, 95.82567322, 96.72823937, 97.63352087, 98.54246411])"
      ]
     },
     "execution_count": 85,
     "metadata": {},
     "output_type": "execute_result"
    }
   ],
   "source": [
    "measured"
   ]
  },
  {
   "cell_type": "code",
   "execution_count": null,
   "metadata": {},
   "outputs": [],
   "source": []
  }
 ],
 "metadata": {
  "kernelspec": {
   "display_name": "Python 3",
   "language": "python",
   "name": "python3"
  },
  "language_info": {
   "codemirror_mode": {
    "name": "ipython",
    "version": 3
   },
   "file_extension": ".py",
   "mimetype": "text/x-python",
   "name": "python",
   "nbconvert_exporter": "python",
   "pygments_lexer": "ipython3",
   "version": "3.8.5"
  }
 },
 "nbformat": 4,
 "nbformat_minor": 4
}
