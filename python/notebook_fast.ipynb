{
 "cells": [
  {
   "cell_type": "code",
   "execution_count": 1,
   "metadata": {},
   "outputs": [
    {
     "data": {
      "text/plain": [
       "1"
      ]
     },
     "execution_count": 1,
     "metadata": {},
     "output_type": "execute_result"
    }
   ],
   "source": [
    "1"
   ]
  },
  {
   "cell_type": "code",
   "execution_count": 2,
   "metadata": {},
   "outputs": [
    {
     "name": "stdout",
     "output_type": "stream",
     "text": [
      "Padding images\n",
      "Estimating memory usage of 0.43GB\n",
      "Calculating transform matrices\n",
      "Transforming data\n",
      "Preparing correlation data\n",
      "Correlating\n"
     ]
    },
    {
     "data": {
      "application/vnd.jupyter.widget-view+json": {
       "model_id": "4a653f083099498eb749cbc07ac6c7bd",
       "version_major": 2,
       "version_minor": 0
      },
      "text/plain": [
       "HBox(children=(IntProgress(value=0, max=121), HTML(value='')))"
      ]
     },
     "metadata": {},
     "output_type": "display_data"
    },
    {
     "name": "stdout",
     "output_type": "stream",
     "text": [
      "\n",
      "Calculating final images\n",
      "Image drifted (0.0, -1.0) pixels since first frame\n"
     ]
    },
    {
     "data": {
      "application/vnd.jupyter.widget-view+json": {
       "model_id": "9330c93ef56b478d9469fd1db4bf141b",
       "version_major": 2,
       "version_minor": 0
      },
      "text/plain": [
       "Canvas(toolbar=Toolbar(toolitems=[('Home', 'Reset original view', 'home', 'home'), ('Back', 'Back to previous …"
      ]
     },
     "metadata": {},
     "output_type": "display_data"
    },
    {
     "name": "stdout",
     "output_type": "stream",
     "text": [
      "--- 15.986728191375732 seconds ---\n"
     ]
    }
   ],
   "source": [
    "%matplotlib widget\n",
    "import numpy as np\n",
    "from numpy.fft import fft2\n",
    "import matplotlib.pyplot as plt\n",
    "plt.rcParams['figure.max_open_warning'] = 2000\n",
    "import time\n",
    "from pathlib import Path\n",
    "import h5py\n",
    "from scipy.ndimage import fourier_shift\n",
    "import logging\n",
    "\n",
    "start_time = time.time()\n",
    "\n",
    "from transforms import (\n",
    "    prepare_correlation_data,\n",
    "    correlate_images,\n",
    "    correlation,\n",
    "    translate,\n",
    "    pad_images,\n",
    "    set_shear_and_scale_ranges,\n",
    "    set_transform_matrices,\n",
    "    transform,\n",
    "    transform_single_image,\n",
    "    plot_transformed_images,\n",
    "    normalise_max,\n",
    ")\n",
    "\n",
    "pad_factor = 1.3  # larger than 1, approx 1.25 is good\n",
    "steps = 11  # odd, 5,7 is normal\n",
    "correlation_method = \"phase\"  # \"phase\", \"cross\", \"hybrid\"\n",
    "gpu = True  # True / False\n",
    "shear_steps = steps\n",
    "scale_steps = steps\n",
    "\n",
    "test_dataset = \"A\"\n",
    "\n",
    "if gpu:\n",
    "    import tensorflow as tf\n",
    "\n",
    "    tf.device(\"/gpu:0\")\n",
    "\n",
    "if test_dataset == \"A\":\n",
    "    import hyperspy.api as hs\n",
    "\n",
    "    def get_haadf(slist):\n",
    "        \"Helper function for picking out HAADF from velox format\"\n",
    "        for s in slist:\n",
    "            if \"HAADF\" in s.metadata.General.title:\n",
    "                return s\n",
    "\n",
    "    folder = r\"C:\\Users\\Me\\Documents\\STEM Images\"\n",
    "    signals = [\n",
    "        get_haadf(hs.load(str(f))) for f in Path(folder).iterdir() if f.is_file()\n",
    "    ]\n",
    "    images = [s.data.astype(\"float32\") for s in signals]\n",
    "    angles = [\n",
    "        float(s.original_metadata.Scan.ScanRotation) * 180 / np.pi for s in signals\n",
    "    ]\n",
    "\n",
    "\n",
    "elif test_dataset == \"B\":\n",
    "    from scipy.misc import face, ascent\n",
    "    from scipy.ndimage import rotate\n",
    "\n",
    "    img1 = face(True)  # [:,:768]\n",
    "    img1 = np.pad(img1, 200, \"constant\")\n",
    "    SHIFT = [80, 90]\n",
    "    ANGLE = 45\n",
    "    img2 = np.fft.ifft2(fourier_shift(fft2(img1), SHIFT)).real\n",
    "    img2 = rotate(img2, ANGLE, reshape=False)\n",
    "    images = [img1, img2]\n",
    "    angles = (0, ANGLE)\n",
    "\n",
    "elif test_dataset == \"C\":\n",
    "    import h5py\n",
    "\n",
    "    file = (\n",
    "        \"../data_examples/nonlinear_drift_correction_synthetic_dataset_for_testing.mat\"\n",
    "    )\n",
    "    f = h5py.File(file, mode=\"r\")\n",
    "    img1 = f[\"image00deg\"][:]\n",
    "    img2 = f[\"image90deg\"][:]\n",
    "    # img3 = f[\"imageIdeal\"][:]\n",
    "    images = [img1, img2]\n",
    "    angles = [0, 90]\n",
    "\n",
    "else:\n",
    "    print(\"Specified wrong data?\")\n",
    "\n",
    "images = [normalise_max(img) for img in images]\n",
    "print(\"Padding images\")\n",
    "padded_images, weights = pad_images(images, pad_factor=pad_factor)\n",
    "GB = np.round(\n",
    "    float(np.prod(np.shape(padded_images)))\n",
    "    * shear_steps\n",
    "    * scale_steps\n",
    "    * padded_images[0].dtype.itemsize\n",
    "    / 1e9,\n",
    "    2,\n",
    ")  # 32 bytes per complex64\n",
    "\n",
    "print(\"Estimating memory usage of {}GB\".format(GB))\n",
    "# Set the various sheares, scales, first in terms of range\n",
    "sheares, scales = set_shear_and_scale_ranges(\n",
    "    padded_images[0].shape, shear_steps=shear_steps, scale_steps=scale_steps, pix=2\n",
    ")\n",
    "# Then in terms of transform matrices\n",
    "print(\"Calculating transform matrices\")\n",
    "transform_matrices = set_transform_matrices(angles, sheares, scales)\n",
    "\n",
    "rotation_matrices, shear_matrices, scale_matrices = transform_matrices\n",
    "\n",
    "# Scale and shear the masked data\n",
    "print(\"Transforming data\")\n",
    "data = transform(\n",
    "    padded_images, rotation_matrices, shear_matrices, scale_matrices, weights=weights\n",
    ")\n",
    "\n",
    "data = data.astype(\"float32\")\n",
    "\n",
    "data = data.reshape((len(padded_images), -1) + padded_images[0].shape)\n",
    "data = data.swapaxes(0, 1)\n",
    "\n",
    "print(\"Preparing correlation data\")\n",
    "correlation_data = prepare_correlation_data(\n",
    "    data, weights, method=correlation_method, gpu=gpu\n",
    ")\n",
    "\n",
    "print(\"Correlating\")\n",
    "max_indexes, shifts_list = correlate_images(\n",
    "    correlation_data, method=correlation_method, gpu=gpu\n",
    ")\n",
    "# Plot masked images\n",
    "print(\"Calculating final images\")\n",
    "data2 = np.array(data).swapaxes(0, 1)\n",
    "image_sums = []\n",
    "\n",
    "for i, img_array in enumerate(data2[1:]):\n",
    "    max_index = int(max_indexes[i])\n",
    "    img1 = data2[0, max_index]\n",
    "    img2 = img_array[max_index]\n",
    "    shift = shifts_list[i][max_index]\n",
    "    img2_shifted = np.fft.ifftn(fourier_shift(fft2(img2), shift)).real\n",
    "    image_sums.append(img1 + img2_shifted)\n",
    "    print(\"Image drifted ({}, {}) pixels since first frame\".format(shift[0], shift[1]))\n",
    "# fig, AX = plt.subplots(ncols=len(padded_images) - 1, squeeze=False)\n",
    "# for i, ax in enumerate(np.reshape(AX, np.prod(AX.shape))):\n",
    "#     ax.imshow(image_sums[i], cmap=\"viridis\")\n",
    "#     ax.axis(\"off\")\n",
    "\n",
    "i1, i2 = plot_transformed_images(\n",
    "    padded_images,\n",
    "    angles,\n",
    "    shifts_list,\n",
    "    max_indexes,\n",
    "    sheares,\n",
    "    scales,\n",
    "    shear_steps,\n",
    "    scale_steps,\n",
    ")\n",
    "\n",
    "print(\"--- %s seconds ---\" % (time.time() - start_time))"
   ]
  },
  {
   "cell_type": "code",
   "execution_count": 2,
   "metadata": {},
   "outputs": [],
   "source": [
    "from tqdm.auto import tqdm"
   ]
  },
  {
   "cell_type": "code",
   "execution_count": 7,
   "metadata": {},
   "outputs": [
    {
     "data": {
      "application/vnd.jupyter.widget-view+json": {
       "model_id": "4e23e69b0a684ebd8d062049aac56112",
       "version_major": 2,
       "version_minor": 0
      },
      "text/plain": [
       "Canvas(toolbar=Toolbar(toolitems=[('Home', 'Reset original view', 'home', 'home'), ('Back', 'Back to previous …"
      ]
     },
     "metadata": {},
     "output_type": "display_data"
    },
    {
     "data": {
      "text/plain": [
       "<matplotlib.image.AxesImage at 0x23d4abc9dd8>"
      ]
     },
     "execution_count": 7,
     "metadata": {},
     "output_type": "execute_result"
    }
   ],
   "source": [
    "plt.figure()\n",
    "plt.imshow(data2[1,0])\n",
    "    "
   ]
  },
  {
   "cell_type": "code",
   "execution_count": 28,
   "metadata": {},
   "outputs": [],
   "source": [
    "I1, I2 = i1.copy(), i2.copy()"
   ]
  },
  {
   "cell_type": "code",
   "execution_count": 29,
   "metadata": {},
   "outputs": [
    {
     "data": {
      "application/vnd.jupyter.widget-view+json": {
       "model_id": "",
       "version_major": 2,
       "version_minor": 0
      },
      "text/plain": [
       "Canvas(toolbar=Toolbar(toolitems=[('Home', 'Reset original view', 'home', 'home'), ('Back', 'Back to previous …"
      ]
     },
     "metadata": {},
     "output_type": "display_data"
    },
    {
     "data": {
      "application/vnd.jupyter.widget-view+json": {
       "model_id": "846f1b71e637406dbf56dd12aa87547d",
       "version_major": 2,
       "version_minor": 0
      },
      "text/plain": [
       "HBox(children=(IntProgress(value=0, max=512), HTML(value='')))"
      ]
     },
     "metadata": {},
     "output_type": "display_data"
    },
    {
     "name": "stdout",
     "output_type": "stream",
     "text": [
      "\n"
     ]
    }
   ],
   "source": [
    "fig, ax = plt.subplots()\n",
    "row_indices = np.nonzero(i1.mean(axis=1))[0]\n",
    "\n",
    "rollrange = np.arange(-5, 5, 1)\n",
    "for row_index in tqdm(row_indices):\n",
    "    diff = []\n",
    "    row2 = I2[row_index]\n",
    "    for roll in rollrange:\n",
    "        temprow = I1[row_index].copy()\n",
    "        temprow = np.roll(temprow, roll)\n",
    "        \n",
    "        nonzeromask = (temprow > 0) & (row2 > 0)\n",
    "        \n",
    "        meansquare = np.mean(np.abs((temprow[nonzeromask] - row2[nonzeromask])))\n",
    "        diff.append(meansquare)\n",
    "    \n",
    "    diff_norm = diff/np.max(diff)\n",
    "    ax.plot(rollrange, diff_norm)\n",
    "    best_roll = rollrange[np.argmin(diff_norm)] if diff_norm.min() < 0.5 else 0\n",
    "    I1[row_index] = np.roll(I1[row_index], best_roll)"
   ]
  },
  {
   "cell_type": "code",
   "execution_count": 30,
   "metadata": {},
   "outputs": [
    {
     "data": {
      "application/vnd.jupyter.widget-view+json": {
       "model_id": "",
       "version_major": 2,
       "version_minor": 0
      },
      "text/plain": [
       "Canvas(toolbar=Toolbar(toolitems=[('Home', 'Reset original view', 'home', 'home'), ('Back', 'Back to previous …"
      ]
     },
     "metadata": {},
     "output_type": "display_data"
    },
    {
     "data": {
      "application/vnd.jupyter.widget-view+json": {
       "model_id": "156bb196fa75417f9f8cc4bebb108e56",
       "version_major": 2,
       "version_minor": 0
      },
      "text/plain": [
       "HBox(children=(IntProgress(value=0, max=664), HTML(value='')))"
      ]
     },
     "metadata": {},
     "output_type": "display_data"
    },
    {
     "name": "stderr",
     "output_type": "stream",
     "text": [
      "C:\\Users\\Me\\Miniconda3\\envs\\py37\\lib\\site-packages\\numpy\\core\\fromnumeric.py:3118: RuntimeWarning: Mean of empty slice.\n",
      "  out=out, **kwargs)\n",
      "C:\\Users\\Me\\Miniconda3\\envs\\py37\\lib\\site-packages\\numpy\\core\\_methods.py:85: RuntimeWarning: invalid value encountered in double_scalars\n",
      "  ret = ret.dtype.type(ret / rcount)\n"
     ]
    },
    {
     "name": "stdout",
     "output_type": "stream",
     "text": [
      "\n"
     ]
    }
   ],
   "source": [
    "fig, ax = plt.subplots()\n",
    "col_indices = np.nonzero(i2.mean(axis=0))[0]\n",
    "\n",
    "rollrange = np.arange(-5, 5, 1)\n",
    "for col_index in tqdm(col_indices):\n",
    "    diff = []\n",
    "    col1 = I1[:,col_index]\n",
    "    for roll in rollrange:\n",
    "        tempcol = I2[:,col_index].copy()\n",
    "        tempcol = np.roll(tempcol, roll)\n",
    "        \n",
    "        nonzeromask = (tempcol > 0) & (col1 > 0)\n",
    "\n",
    "        meansquare = np.mean(np.abs((tempcol[nonzeromask] - col1[nonzeromask])))\n",
    "        diff.append(meansquare)\n",
    "    \n",
    "    diff_norm = diff/np.max(diff)\n",
    "    ax.plot(rollrange, diff_norm)\n",
    "    best_roll = rollrange[np.argmin(diff_norm)] if diff_norm.min() < 0.5 else 0\n",
    "    I2[:,col_index] = np.roll(I2[:,col_index], best_roll)"
   ]
  },
  {
   "cell_type": "code",
   "execution_count": 27,
   "metadata": {},
   "outputs": [
    {
     "data": {
      "application/vnd.jupyter.widget-view+json": {
       "model_id": "",
       "version_major": 2,
       "version_minor": 0
      },
      "text/plain": [
       "Canvas(toolbar=Toolbar(toolitems=[('Home', 'Reset original view', 'home', 'home'), ('Back', 'Back to previous …"
      ]
     },
     "metadata": {},
     "output_type": "display_data"
    },
    {
     "data": {
      "application/vnd.jupyter.widget-view+json": {
       "model_id": "",
       "version_major": 2,
       "version_minor": 0
      },
      "text/plain": [
       "Canvas(toolbar=Toolbar(toolitems=[('Home', 'Reset original view', 'home', 'home'), ('Back', 'Back to previous …"
      ]
     },
     "metadata": {},
     "output_type": "display_data"
    },
    {
     "data": {
      "text/plain": [
       "<matplotlib.image.AxesImage at 0x1dfcda29588>"
      ]
     },
     "execution_count": 27,
     "metadata": {},
     "output_type": "execute_result"
    }
   ],
   "source": [
    "fig, AX = plt.subplots(ncols=2, nrows=2)\n",
    "ax1, ax2, ax3, ax4 = AX.flatten()\n",
    "ax1.imshow(i1)\n",
    "ax2.imshow(I1)\n",
    "ax3.imshow(i2)\n",
    "ax4.imshow(I2)\n",
    "\n",
    "fig, (ax1, ax2) = plt.subplots(ncols=2)\n",
    "ax1.imshow(i1)\n",
    "ax2.imshow(I1)"
   ]
  },
  {
   "cell_type": "code",
   "execution_count": 48,
   "metadata": {},
   "outputs": [],
   "source": [
    "scale = signals[0].axes_manager[0].scale\n",
    "units = signals[0].axes_manager[0].units\n",
    "\n",
    "s = hs.signals.Signal2D(i1+i2)\n",
    "for ax, ax_orig in zip(s.axes_manager._axes, signals[0].axes_manager._axes):\n",
    "    ax.scale = ax_orig.scale\n",
    "    ax.units = ax_orig.units\n",
    "    ax_orig.name = ax_orig.name"
   ]
  },
  {
   "cell_type": "code",
   "execution_count": 50,
   "metadata": {},
   "outputs": [],
   "source": [
    "def log(s):\n",
    "     return np.log(s.fft(shift=True, apodization=True).amplitude)"
   ]
  },
  {
   "cell_type": "code",
   "execution_count": 51,
   "metadata": {},
   "outputs": [
    {
     "data": {
      "application/vnd.jupyter.widget-view+json": {
       "model_id": "1b03e8f5602e4260a3e820f029d0dad8",
       "version_major": 2,
       "version_minor": 0
      },
      "text/plain": [
       "Canvas(toolbar=Toolbar(toolitems=[('Home', 'Reset original view', 'home', 'home'), ('Back', 'Back to previous …"
      ]
     },
     "metadata": {},
     "output_type": "display_data"
    },
    {
     "data": {
      "text/plain": [
       "[<matplotlib.axes._subplots.AxesSubplot at 0x252615b5b38>,\n",
       " <matplotlib.axes._subplots.AxesSubplot at 0x252618f13c8>]"
      ]
     },
     "execution_count": 51,
     "metadata": {},
     "output_type": "execute_result"
    }
   ],
   "source": [
    "hs.plot.plot_images([log(s), log(signals[0])])"
   ]
  },
  {
   "cell_type": "code",
   "execution_count": 32,
   "metadata": {},
   "outputs": [
    {
     "data": {
      "application/vnd.jupyter.widget-view+json": {
       "model_id": "3b581ba4efff460a888c62695be48898",
       "version_major": 2,
       "version_minor": 0
      },
      "text/plain": [
       "Canvas(toolbar=Toolbar(toolitems=[('Home', 'Reset original view', 'home', 'home'), ('Back', 'Back to previous …"
      ]
     },
     "metadata": {},
     "output_type": "display_data"
    },
    {
     "data": {
      "text/plain": [
       "[<matplotlib.lines.Line2D at 0x252632247b8>]"
      ]
     },
     "execution_count": 32,
     "metadata": {},
     "output_type": "execute_result"
    }
   ],
   "source": []
  },
  {
   "cell_type": "code",
   "execution_count": 23,
   "metadata": {},
   "outputs": [
    {
     "data": {
      "text/plain": [
       "[0.01034282262505044,\n",
       " 0.010341032086210292,\n",
       " 0.0103394161422629,\n",
       " 0.010337268058566544,\n",
       " 0.010334976755118878,\n",
       " 0.010332069531845206,\n",
       " 0.010329426676503014,\n",
       " 0.010325663092799767,\n",
       " 0.01032250077622829,\n",
       " 0.010318944721737226,\n",
       " 0.010315684938124766,\n",
       " 0.01031335500782157,\n",
       " 0.010311510306817732,\n",
       " 0.010310401852147958,\n",
       " 0.010310428965563707,\n",
       " 0.010310437774838971,\n",
       " 0.010310731262247326,\n",
       " 0.010310650079380802,\n",
       " 0.010309863096337265,\n",
       " 0.010312525023922383]"
      ]
     },
     "execution_count": 23,
     "metadata": {},
     "output_type": "execute_result"
    }
   ],
   "source": [
    "diff"
   ]
  },
  {
   "cell_type": "code",
   "execution_count": 7,
   "metadata": {},
   "outputs": [],
   "source": [
    "A = np.array([[1,2,3], [4,5,6]])"
   ]
  },
  {
   "cell_type": "code",
   "execution_count": 8,
   "metadata": {},
   "outputs": [
    {
     "data": {
      "text/plain": [
       "array([1, 2, 3])"
      ]
     },
     "execution_count": 8,
     "metadata": {},
     "output_type": "execute_result"
    }
   ],
   "source": [
    "A[0]"
   ]
  },
  {
   "cell_type": "code",
   "execution_count": 6,
   "metadata": {},
   "outputs": [
    {
     "data": {
      "text/plain": [
       "array([[3, 1, 2],\n",
       "       [6, 4, 5]])"
      ]
     },
     "execution_count": 6,
     "metadata": {},
     "output_type": "execute_result"
    }
   ],
   "source": [
    "np.roll(, 1, 1)"
   ]
  },
  {
   "cell_type": "code",
   "execution_count": 2,
   "metadata": {},
   "outputs": [
    {
     "data": {
      "text/plain": [
       "array([[0., 0., 0., ..., 0., 0., 0.],\n",
       "       [0., 0., 0., ..., 0., 0., 0.],\n",
       "       [0., 0., 0., ..., 0., 0., 0.],\n",
       "       ...,\n",
       "       [0., 0., 0., ..., 0., 0., 0.],\n",
       "       [0., 0., 0., ..., 0., 0., 0.],\n",
       "       [0., 0., 0., ..., 0., 0., 0.]])"
      ]
     },
     "execution_count": 2,
     "metadata": {},
     "output_type": "execute_result"
    }
   ],
   "source": [
    "i1"
   ]
  }
 ],
 "metadata": {
  "kernelspec": {
   "display_name": "Python 3",
   "language": "python",
   "name": "python3"
  },
  "language_info": {
   "codemirror_mode": {
    "name": "ipython",
    "version": 3
   },
   "file_extension": ".py",
   "mimetype": "text/x-python",
   "name": "python",
   "nbconvert_exporter": "python",
   "pygments_lexer": "ipython3",
   "version": "3.7.3"
  }
 },
 "nbformat": 4,
 "nbformat_minor": 4
}
