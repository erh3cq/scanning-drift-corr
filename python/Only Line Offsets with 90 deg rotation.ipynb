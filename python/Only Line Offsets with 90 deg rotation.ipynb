{
 "cells": [
  {
   "cell_type": "code",
   "execution_count": null,
   "metadata": {},
   "outputs": [],
   "source": [
    "%matplotlib widget"
   ]
  },
  {
   "cell_type": "code",
   "execution_count": null,
   "metadata": {},
   "outputs": [],
   "source": [
    "from genSTEM import ImageModel\n",
    "import cupy as cp\n",
    "import numpy as np\n",
    "import matplotlib.pyplot as plt\n",
    "from ase.io import read\n",
    "from ase.build import make_supercell\n",
    "atoms = read(r\"C:\\Users\\thomasaar\\Downloads\\imeall-master\\imeall\\examples\\boundary_interstitials\\0013687130_v6bxv2_tv0.1bxv0.0_d1.8z_traj.xyz\")\n",
    "atoms = make_supercell(atoms, np.diag((1,2,1)))\n",
    "mask = atoms.positions[:,2] > 35\n",
    "del atoms[mask]\n",
    "atoms.rotate([1,0,0], (0,0,1))"
   ]
  },
  {
   "cell_type": "code",
   "execution_count": 1,
   "metadata": {},
   "outputs": [
    {
     "ename": "NameError",
     "evalue": "name 'ImageModel' is not defined",
     "output_type": "error",
     "traceback": [
      "\u001b[1;31m---------------------------------------------------------------------------\u001b[0m",
      "\u001b[1;31mNameError\u001b[0m                                 Traceback (most recent call last)",
      "\u001b[1;32m<ipython-input-1-00829b04cdda>\u001b[0m in \u001b[0;36m<module>\u001b[1;34m\u001b[0m\n\u001b[0;32m      1\u001b[0m \u001b[0mjitter\u001b[0m \u001b[1;33m=\u001b[0m \u001b[1;36m3\u001b[0m\u001b[1;33m\u001b[0m\u001b[1;33m\u001b[0m\u001b[0m\n\u001b[0;32m      2\u001b[0m \u001b[1;33m\u001b[0m\u001b[0m\n\u001b[1;32m----> 3\u001b[1;33m m1 = ImageModel(atoms, \n\u001b[0m\u001b[0;32m      4\u001b[0m                 \u001b[0mjitter_strength\u001b[0m\u001b[1;33m=\u001b[0m\u001b[0mjitter\u001b[0m\u001b[1;33m,\u001b[0m\u001b[1;33m\u001b[0m\u001b[1;33m\u001b[0m\u001b[0m\n\u001b[0;32m      5\u001b[0m                 scan_rotation=0)\n",
      "\u001b[1;31mNameError\u001b[0m: name 'ImageModel' is not defined"
     ]
    }
   ],
   "source": [
    "jitter = 3\n",
    "\n",
    "m1 = ImageModel(atoms, \n",
    "                jitter_strength=jitter, \n",
    "                scan_rotation=0)\n",
    "img1 = m1.generate_cupy()\n",
    "\n",
    "m2 = ImageModel(atoms, \n",
    "                jitter_strength=jitter, \n",
    "                scan_rotation=90)\n",
    "img2 = m2.generate_cupy()\n",
    "\n",
    "img2 = cp.rot90(img2, 3)\n",
    "side = np.minimum(*img1.shape)\n",
    "\n",
    "img1 = img1[:side, :side]\n",
    "img2 = img2[:side, :side]\n"
   ]
  },
  {
   "cell_type": "code",
   "execution_count": null,
   "metadata": {},
   "outputs": [],
   "source": [
    "fig, (ax1, ax2) = plt.subplots(ncols=2)\n",
    "ax1.imshow(img1.get())\n",
    "ax2.imshow(img2.get())"
   ]
  },
  {
   "cell_type": "code",
   "execution_count": 83,
   "metadata": {},
   "outputs": [],
   "source": [
    "hamm = np.hamming(img1.shape[0])\n",
    "window = hamm[:, None] * hamm\n",
    "\n",
    "def hybrid_correlation(img1, img2, p=0.9, filter=True):\n",
    "    if filter:\n",
    "        hamm = cp.hamming(img1.shape[0])\n",
    "        window = hamm[:, None] * hamm\n",
    "        img1 = img1 * window\n",
    "        img2 = img2 * window\n",
    "\n",
    "    fftimg1 = cp.fft.fft2(img1)\n",
    "    fftimg2 = cp.fft.fft2(img2)\n",
    "    m = fftimg1 * cp.conj(fftimg2)\n",
    "    corr =  cp.real(cp.fft.ifft2(cp.abs(m)**p * cp.exp(1j * cp.angle(m))))\n",
    "    corr = cp.fft.fftshift(corr)\n",
    "    translation = cp.array(cp.unravel_index(corr.argmax(), corr.shape))\n",
    "    center = cp.array(corr.shape) // 2\n",
    "    return tuple(x for x in translation - center)\n",
    "\n",
    "def translate(img, shift):\n",
    "    return cp.roll(img, shift, axis=(0,1))"
   ]
  },
  {
   "cell_type": "code",
   "execution_count": 84,
   "metadata": {},
   "outputs": [
    {
     "data": {
      "application/vnd.jupyter.widget-view+json": {
       "model_id": "d741506fee524b10bdc57b4b29e848f1",
       "version_major": 2,
       "version_minor": 0
      },
      "text/plain": [
       "Canvas(toolbar=Toolbar(toolitems=[('Home', 'Reset original view', 'home', 'home'), ('Back', 'Back to previous …"
      ]
     },
     "metadata": {},
     "output_type": "display_data"
    },
    {
     "data": {
      "text/plain": [
       "<matplotlib.image.AxesImage at 0x24db7f997f0>"
      ]
     },
     "execution_count": 84,
     "metadata": {},
     "output_type": "execute_result"
    }
   ],
   "source": [
    "img2b = translate(img2, hybrid_correlation(img1, img2))\n",
    "plt.figure()\n",
    "plt.imshow((img1 + img2b).get())"
   ]
  },
  {
   "cell_type": "code",
   "execution_count": 78,
   "metadata": {},
   "outputs": [],
   "source": [
    "I2 = img1.get()\n",
    "I2 = img2.get()"
   ]
  },
  {
   "cell_type": "code",
   "execution_count": 24,
   "metadata": {},
   "outputs": [],
   "source": [
    "from scipy.ndimage import fourier_shift"
   ]
  },
  {
   "cell_type": "code",
   "execution_count": 56,
   "metadata": {},
   "outputs": [
    {
     "data": {
      "application/vnd.jupyter.widget-view+json": {
       "model_id": "92c6f55b7f584be5bfe77e3901ec82e4",
       "version_major": 2,
       "version_minor": 0
      },
      "text/plain": [
       "Canvas(toolbar=Toolbar(toolitems=[('Home', 'Reset original view', 'home', 'home'), ('Back', 'Back to previous …"
      ]
     },
     "metadata": {},
     "output_type": "display_data"
    },
    {
     "data": {
      "text/plain": [
       "<matplotlib.image.AxesImage at 0x24db5bb0220>"
      ]
     },
     "execution_count": 56,
     "metadata": {},
     "output_type": "execute_result"
    }
   ],
   "source": [
    "I1, I2 = img1.get(), img2.get()\n",
    "I3 = np.fft.ifft2(fourier_shift(np.fft.fft2(I2), S)).real\n",
    "I4 = np.roll(I2, S[0], axis=0)\n",
    "I4 = np.roll(I4, S[1], axis=1)\n",
    "I4 = np.roll(I2, S, axis=(0,1))\n",
    "I5 = scipy.ndimage.shift(I2, S)\n",
    "\n",
    "plt.figure()\n",
    "plt.imshow(I1 + I4)"
   ]
  },
  {
   "cell_type": "code",
   "execution_count": 55,
   "metadata": {},
   "outputs": [],
   "source": [
    "I4 = np.roll(I2, S, axis=(0,1))\n"
   ]
  },
  {
   "cell_type": "code",
   "execution_count": 29,
   "metadata": {},
   "outputs": [
    {
     "data": {
      "application/vnd.jupyter.widget-view+json": {
       "model_id": "ed563126beb64a47afe9da951fd5f75a",
       "version_major": 2,
       "version_minor": 0
      },
      "text/plain": [
       "Canvas(toolbar=Toolbar(toolitems=[('Home', 'Reset original view', 'home', 'home'), ('Back', 'Back to previous …"
      ]
     },
     "metadata": {},
     "output_type": "display_data"
    },
    {
     "data": {
      "text/plain": [
       "<matplotlib.image.AxesImage at 0x24db1f36910>"
      ]
     },
     "execution_count": 29,
     "metadata": {},
     "output_type": "execute_result"
    }
   ],
   "source": [
    "plt.figure()\n",
    "plt.imshow(I2)"
   ]
  },
  {
   "cell_type": "code",
   "execution_count": null,
   "metadata": {},
   "outputs": [],
   "source": [
    "corr = scipy.signal.correlate2d(img1.get(), img2.get())"
   ]
  },
  {
   "cell_type": "code",
   "execution_count": 237,
   "metadata": {},
   "outputs": [
    {
     "data": {
      "application/vnd.jupyter.widget-view+json": {
       "model_id": "6e1fb871ca2e4769b6e03de17d8fc57b",
       "version_major": 2,
       "version_minor": 0
      },
      "text/plain": [
       "Canvas(toolbar=Toolbar(toolitems=[('Home', 'Reset original view', 'home', 'home'), ('Back', 'Back to previous …"
      ]
     },
     "metadata": {},
     "output_type": "display_data"
    },
    {
     "data": {
      "text/plain": [
       "<matplotlib.image.AxesImage at 0x29a053f7490>"
      ]
     },
     "execution_count": 237,
     "metadata": {},
     "output_type": "execute_result"
    }
   ],
   "source": [
    "plt.figure()\n",
    "plt.imshow(window)"
   ]
  },
  {
   "cell_type": "code",
   "execution_count": null,
   "metadata": {},
   "outputs": [],
   "source": [
    "window = "
   ]
  },
  {
   "cell_type": "code",
   "execution_count": 13,
   "metadata": {},
   "outputs": [
    {
     "name": "stdout",
     "output_type": "stream",
     "text": [
      "957 µs ± 22.6 µs per loop (mean ± std. dev. of 7 runs, 1000 loops each)\n",
      "2.92 ms ± 84.9 µs per loop (mean ± std. dev. of 7 runs, 100 loops each)\n"
     ]
    }
   ],
   "source": [
    "data = np.random.random((300, 300))\n",
    "%timeit np.real(np.fft.ifft(data))\n",
    "%timeit np.fft.irfft(data)"
   ]
  },
  {
   "cell_type": "code",
   "execution_count": 18,
   "metadata": {},
   "outputs": [],
   "source": [
    "from py4DSTEM.process.utils import get_maxima_2D"
   ]
  },
  {
   "cell_type": "code",
   "execution_count": null,
   "metadata": {},
   "outputs": [],
   "source": []
  },
  {
   "cell_type": "code",
   "execution_count": null,
   "metadata": {},
   "outputs": [],
   "source": [
    "get_maxima_2D()"
   ]
  },
  {
   "cell_type": "code",
   "execution_count": 19,
   "metadata": {},
   "outputs": [],
   "source": [
    "# a = np.real(np.fft.ifft(data))\n",
    "# b = np.fft.irfft(data)\n",
    "# np.testing.assert_array_almost_equal(a, b)"
   ]
  },
  {
   "cell_type": "code",
   "execution_count": 15,
   "metadata": {},
   "outputs": [
    {
     "data": {
      "text/plain": [
       "(300, 300)"
      ]
     },
     "execution_count": 15,
     "metadata": {},
     "output_type": "execute_result"
    }
   ],
   "source": [
    "a.shape"
   ]
  },
  {
   "cell_type": "code",
   "execution_count": 16,
   "metadata": {},
   "outputs": [
    {
     "data": {
      "text/plain": [
       "(300, 598)"
      ]
     },
     "execution_count": 16,
     "metadata": {},
     "output_type": "execute_result"
    }
   ],
   "source": [
    "b.shape"
   ]
  },
  {
   "cell_type": "code",
   "execution_count": 5,
   "metadata": {},
   "outputs": [
    {
     "data": {
      "application/vnd.jupyter.widget-view+json": {
       "model_id": "01a210e58ab749d8804d4a8a0397efe8",
       "version_major": 2,
       "version_minor": 0
      },
      "text/plain": [
       "Canvas(toolbar=Toolbar(toolitems=[('Home', 'Reset original view', 'home', 'home'), ('Back', 'Back to previous …"
      ]
     },
     "metadata": {},
     "output_type": "display_data"
    },
    {
     "data": {
      "text/plain": [
       "<matplotlib.image.AxesImage at 0x29a3a045b80>"
      ]
     },
     "execution_count": 5,
     "metadata": {},
     "output_type": "execute_result"
    }
   ],
   "source": [
    "import matplotlib.pyplot as plt\n",
    "fig, (ax1, ax2) = plt.subplots(ncols=2, figsize=(10,10))\n",
    "ax1.imshow(cp.asnumpy(img1))\n",
    "ax2.imshow(cp.asnumpy(cp.rot90(img2, 3)))"
   ]
  },
  {
   "cell_type": "code",
   "execution_count": null,
   "metadata": {},
   "outputs": [],
   "source": [
    "m.generate_cupy(jitt)"
   ]
  }
 ],
 "metadata": {
  "kernelspec": {
   "display_name": "Python 3",
   "language": "python",
   "name": "python3"
  },
  "language_info": {
   "codemirror_mode": {
    "name": "ipython",
    "version": 3
   },
   "file_extension": ".py",
   "mimetype": "text/x-python",
   "name": "python",
   "nbconvert_exporter": "python",
   "pygments_lexer": "ipython3",
   "version": "3.8.5"
  }
 },
 "nbformat": 4,
 "nbformat_minor": 4
}
