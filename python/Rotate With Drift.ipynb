{
 "cells": [
  {
   "cell_type": "code",
   "execution_count": 1,
   "metadata": {},
   "outputs": [],
   "source": [
    "%matplotlib inline"
   ]
  },
  {
   "cell_type": "code",
   "execution_count": 1,
   "metadata": {},
   "outputs": [],
   "source": [
    "from genSTEM import ImageModel\n",
    "#import cupy as cp\n",
    "import numpy as np\n",
    "import scipy\n",
    "cp = np\n",
    "import matplotlib.pyplot as plt\n",
    "from ase.io import read\n",
    "from ase.build import make_supercell\n",
    "atoms = read(\"0013687130_v6bxv2_tv0.1bxv0.0_d1.8z_traj.xyz\")\n",
    "atoms = make_supercell(atoms, np.diag((1,2,1)))\n",
    "mask = atoms.positions[:,2] > 35\n",
    "del atoms[mask]\n",
    "atoms.rotate([1,0,0], (0,0,1))\n",
    "\n",
    "from skimage.transform import warp\n",
    "from matplotlib.transforms import Affine2D\n",
    "\n",
    "atoms[1716].number = 60\n",
    "atoms[1766].number = 60"
   ]
  },
  {
   "cell_type": "code",
   "execution_count": 40,
   "metadata": {},
   "outputs": [],
   "source": [
    "from ase.visualize import view"
   ]
  },
  {
   "cell_type": "code",
   "execution_count": 41,
   "metadata": {},
   "outputs": [],
   "source": [
    "view(atoms)"
   ]
  },
  {
   "cell_type": "code",
   "execution_count": 2,
   "metadata": {},
   "outputs": [
    {
     "name": "stdout",
     "output_type": "stream",
     "text": [
      "Wall time: 1.44 s\n"
     ]
    }
   ],
   "source": [
    "%%time\n",
    "jitter = 0\n",
    "\n",
    "pixel_size = 0.2\n",
    "drift_strength = 1e-4\n",
    "drift_vector = [1,0]\n",
    "centre_drift = True\n",
    "\n",
    "scanangle1 = 0.0\n",
    "scanangle2 = 90.0\n",
    "\n",
    "m0 = ImageModel(atoms, pixel_size=pixel_size, vacuum=10.,\n",
    "                scan_rotation=0, centre_drift=centre_drift)\n",
    "img0 = m0.generate_cupy()\n",
    "\n",
    "m1 = ImageModel(atoms,  pixel_size=pixel_size, vacuum=10.,\n",
    "                drift_strength=drift_strength, \n",
    "                drift_vector=drift_vector,\n",
    "                jitter_strength=jitter, \n",
    "                scan_rotation=scanangle1, centre_drift=centre_drift)\n",
    "img1 = m1.generate_cupy()\n",
    "\n",
    "\n",
    "m2 = ImageModel(atoms,  pixel_size=pixel_size, vacuum=10.,\n",
    "                jitter_strength=jitter, \n",
    "                drift_vector=drift_vector,\n",
    "                drift_strength=drift_strength, \n",
    "                scan_rotation=scanangle2, centre_drift=centre_drift)\n",
    "img2 = m2.generate_cupy()\n",
    "\n",
    "try:\n",
    "    img0 = img0.get()\n",
    "    img1 = img1.get()\n",
    "    img2 = img2.get()\n",
    "except:\n",
    "    pass\n",
    "\n",
    "side = np.minimum(*img1.shape)\n",
    "\n",
    "img1 = img1[:side, :side]\n",
    "img2 = img2[:side, :side]"
   ]
  },
  {
   "cell_type": "code",
   "execution_count": 3,
   "metadata": {},
   "outputs": [
    {
     "data": {
      "application/vnd.jupyter.widget-view+json": {
       "model_id": "ec9a6a9a50a54bc5a2eb81766ca7f686",
       "version_major": 2,
       "version_minor": 0
      },
      "text/plain": [
       "Canvas(toolbar=Toolbar(toolitems=[('Home', 'Reset original view', 'home', 'home'), ('Back', 'Back to previous …"
      ]
     },
     "metadata": {},
     "output_type": "display_data"
    },
    {
     "data": {
      "text/plain": [
       "Text(0.5, 1.0, '-> Drift\\n90 degree scan')"
      ]
     },
     "execution_count": 3,
     "metadata": {},
     "output_type": "execute_result"
    }
   ],
   "source": [
    "%matplotlib widget\n",
    "fig, (ax1, ax2, ax3) = plt.subplots(ncols=3)\n",
    "ax1.imshow(img0)\n",
    "ax2.imshow(scipy.ndimage.rotate(img1, angle=-scanangle1, reshape=False))\n",
    "ax3.imshow(scipy.ndimage.rotate(img2, angle=-scanangle2, reshape=False))\n",
    "\n",
    "ax1.set_title(\"No Drift\")\n",
    "ax2.set_title(\"-> Drift\\n0 degree scan\")\n",
    "ax3.set_title(\"-> Drift\\n90 degree scan\")"
   ]
  },
  {
   "cell_type": "code",
   "execution_count": 4,
   "metadata": {},
   "outputs": [],
   "source": [
    "# shift_x, shift_y = np.array(img2.shape) / 2\n",
    "# plt.figure()\n",
    "# T = (\n",
    "#     Affine2D()\n",
    "#     .translate(-shift_x, -shift_y)\n",
    "#     #.skew(0,-0.31)\n",
    "#     .scale(1 + 0.31,1)\n",
    "#     .translate(shift_x, shift_y)\n",
    "# )\n",
    "# plt.imshow(affine_transform(img2, np.linalg.inv(T)))"
   ]
  },
  {
   "cell_type": "code",
   "execution_count": 5,
   "metadata": {},
   "outputs": [],
   "source": [
    "from scipy.ndimage import affine_transform"
   ]
  },
  {
   "cell_type": "code",
   "execution_count": 6,
   "metadata": {},
   "outputs": [
    {
     "data": {
      "text/plain": [
       "<module 'genSTEM.Model' from 'c:\\\\users\\\\thomasaar\\\\documents\\\\github\\\\generate_scan_distorted_stem\\\\genstem\\\\genSTEM\\\\Model.py'>"
      ]
     },
     "execution_count": 6,
     "metadata": {},
     "output_type": "execute_result"
    }
   ],
   "source": [
    "from importlib import reload\n",
    "from genSTEM import Model\n",
    "reload(Model)"
   ]
  },
  {
   "cell_type": "code",
   "execution_count": 7,
   "metadata": {},
   "outputs": [
    {
     "data": {
      "application/vnd.jupyter.widget-view+json": {
       "model_id": "e1f780d9c87d443f959f37a9ec20034e",
       "version_major": 2,
       "version_minor": 0
      },
      "text/plain": [
       "Canvas(toolbar=Toolbar(toolitems=[('Home', 'Reset original view', 'home', 'home'), ('Back', 'Back to previous …"
      ]
     },
     "metadata": {},
     "output_type": "display_data"
    },
    {
     "data": {
      "text/plain": [
       "(-0.9500000000000023,\n",
       " 19.950000000000003,\n",
       " 19.950000000000017,\n",
       " -0.9500000000000056)"
      ]
     },
     "execution_count": 7,
     "metadata": {},
     "output_type": "execute_result"
    }
   ],
   "source": [
    "\n",
    "pos0 = Model.drift_pointsYX((20, 20), drift_strength=0)\n",
    "pos1 = Model.drift_pointsYX((20, 20), drift_strength=drift_strength)\n",
    "m = Model.get_matrix(pos0, pos1)\n",
    "\n",
    "fig, AX = plt.subplots(ncols=2, nrows=2)\n",
    "(ax1, ax2, ax3, ax4) = AX.flatten()\n",
    "\n",
    "x, y = pos1.T\n",
    "ax1.imshow(img1)\n",
    "ax2.scatter(x, y, c=np.arange(len(x)))\n",
    "ax2.invert_yaxis()\n",
    "ax2.axis('equal')\n",
    "\n",
    "x, y = Model.transform_points(pos1, np.linalg.inv(m)).T\n",
    "ax3.imshow(warp(img1, np.linalg.inv(m)))\n",
    "ax4.scatter(x, y, c=np.arange(len(x)))\n",
    "ax4.invert_yaxis()\n",
    "ax4.axis('equal')\n"
   ]
  },
  {
   "cell_type": "code",
   "execution_count": 10,
   "metadata": {},
   "outputs": [
    {
     "data": {
      "application/vnd.jupyter.widget-view+json": {
       "model_id": "e1cce30d664540959e498cef348df99c",
       "version_major": 2,
       "version_minor": 0
      },
      "text/plain": [
       "Canvas(toolbar=Toolbar(toolitems=[('Home', 'Reset original view', 'home', 'home'), ('Back', 'Back to previous …"
      ]
     },
     "metadata": {},
     "output_type": "display_data"
    },
    {
     "data": {
      "application/vnd.jupyter.widget-view+json": {
       "model_id": "4ed919ced6dd4d1c8c0336dcfbb1d805",
       "version_major": 2,
       "version_minor": 0
      },
      "text/plain": [
       "Canvas(toolbar=Toolbar(toolitems=[('Home', 'Reset original view', 'home', 'home'), ('Back', 'Back to previous …"
      ]
     },
     "metadata": {},
     "output_type": "display_data"
    },
    {
     "data": {
      "application/vnd.jupyter.widget-view+json": {
       "model_id": "8fdd6dfa6e844502a81378a4d076d615",
       "version_major": 2,
       "version_minor": 0
      },
      "text/plain": [
       "Canvas(toolbar=Toolbar(toolitems=[('Home', 'Reset original view', 'home', 'home'), ('Back', 'Back to previous …"
      ]
     },
     "metadata": {},
     "output_type": "display_data"
    },
    {
     "data": {
      "application/vnd.jupyter.widget-view+json": {
       "model_id": "4a7549ee26a8405bb5cd14565d49fa21",
       "version_major": 2,
       "version_minor": 0
      },
      "text/plain": [
       "Canvas(toolbar=Toolbar(toolitems=[('Home', 'Reset original view', 'home', 'home'), ('Back', 'Back to previous …"
      ]
     },
     "metadata": {},
     "output_type": "display_data"
    },
    {
     "data": {
      "application/vnd.jupyter.widget-view+json": {
       "model_id": "6628cebd757d49699bacd305533e2d79",
       "version_major": 2,
       "version_minor": 0
      },
      "text/plain": [
       "Canvas(toolbar=Toolbar(toolitems=[('Home', 'Reset original view', 'home', 'home'), ('Back', 'Back to previous …"
      ]
     },
     "metadata": {},
     "output_type": "display_data"
    },
    {
     "data": {
      "application/vnd.jupyter.widget-view+json": {
       "model_id": "7a42702001a5471bb9962c09e7f709d9",
       "version_major": 2,
       "version_minor": 0
      },
      "text/plain": [
       "Canvas(toolbar=Toolbar(toolitems=[('Home', 'Reset original view', 'home', 'home'), ('Back', 'Back to previous …"
      ]
     },
     "metadata": {},
     "output_type": "display_data"
    },
    {
     "data": {
      "application/vnd.jupyter.widget-view+json": {
       "model_id": "da16f8a2b8ef4e4d912a0ad993bfca72",
       "version_major": 2,
       "version_minor": 0
      },
      "text/plain": [
       "Canvas(toolbar=Toolbar(toolitems=[('Home', 'Reset original view', 'home', 'home'), ('Back', 'Back to previous …"
      ]
     },
     "metadata": {},
     "output_type": "display_data"
    },
    {
     "data": {
      "application/vnd.jupyter.widget-view+json": {
       "model_id": "e0baed019dfd4d8c8b01acc63a5ff936",
       "version_major": 2,
       "version_minor": 0
      },
      "text/plain": [
       "Canvas(toolbar=Toolbar(toolitems=[('Home', 'Reset original view', 'home', 'home'), ('Back', 'Back to previous …"
      ]
     },
     "metadata": {},
     "output_type": "display_data"
    },
    {
     "data": {
      "application/vnd.jupyter.widget-view+json": {
       "model_id": "903abf2c5a6d4f9ab15fb949eaa06893",
       "version_major": 2,
       "version_minor": 0
      },
      "text/plain": [
       "Canvas(toolbar=Toolbar(toolitems=[('Home', 'Reset original view', 'home', 'home'), ('Back', 'Back to previous …"
      ]
     },
     "metadata": {},
     "output_type": "display_data"
    },
    {
     "data": {
      "application/vnd.jupyter.widget-view+json": {
       "model_id": "93a7385db4e6481ea10c5cb723b6c0d3",
       "version_major": 2,
       "version_minor": 0
      },
      "text/plain": [
       "Canvas(toolbar=Toolbar(toolitems=[('Home', 'Reset original view', 'home', 'home'), ('Back', 'Back to previous …"
      ]
     },
     "metadata": {},
     "output_type": "display_data"
    }
   ],
   "source": [
    "ylen, xlen = img1.shape\n",
    "shape = (ylen, xlen)\n",
    "shift_y = ylen / 2\n",
    "shift_x = xlen / 2\n",
    "\n",
    "drift_vector = np.array([0, 1])\n",
    "strength = .1 / xlen\n",
    "for strength in np.linspace(0, 1, 10)/xlen:\n",
    "    drift = strength * drift_vector\n",
    "    dy, dx = -drift\n",
    "\n",
    "    M = (\n",
    "        Affine2D()\n",
    "        .translate(-shift_y, -shift_x)\n",
    "        .skew(np.arctan((dx*xlen)/(dy*xlen + 1)), 0)\n",
    "        .translate(shift_y, shift_x)\n",
    "    )\n",
    "\n",
    "    fig, (ax1, ax2) = plt.subplots(ncols=2)\n",
    "    ax1.imshow(img1)\n",
    "    ax2.imshow(warp(img1, np.linalg.inv(M.get_matrix())))"
   ]
  },
  {
   "cell_type": "code",
   "execution_count": 33,
   "metadata": {
    "scrolled": false
   },
   "outputs": [],
   "source": [
    "from importlib import reload\n",
    "from genSTEM import Model\n",
    "reload(Model)\n",
    "from scipy.ndimage import affine_transform\n",
    "imgs1 = []\n",
    "imgs2 = []\n",
    "\n",
    "shift_x, shift_y = np.array(img0.shape) / 2\n",
    "\n",
    "#R = np.arange(0, 0.05, 0.01)\n",
    "R = np.arange(0, 1/img1.shape[0], 0.005/img1.shape[0])\n",
    "#R = np.arange(0.03-0.001, 0.03+0.001, 0.0001)\n",
    "for s in R:\n",
    "    T = Model.transform_from_angle_strength3(0, s, angle_diff=-np.pi/2, x_len=img1.shape[0])\n",
    "    T1 = T[0]\n",
    "    T1 = (\n",
    "        Affine2D()\n",
    "        .translate(-shift_x, -shift_y)\n",
    "        + Affine2D(T1)\n",
    "        + Affine2D()\n",
    "        .translate(shift_x, shift_y)\n",
    "    )\n",
    "\n",
    "    #I1b = affine_transform(img1, np.linalg.inv(T1.get_matrix()))\n",
    "    img1b = warp(img1, np.linalg.inv(T1.get_matrix()))\n",
    "    \n",
    "    imgs1.append(img1b)\n",
    "    angle_diff = np.deg2rad(scanangle2 - scanangle1)\n",
    "\n",
    "    T2 = T[1]\n",
    "    T2 = (\n",
    "        Affine2D()\n",
    "           .translate(-shift_x, -shift_y)\n",
    "        \n",
    "        + Affine2D(T2)\n",
    "        + Affine2D()\n",
    "           .rotate(angle_diff)\n",
    "           .translate(shift_x, shift_y)\n",
    "    )\n",
    "\n",
    "    #I2b = affine_transform(I2, np.linalg.inv(T2.get_matrix()))\n",
    "    img2b = warp(img2, np.linalg.inv(T2.get_matrix()))\n",
    "    imgs2.append(img2b)\n",
    "\n",
    "#     fig, (ax1, ax2, ax3) = plt.subplots(ncols=3)\n",
    "#     ax1.imshow(img0)\n",
    "#     ax2.imshow(img1b)\n",
    "#     ax3.imshow(img2b)"
   ]
  },
  {
   "cell_type": "code",
   "execution_count": 34,
   "metadata": {},
   "outputs": [
    {
     "data": {
      "application/vnd.jupyter.widget-view+json": {
       "model_id": "c43e75f37c7b45d4a9b5ed89c36255ce",
       "version_major": 2,
       "version_minor": 0
      },
      "text/plain": [
       "Canvas(toolbar=Toolbar(toolitems=[('Home', 'Reset original view', 'home', 'home'), ('Back', 'Back to previous …"
      ]
     },
     "metadata": {},
     "output_type": "display_data"
    },
    {
     "data": {
      "text/plain": [
       "<matplotlib.image.AxesImage at 0x194c60765b0>"
      ]
     },
     "execution_count": 34,
     "metadata": {},
     "output_type": "execute_result"
    }
   ],
   "source": [
    "from genSTEM.Model import hybrid_correlation\n",
    "import cupy as cp\n",
    "\n",
    "maxes = []\n",
    "shifts = []\n",
    "for i1, i2 in zip(cp.array(imgs1), cp.array(imgs2)):\n",
    "    s, m = hybrid_correlation(i1, i2)\n",
    "    maxes.append(m)\n",
    "    shifts.append(s)\n",
    "i = np.argmax(maxes)\n",
    "def translate(img, shift):\n",
    "    return np.roll(img, shift, axis=(0,1))\n",
    "\n",
    "A = imgs1[i]\n",
    "B = translate(imgs2[i], (shifts[i][0].get(), shifts[i][1].get()))\n",
    "\n",
    "fig, (ax1, ax2, ax3) = plt.subplots(ncols=3, figsize=(10,10))\n",
    "ax1.imshow(A)\n",
    "ax2.imshow(B)\n",
    "ax3.imshow(A + B)"
   ]
  },
  {
   "cell_type": "code",
   "execution_count": 45,
   "metadata": {},
   "outputs": [
    {
     "name": "stdout",
     "output_type": "stream",
     "text": [
      "9\n"
     ]
    },
    {
     "data": {
      "text/plain": [
       "(array(-1, dtype=int64), array(11, dtype=int64))"
      ]
     },
     "execution_count": 45,
     "metadata": {},
     "output_type": "execute_result"
    }
   ],
   "source": [
    "print(i)\n",
    "shifts[i]"
   ]
  },
  {
   "cell_type": "code",
   "execution_count": 135,
   "metadata": {},
   "outputs": [
    {
     "data": {
      "text/plain": [
       "0.0005090909090909091"
      ]
     },
     "execution_count": 135,
     "metadata": {},
     "output_type": "execute_result"
    }
   ],
   "source": [
    "R[i]"
   ]
  },
  {
   "cell_type": "code",
   "execution_count": 136,
   "metadata": {},
   "outputs": [],
   "source": []
  },
  {
   "cell_type": "code",
   "execution_count": 137,
   "metadata": {},
   "outputs": [
    {
     "data": {
      "application/vnd.jupyter.widget-view+json": {
       "model_id": "2c883526961f46e6a37f758c78bb5e72",
       "version_major": 2,
       "version_minor": 0
      },
      "text/plain": [
       "Canvas(toolbar=Toolbar(toolitems=[('Home', 'Reset original view', 'home', 'home'), ('Back', 'Back to previous …"
      ]
     },
     "metadata": {},
     "output_type": "display_data"
    },
    {
     "data": {
      "text/plain": [
       "<matplotlib.image.AxesImage at 0x23219cb9ac0>"
      ]
     },
     "execution_count": 137,
     "metadata": {},
     "output_type": "execute_result"
    }
   ],
   "source": []
  },
  {
   "cell_type": "code",
   "execution_count": 292,
   "metadata": {},
   "outputs": [],
   "source": [
    "\n",
    "T2 = np.linalg.inv(T[:,:,0])\n",
    "T2 = T2.reshape((-1, 3, 3))\n",
    "\n",
    "T3 = np.linalg.inv(T[:,:,1])\n",
    "T3 = T3.reshape((-1, 3, 3))"
   ]
  },
  {
   "cell_type": "code",
   "execution_count": 298,
   "metadata": {},
   "outputs": [],
   "source": [
    "imgs1 = [warp(I1, t) for t in T2]\n",
    "imgs1 = np.reshape(imgs1, (11, 12, 150, 150))\n",
    "\n",
    "\n",
    "imgs2 = [warp(I2, t) for t in T3]\n",
    "imgs2 = np.reshape(imgs2, (11, 12, 150, 150))\n"
   ]
  },
  {
   "cell_type": "code",
   "execution_count": 299,
   "metadata": {},
   "outputs": [],
   "source": [
    "%matplotlib inline"
   ]
  },
  {
   "cell_type": "code",
   "execution_count": 273,
   "metadata": {
    "scrolled": false
   },
   "outputs": [
    {
     "data": {
      "application/vnd.jupyter.widget-view+json": {
       "model_id": "6d93fd07236c430996fe8df4ccdadf22",
       "version_major": 2,
       "version_minor": 0
      },
      "text/plain": [
       "Canvas(toolbar=Toolbar(toolitems=[('Home', 'Reset original view', 'home', 'home'), ('Back', 'Back to previous …"
      ]
     },
     "metadata": {},
     "output_type": "display_data"
    },
    {
     "data": {
      "application/vnd.jupyter.widget-view+json": {
       "model_id": "8164265004b941ca87a99d57687cd9d2",
       "version_major": 2,
       "version_minor": 0
      },
      "text/plain": [
       "Canvas(toolbar=Toolbar(toolitems=[('Home', 'Reset original view', 'home', 'home'), ('Back', 'Back to previous …"
      ]
     },
     "metadata": {},
     "output_type": "display_data"
    },
    {
     "data": {
      "application/vnd.jupyter.widget-view+json": {
       "model_id": "f06084e6aeb04b9f89047e37e384dcd4",
       "version_major": 2,
       "version_minor": 0
      },
      "text/plain": [
       "Canvas(toolbar=Toolbar(toolitems=[('Home', 'Reset original view', 'home', 'home'), ('Back', 'Back to previous …"
      ]
     },
     "metadata": {},
     "output_type": "display_data"
    },
    {
     "data": {
      "application/vnd.jupyter.widget-view+json": {
       "model_id": "daef8e0f91034591adfe7d4e0a2e5c5b",
       "version_major": 2,
       "version_minor": 0
      },
      "text/plain": [
       "Canvas(toolbar=Toolbar(toolitems=[('Home', 'Reset original view', 'home', 'home'), ('Back', 'Back to previous …"
      ]
     },
     "metadata": {},
     "output_type": "display_data"
    },
    {
     "data": {
      "application/vnd.jupyter.widget-view+json": {
       "model_id": "306fbac78e3342149dc9ee8586e16d52",
       "version_major": 2,
       "version_minor": 0
      },
      "text/plain": [
       "Canvas(toolbar=Toolbar(toolitems=[('Home', 'Reset original view', 'home', 'home'), ('Back', 'Back to previous …"
      ]
     },
     "metadata": {},
     "output_type": "display_data"
    },
    {
     "data": {
      "application/vnd.jupyter.widget-view+json": {
       "model_id": "288696963a68495ab50a9afcc1f3db48",
       "version_major": 2,
       "version_minor": 0
      },
      "text/plain": [
       "Canvas(toolbar=Toolbar(toolitems=[('Home', 'Reset original view', 'home', 'home'), ('Back', 'Back to previous …"
      ]
     },
     "metadata": {},
     "output_type": "display_data"
    },
    {
     "data": {
      "application/vnd.jupyter.widget-view+json": {
       "model_id": "9a65694864b34d4d94b9c26fed6b355d",
       "version_major": 2,
       "version_minor": 0
      },
      "text/plain": [
       "Canvas(toolbar=Toolbar(toolitems=[('Home', 'Reset original view', 'home', 'home'), ('Back', 'Back to previous …"
      ]
     },
     "metadata": {},
     "output_type": "display_data"
    },
    {
     "data": {
      "application/vnd.jupyter.widget-view+json": {
       "model_id": "2ec923b0f1d247dd81abb3862c2bbbbb",
       "version_major": 2,
       "version_minor": 0
      },
      "text/plain": [
       "Canvas(toolbar=Toolbar(toolitems=[('Home', 'Reset original view', 'home', 'home'), ('Back', 'Back to previous …"
      ]
     },
     "metadata": {},
     "output_type": "display_data"
    },
    {
     "data": {
      "application/vnd.jupyter.widget-view+json": {
       "model_id": "75c8c717480e4f2b957b3c187722a5fc",
       "version_major": 2,
       "version_minor": 0
      },
      "text/plain": [
       "Canvas(toolbar=Toolbar(toolitems=[('Home', 'Reset original view', 'home', 'home'), ('Back', 'Back to previous …"
      ]
     },
     "metadata": {},
     "output_type": "display_data"
    },
    {
     "data": {
      "application/vnd.jupyter.widget-view+json": {
       "model_id": "33d66de64d4c467fb92a72791e2735da",
       "version_major": 2,
       "version_minor": 0
      },
      "text/plain": [
       "Canvas(toolbar=Toolbar(toolitems=[('Home', 'Reset original view', 'home', 'home'), ('Back', 'Back to previous …"
      ]
     },
     "metadata": {},
     "output_type": "display_data"
    },
    {
     "data": {
      "application/vnd.jupyter.widget-view+json": {
       "model_id": "adef8fd08a294eeba1e94fa3288e825d",
       "version_major": 2,
       "version_minor": 0
      },
      "text/plain": [
       "Canvas(toolbar=Toolbar(toolitems=[('Home', 'Reset original view', 'home', 'home'), ('Back', 'Back to previous …"
      ]
     },
     "metadata": {},
     "output_type": "display_data"
    },
    {
     "data": {
      "application/vnd.jupyter.widget-view+json": {
       "model_id": "e93140a1757741f8a54396a32a8f5c06",
       "version_major": 2,
       "version_minor": 0
      },
      "text/plain": [
       "Canvas(toolbar=Toolbar(toolitems=[('Home', 'Reset original view', 'home', 'home'), ('Back', 'Back to previous …"
      ]
     },
     "metadata": {},
     "output_type": "display_data"
    },
    {
     "data": {
      "application/vnd.jupyter.widget-view+json": {
       "model_id": "603b2f58bd154ed9ac1df53862bc00cc",
       "version_major": 2,
       "version_minor": 0
      },
      "text/plain": [
       "Canvas(toolbar=Toolbar(toolitems=[('Home', 'Reset original view', 'home', 'home'), ('Back', 'Back to previous …"
      ]
     },
     "metadata": {},
     "output_type": "display_data"
    },
    {
     "data": {
      "application/vnd.jupyter.widget-view+json": {
       "model_id": "7ae7688e492842ab9197c9ec93abdbd9",
       "version_major": 2,
       "version_minor": 0
      },
      "text/plain": [
       "Canvas(toolbar=Toolbar(toolitems=[('Home', 'Reset original view', 'home', 'home'), ('Back', 'Back to previous …"
      ]
     },
     "metadata": {},
     "output_type": "display_data"
    },
    {
     "data": {
      "application/vnd.jupyter.widget-view+json": {
       "model_id": "48d7ec10ba224f628d9ae7ddf394ec94",
       "version_major": 2,
       "version_minor": 0
      },
      "text/plain": [
       "Canvas(toolbar=Toolbar(toolitems=[('Home', 'Reset original view', 'home', 'home'), ('Back', 'Back to previous …"
      ]
     },
     "metadata": {},
     "output_type": "display_data"
    },
    {
     "data": {
      "application/vnd.jupyter.widget-view+json": {
       "model_id": "43ea8e4b3492443e855c232dde170e95",
       "version_major": 2,
       "version_minor": 0
      },
      "text/plain": [
       "Canvas(toolbar=Toolbar(toolitems=[('Home', 'Reset original view', 'home', 'home'), ('Back', 'Back to previous …"
      ]
     },
     "metadata": {},
     "output_type": "display_data"
    },
    {
     "data": {
      "application/vnd.jupyter.widget-view+json": {
       "model_id": "a08f4dc3daed484ca60000dbc51977bc",
       "version_major": 2,
       "version_minor": 0
      },
      "text/plain": [
       "Canvas(toolbar=Toolbar(toolitems=[('Home', 'Reset original view', 'home', 'home'), ('Back', 'Back to previous …"
      ]
     },
     "metadata": {},
     "output_type": "display_data"
    },
    {
     "data": {
      "application/vnd.jupyter.widget-view+json": {
       "model_id": "64044812c1f947b6a5d3b19f94b9ebcb",
       "version_major": 2,
       "version_minor": 0
      },
      "text/plain": [
       "Canvas(toolbar=Toolbar(toolitems=[('Home', 'Reset original view', 'home', 'home'), ('Back', 'Back to previous …"
      ]
     },
     "metadata": {},
     "output_type": "display_data"
    },
    {
     "data": {
      "application/vnd.jupyter.widget-view+json": {
       "model_id": "f319c9f034774bb6885cbc11fcefd470",
       "version_major": 2,
       "version_minor": 0
      },
      "text/plain": [
       "Canvas(toolbar=Toolbar(toolitems=[('Home', 'Reset original view', 'home', 'home'), ('Back', 'Back to previous …"
      ]
     },
     "metadata": {},
     "output_type": "display_data"
    },
    {
     "data": {
      "application/vnd.jupyter.widget-view+json": {
       "model_id": "9cd2922bcf0b46279a47c328f4f055ac",
       "version_major": 2,
       "version_minor": 0
      },
      "text/plain": [
       "Canvas(toolbar=Toolbar(toolitems=[('Home', 'Reset original view', 'home', 'home'), ('Back', 'Back to previous …"
      ]
     },
     "metadata": {},
     "output_type": "display_data"
    },
    {
     "data": {
      "application/vnd.jupyter.widget-view+json": {
       "model_id": "96d3113f51e84bf9a6c56238117f423c",
       "version_major": 2,
       "version_minor": 0
      },
      "text/plain": [
       "Canvas(toolbar=Toolbar(toolitems=[('Home', 'Reset original view', 'home', 'home'), ('Back', 'Back to previous …"
      ]
     },
     "metadata": {},
     "output_type": "display_data"
    }
   ],
   "source": [
    "w = img0.shape[0]\n",
    "\n",
    "N = 21\n",
    "strength = 30\n",
    "scale = 1 + strength / w\n",
    "shear = np.arctan(strength/w)\n",
    "\n",
    "theta = np.deg2rad(np.linspace(0, 360, N))\n",
    "\n",
    "scales = scale*np.sin(theta) + scale*np.cos(theta)\n",
    "shears = shear*np.sin(theta + np.pi/4) + shear*np.cos(theta + np.pi/4)\n",
    "shifts = np.array(img0.shape) / 2.0\n",
    "shift = AffineTransform(translation=-shifts)\n",
    "shift_inv = AffineTransform(translation=shifts)\n",
    "\n",
    "angles = [0, -90]\n",
    "\n",
    "for scale, shear in zip(scales, shears):\n",
    "\n",
    "    rot_matrix = AffineTransform(rotation = angles[0])\n",
    "    shear_matrix = AffineTransform(shear = shear)\n",
    "    scale_matrix = AffineTransform(scale = (1, scale))\n",
    "\n",
    "    warped = warp(img1,(shift + shear_matrix + scale_matrix + rot_matrix + shift_inv).inverse, order=0,)\n",
    "    plt.figure()\n",
    "    plt.imshow(warped)\n",
    "\n",
    "\n",
    "#warped = warp(img1,(shift + shear_matrix + scale_matrix + rot_matrix + shift_inv).inverse, order=0,)"
   ]
  },
  {
   "cell_type": "code",
   "execution_count": 260,
   "metadata": {},
   "outputs": [
    {
     "data": {
      "application/vnd.jupyter.widget-view+json": {
       "model_id": "8bf7591960a44d3387e47273db988526",
       "version_major": 2,
       "version_minor": 0
      },
      "text/plain": [
       "Canvas(toolbar=Toolbar(toolitems=[('Home', 'Reset original view', 'home', 'home'), ('Back', 'Back to previous …"
      ]
     },
     "metadata": {},
     "output_type": "display_data"
    },
    {
     "data": {
      "text/plain": [
       "<matplotlib.image.AxesImage at 0x246000578c8>"
      ]
     },
     "execution_count": 260,
     "metadata": {},
     "output_type": "execute_result"
    }
   ],
   "source": []
  },
  {
   "cell_type": "code",
   "execution_count": null,
   "metadata": {},
   "outputs": [],
   "source": [
    "\n",
    "\n",
    "tf_shift = AffineTransform(translation=[-shift_y, -shift_x])\n",
    "tf_shift_inv = AffineTransform(translation=[shift_y, shift_x])\n",
    "warped = warp(img,(tf_shift + shear_matrix + scale_matrix + rot_matrix + tf_shift_inv).inverse, order=0,)"
   ]
  },
  {
   "cell_type": "code",
   "execution_count": 49,
   "metadata": {},
   "outputs": [],
   "source": [
    "from skimage.transform import AffineTransform\n",
    "#from cupyx.scipy.ndimage import affine_transform\n",
    "n = 1000\n",
    "N = np.linspace(-n, n, 11)\n",
    "w = img0.shape[0]\n",
    "scales = 1 + N / w\n",
    "shears = np.arctan(N/w)\n",
    "\n",
    "shifts = np.array(img0.shape) / 2.0\n",
    "shift = AffineTransform(translation=-shifts)\n",
    "shift_inv = AffineTransform(translation=shifts)\n",
    "\n",
    "def get_matrix(transform):\n",
    "    return np.linalg.inv(transform.params)\n",
    "\n",
    "transform1 = np.array(\n",
    "    [get_matrix(shift + AffineTransform(shear=shear) + shift_inv) \n",
    "        for shear, scale in zip(shears, scales)])\n",
    "transform1 = cp.array(transform1)\n",
    "\n",
    "transform2 = np.array(\n",
    "    [get_matrix(shift + AffineTransform(scale=scale) + shift_inv) \n",
    "        for shear, scale in zip(shears, scales)])\n",
    "transform2 = cp.array(transform2)\n"
   ]
  },
  {
   "cell_type": "code",
   "execution_count": 50,
   "metadata": {},
   "outputs": [],
   "source": [
    "def plot(imgs):\n",
    "    imgs2 = []\n",
    "    for img in imgs:\n",
    "        img -= img.min()\n",
    "        img /= img.max()\n",
    "        img *= 255\n",
    "        img = fromarray(img.astype(\"uint8\"))\n",
    "        imgs2.append(img)\n",
    "    display(TwoByTwoLayout(imgs2))"
   ]
  },
  {
   "cell_type": "code",
   "execution_count": 51,
   "metadata": {},
   "outputs": [],
   "source": [
    "from ipywidgets import TwoByTwoLayout, Output\n",
    "from PIL.Image import fromarray\n",
    "\n",
    "def plot(img):\n",
    "    img -= img.min()\n",
    "    img /= img.max()\n",
    "    img *= 255\n",
    "    img = fromarray(img.astype(\"uint8\"))\n",
    "    display(img)"
   ]
  },
  {
   "cell_type": "code",
   "execution_count": 53,
   "metadata": {},
   "outputs": [],
   "source": [
    "from ipywidgets import GridspecLayout\n",
    "\n",
    "def subplots(imgs, ncols=2):\n",
    "    nrows = int(np.ceil(len(imgs) / ncols))\n",
    "    grid = GridspecLayout(nrows, ncols)\n",
    "    for i in range(nrows):\n",
    "        for j in range(ncols):\n",
    "            index = i*nrows + j\n",
    "            if index < len(imgs):\n",
    "                o = Output()\n",
    "                with o:\n",
    "                    plot(imgs[index])\n",
    "                grid[i, j] = o\n",
    "                \n",
    "subplots([I0, I1])"
   ]
  },
  {
   "cell_type": "code",
   "execution_count": 79,
   "metadata": {},
   "outputs": [],
   "source": [
    "import sympy as sp\n",
    "x, y, z, sx, sy, theta, shx, shy, tx, ty = sp.symbols(\"x, y, z, scale_x, scale_y, theta, shear_x, shear_y, trans_x, trans_y\")"
   ]
  },
  {
   "cell_type": "code",
   "execution_count": 193,
   "metadata": {},
   "outputs": [],
   "source": [
    "def sp_scale(sx, sy):\n",
    "    tf = sp.eye(3)\n",
    "    tf[0,0] = sx\n",
    "    tf[1,1] = sy\n",
    "    return tf\n",
    "\n",
    "def sp_translate(tx, ty):\n",
    "    tf = sp.eye(3)\n",
    "    tf[0,2] = tx\n",
    "    tf[1,2] = ty\n",
    "    return tf\n",
    "\n",
    "def sp_rotate(theta):\n",
    "    tf = sp.eye(3)\n",
    "    c, s = sp.cos(theta), sp.sin(theta)\n",
    "    tf[0,0] = c\n",
    "    tf[1,1] = c\n",
    "    tf[0,1] = s\n",
    "    tf[1,0] = -s\n",
    "    return tf\n",
    "\n",
    "def sp_shear(shear_x=0, shear_y=0):\n",
    "    tf = sp.eye(3)\n",
    "    tf[1,0] = shear_y\n",
    "    tf[0,1] = shear_x\n",
    "    return tf"
   ]
  },
  {
   "cell_type": "code",
   "execution_count": 194,
   "metadata": {},
   "outputs": [],
   "source": [
    "A = sp_translate(tx, ty)\n",
    "B = sp_scale(sx, sy)\n",
    "C = sp_rotate(theta)\n",
    "D = sp_shear(shx, shy)\n",
    "E = sp_translate(-tx, -ty)\n"
   ]
  },
  {
   "cell_type": "code",
   "execution_count": 207,
   "metadata": {},
   "outputs": [],
   "source": [
    "#F = A*B*C*E\n",
    "F = E*C*B*A"
   ]
  },
  {
   "cell_type": "code",
   "execution_count": 208,
   "metadata": {},
   "outputs": [],
   "source": [
    "func = sp.lambdify((sx, sy, theta, shx, shy, tx, ty), F, modules='numpy')"
   ]
  },
  {
   "cell_type": "code",
   "execution_count": 214,
   "metadata": {},
   "outputs": [],
   "source": [
    "g = func(\n",
    "    scale_x = 2, \n",
    "    scale_y = 1, \n",
    "    theta = 2.5,\n",
    "    shear_x = 1,\n",
    "    shear_y = 1,\n",
    "    trans_x = shifts[1], \n",
    "    trans_y = shifts[0])"
   ]
  },
  {
   "cell_type": "code",
   "execution_count": 215,
   "metadata": {},
   "outputs": [],
   "source": [
    "img2 = warp(img, np.linalg.inv(g))"
   ]
  },
  {
   "cell_type": "code",
   "execution_count": 218,
   "metadata": {},
   "outputs": [],
   "source": [
    "a = AffineTransform(translation=shifts[::-1])\n",
    "b = AffineTransform(scale=(2, 1))\n",
    "c = AffineTransform(rotation=2)\n",
    "d = AffineTransform(translation=-shifts[::-1])\n"
   ]
  },
  {
   "cell_type": "code",
   "execution_count": 219,
   "metadata": {},
   "outputs": [
    {
     "data": {
      "text/plain": [
       "<AffineTransform(matrix=\n",
       "    [[  -0.83229367,   -0.90929743, -207.89257606],\n",
       "     [   1.81859485,   -0.41614684,   26.64323419],\n",
       "     [   0.        ,    0.        ,    1.        ]]) at 0x2467ac5fbc8>"
      ]
     },
     "execution_count": 219,
     "metadata": {},
     "output_type": "execute_result"
    }
   ],
   "source": [
    "a + b + c + d"
   ]
  },
  {
   "cell_type": "code",
   "execution_count": null,
   "metadata": {},
   "outputs": [],
   "source": [
    "shears = "
   ]
  },
  {
   "cell_type": "code",
   "execution_count": 54,
   "metadata": {},
   "outputs": [],
   "source": [
    "\n",
    "\n",
    "def transform_scaling(scale_x=1, scale_y=1):\n",
    "    tf = np.eye(3)\n",
    "    tf[0,0] = scale_x\n",
    "    tf[1,1] = scale_y\n",
    "    return tf\n",
    "\n",
    "def transform_rotation(clockwise_radians):\n",
    "    tf = np.eye(3)\n",
    "    c, s = np.cos(clockwise_radians), np.sin(clockwise_radians)\n",
    "    tf[0,0] = c\n",
    "    tf[1,1] = c\n",
    "    tf[0,1] = s\n",
    "    tf[1,0] = -s\n",
    "    return tf\n",
    "\n",
    "def transform_shear(shear_x=0, shear_y=0):\n",
    "    tf = np.eye(3)\n",
    "    tf[0,1] = shear_x\n",
    "    tf[1,0] = shear_y\n",
    "    return tf\n",
    "\n",
    "def transform_translate(shift_x, shift_y):\n",
    "    tf = np.eye(3)\n",
    "    tf[0,2] = shift_x\n",
    "    tf[1,2] = shift_y\n",
    "    return tf\n"
   ]
  },
  {
   "cell_type": "code",
   "execution_count": 63,
   "metadata": {},
   "outputs": [],
   "source": [
    "from scipy.misc import face"
   ]
  },
  {
   "cell_type": "code",
   "execution_count": 64,
   "metadata": {},
   "outputs": [],
   "source": [
    "img = face(True)"
   ]
  },
  {
   "cell_type": "code",
   "execution_count": 65,
   "metadata": {},
   "outputs": [],
   "source": [
    "from skimage.transform import warp\n",
    "# https://stackabuse.com/affine-image-transformations-in-python-with-numpy-pillow-and-opencv/"
   ]
  },
  {
   "cell_type": "code",
   "execution_count": 74,
   "metadata": {},
   "outputs": [
    {
     "data": {
      "application/vnd.jupyter.widget-view+json": {
       "model_id": "ab22312c4a2343d7bd949d303f859d5c",
       "version_major": 2,
       "version_minor": 0
      },
      "text/plain": [
       "Canvas(toolbar=Toolbar(toolitems=[('Home', 'Reset original view', 'home', 'home'), ('Back', 'Back to previous …"
      ]
     },
     "metadata": {},
     "output_type": "display_data"
    },
    {
     "data": {
      "text/plain": [
       "<matplotlib.image.AxesImage at 0x2467077cfc8>"
      ]
     },
     "execution_count": 74,
     "metadata": {},
     "output_type": "execute_result"
    }
   ],
   "source": [
    "x,y = np.array(img.shape)/2\n",
    "arr = [transform_translate(y, x), transform_rotation(np.pi/2), transform_translate(-y, -x),]\n",
    "#arr = np.linalg.inv(arr[0])\n",
    "arr = np.linalg.inv(np.linalg.multi_dot(arr))\n",
    "\n",
    "img2 = warp(img, arr)\n",
    "fig, (ax1, ax2) = plt.subplots(ncols=2)\n",
    "ax1.imshow(img)\n",
    "ax2.imshow(img2)"
   ]
  },
  {
   "cell_type": "code",
   "execution_count": null,
   "metadata": {},
   "outputs": [],
   "source": []
  },
  {
   "cell_type": "code",
   "execution_count": 59,
   "metadata": {},
   "outputs": [],
   "source": [
    "x,y = np.array(img.shape)/2\n",
    "arr = [transform_translate(x, y), transform_shear(np.pi/4), transform_translate(-x, -y),]\n",
    "arr = np.linalg.inv(np.linalg.multi_dot(arr))"
   ]
  },
  {
   "cell_type": "code",
   "execution_count": null,
   "metadata": {},
   "outputs": [],
   "source": [
    "\n",
    "shift + shear_matrix + scale_matrix + rot_matrix + shift_inv"
   ]
  },
  {
   "cell_type": "code",
   "execution_count": 60,
   "metadata": {},
   "outputs": [],
   "source": [
    "# arr = [-transform_translate(x, y), transform_scaling(1), transform_translate(x, y),]\n",
    "# arr2 = np.linalg.inv(np.linalg.multi_dot(arr))"
   ]
  },
  {
   "cell_type": "code",
   "execution_count": 61,
   "metadata": {},
   "outputs": [],
   "source": []
  },
  {
   "cell_type": "code",
   "execution_count": 62,
   "metadata": {},
   "outputs": [
    {
     "data": {
      "application/vnd.jupyter.widget-view+json": {
       "model_id": "2021e693bb8b4a24abf315c28dabd6ed",
       "version_major": 2,
       "version_minor": 0
      },
      "text/plain": [
       "Canvas(toolbar=Toolbar(toolitems=[('Home', 'Reset original view', 'home', 'home'), ('Back', 'Back to previous …"
      ]
     },
     "metadata": {},
     "output_type": "display_data"
    },
    {
     "data": {
      "text/plain": [
       "<matplotlib.image.AxesImage at 0x2466c3739c8>"
      ]
     },
     "execution_count": 62,
     "metadata": {},
     "output_type": "execute_result"
    }
   ],
   "source": []
  },
  {
   "cell_type": "code",
   "execution_count": 41,
   "metadata": {},
   "outputs": [
    {
     "data": {
      "application/vnd.jupyter.widget-view+json": {
       "model_id": "35f5ba109193409db8229ea31588b9d6",
       "version_major": 2,
       "version_minor": 0
      },
      "text/plain": [
       "Canvas(toolbar=Toolbar(toolitems=[('Home', 'Reset original view', 'home', 'home'), ('Back', 'Back to previous …"
      ]
     },
     "metadata": {},
     "output_type": "display_data"
    },
    {
     "ename": "NameError",
     "evalue": "name 'affine_transform' is not defined",
     "output_type": "error",
     "traceback": [
      "\u001b[1;31m---------------------------------------------------------------------------\u001b[0m",
      "\u001b[1;31mNameError\u001b[0m                                 Traceback (most recent call last)",
      "\u001b[1;32m<ipython-input-41-57cfec69e9f9>\u001b[0m in \u001b[0;36m<module>\u001b[1;34m()\u001b[0m\n\u001b[0;32m      3\u001b[0m \u001b[1;32mfor\u001b[0m \u001b[0mrow\u001b[0m \u001b[1;32min\u001b[0m \u001b[0mrange\u001b[0m\u001b[1;33m(\u001b[0m\u001b[0mlen\u001b[0m\u001b[1;33m(\u001b[0m\u001b[0mshears\u001b[0m\u001b[1;33m)\u001b[0m\u001b[1;33m)\u001b[0m\u001b[1;33m:\u001b[0m\u001b[1;33m\u001b[0m\u001b[1;33m\u001b[0m\u001b[0m\n\u001b[0;32m      4\u001b[0m     \u001b[0max1\u001b[0m\u001b[1;33m,\u001b[0m \u001b[0max2\u001b[0m \u001b[1;33m=\u001b[0m \u001b[0mfig\u001b[0m\u001b[1;33m.\u001b[0m\u001b[0madd_subplot\u001b[0m\u001b[1;33m(\u001b[0m\u001b[0mgrid\u001b[0m\u001b[1;33m[\u001b[0m\u001b[0mrow\u001b[0m\u001b[1;33m,\u001b[0m \u001b[1;36m0\u001b[0m\u001b[1;33m]\u001b[0m\u001b[1;33m)\u001b[0m\u001b[1;33m,\u001b[0m \u001b[0mfig\u001b[0m\u001b[1;33m.\u001b[0m\u001b[0madd_subplot\u001b[0m\u001b[1;33m(\u001b[0m\u001b[0mgrid\u001b[0m\u001b[1;33m[\u001b[0m\u001b[0mrow\u001b[0m\u001b[1;33m,\u001b[0m \u001b[1;36m1\u001b[0m\u001b[1;33m]\u001b[0m\u001b[1;33m)\u001b[0m\u001b[1;33m\u001b[0m\u001b[1;33m\u001b[0m\u001b[0m\n\u001b[1;32m----> 5\u001b[1;33m     \u001b[0max1\u001b[0m\u001b[1;33m.\u001b[0m\u001b[0mimshow\u001b[0m\u001b[1;33m(\u001b[0m\u001b[0maffine_transform\u001b[0m\u001b[1;33m(\u001b[0m\u001b[0mimg1\u001b[0m\u001b[1;33m,\u001b[0m \u001b[0mtransform1\u001b[0m\u001b[1;33m[\u001b[0m\u001b[0mrow\u001b[0m\u001b[1;33m]\u001b[0m\u001b[1;33m)\u001b[0m\u001b[1;33m.\u001b[0m\u001b[0mget\u001b[0m\u001b[1;33m(\u001b[0m\u001b[1;33m)\u001b[0m\u001b[1;33m)\u001b[0m\u001b[1;33m\u001b[0m\u001b[1;33m\u001b[0m\u001b[0m\n\u001b[0m\u001b[0;32m      6\u001b[0m     \u001b[0max2\u001b[0m\u001b[1;33m.\u001b[0m\u001b[0mimshow\u001b[0m\u001b[1;33m(\u001b[0m\u001b[0maffine_transform\u001b[0m\u001b[1;33m(\u001b[0m\u001b[0mimg2\u001b[0m\u001b[1;33m,\u001b[0m \u001b[0mtransform2\u001b[0m\u001b[1;33m[\u001b[0m\u001b[0mrow\u001b[0m\u001b[1;33m]\u001b[0m\u001b[1;33m)\u001b[0m\u001b[1;33m.\u001b[0m\u001b[0mget\u001b[0m\u001b[1;33m(\u001b[0m\u001b[1;33m)\u001b[0m\u001b[1;33m)\u001b[0m\u001b[1;33m\u001b[0m\u001b[1;33m\u001b[0m\u001b[0m\n",
      "\u001b[1;31mNameError\u001b[0m: name 'affine_transform' is not defined"
     ]
    }
   ],
   "source": [
    "fig = plt.figure(figsize = (5, 20))\n",
    "grid = plt.GridSpec(ncols=2, nrows = len(shears), figure=fig)\n",
    "for row in range(len(shears)):\n",
    "    ax1, ax2 = fig.add_subplot(grid[row, 0]), fig.add_subplot(grid[row, 1])\n",
    "    ax1.imshow(affine_transform(img1, transform1[row]).get())\n",
    "    ax2.imshow(affine_transform(img2, transform2[row]).get())"
   ]
  },
  {
   "cell_type": "code",
   "execution_count": null,
   "metadata": {},
   "outputs": [],
   "source": []
  },
  {
   "cell_type": "code",
   "execution_count": 112,
   "metadata": {},
   "outputs": [
    {
     "data": {
      "application/vnd.jupyter.widget-view+json": {
       "model_id": "19c855059d43438aba02bdd71e084dbc",
       "version_major": 2,
       "version_minor": 0
      },
      "text/plain": [
       "Canvas(toolbar=Toolbar(toolitems=[('Home', 'Reset original view', 'home', 'home'), ('Back', 'Back to previous …"
      ]
     },
     "metadata": {},
     "output_type": "display_data"
    },
    {
     "data": {
      "text/plain": [
       "<matplotlib.image.AxesImage at 0x1fa695badf0>"
      ]
     },
     "execution_count": 112,
     "metadata": {},
     "output_type": "execute_result"
    }
   ],
   "source": [
    "fig, (ax1, ax2, ax3) = plt.subplots(ncols=3)\n",
    "ax1.imshow(I0)\n",
    "ax2.imshow(I1)\n",
    "ax3.imshow(I2)"
   ]
  },
  {
   "cell_type": "code",
   "execution_count": 92,
   "metadata": {},
   "outputs": [
    {
     "data": {
      "application/vnd.jupyter.widget-view+json": {
       "model_id": "cc8f656046bd4dfab0714a6a2b513b87",
       "version_major": 2,
       "version_minor": 0
      },
      "text/plain": [
       "Canvas(toolbar=Toolbar(toolitems=[('Home', 'Reset original view', 'home', 'home'), ('Back', 'Back to previous …"
      ]
     },
     "metadata": {},
     "output_type": "display_data"
    }
   ],
   "source": [
    "nrows = 5\n",
    "ncols = 5\n",
    "img = I1\n",
    "\n",
    "shift_x, shift_y = np.array(img.shape) / 2.0\n",
    "tf_shift = AffineTransform(translation=[-shift_y, -shift_x])\n",
    "tf_shift_inv = AffineTransform(translation=[shift_y, shift_x])\n",
    "\n",
    "\n",
    "fig, AX = plt.subplots(ncols=ncols, nrows=nrows, )\n",
    "shears = np.linspace(-np.pi, np.pi, np.prod((ncols, nrows)))\n",
    "\n",
    "for shear, ax in zip(shears, AX.flatten()):\n",
    "    ax.imshow(warp(img, tf_shift + AffineTransform(shear=shear) + tf_shift_inv))"
   ]
  },
  {
   "cell_type": "code",
   "execution_count": 55,
   "metadata": {},
   "outputs": [
    {
     "data": {
      "text/plain": [
       "array([-3.14159265, -2.87979327, -2.61799388, -2.35619449, -2.0943951 ,\n",
       "       -1.83259571, -1.57079633, -1.30899694, -1.04719755, -0.78539816,\n",
       "       -0.52359878, -0.26179939,  0.        ,  0.26179939,  0.52359878,\n",
       "        0.78539816,  1.04719755,  1.30899694,  1.57079633,  1.83259571,\n",
       "        2.0943951 ,  2.35619449,  2.61799388,  2.87979327,  3.14159265])"
      ]
     },
     "execution_count": 55,
     "metadata": {},
     "output_type": "execute_result"
    }
   ],
   "source": [
    "shears"
   ]
  },
  {
   "cell_type": "code",
   "execution_count": 20,
   "metadata": {},
   "outputs": [
    {
     "data": {
      "application/vnd.jupyter.widget-view+json": {
       "model_id": "97040b907dd94abdbfe6c7ec46236f6d",
       "version_major": 2,
       "version_minor": 0
      },
      "text/plain": [
       "Canvas(toolbar=Toolbar(toolitems=[('Home', 'Reset original view', 'home', 'home'), ('Back', 'Back to previous …"
      ]
     },
     "metadata": {},
     "output_type": "display_data"
    },
    {
     "data": {
      "application/vnd.jupyter.widget-view+json": {
       "model_id": "6ca011b844f3468380ed08ef7a7065b4",
       "version_major": 2,
       "version_minor": 0
      },
      "text/plain": [
       "FloatSlider(value=1.0, description='Scale', max=1.8, min=0.19999999999999996, step=0.01)"
      ]
     },
     "metadata": {},
     "output_type": "display_data"
    },
    {
     "data": {
      "application/vnd.jupyter.widget-view+json": {
       "model_id": "0e3e3ba0f38e4e33bb313782d8ca14fe",
       "version_major": 2,
       "version_minor": 0
      },
      "text/plain": [
       "FloatSlider(value=0.0, description='Shear', max=0.8, min=-0.8, step=0.01)"
      ]
     },
     "metadata": {},
     "output_type": "display_data"
    },
    {
     "data": {
      "application/vnd.jupyter.widget-view+json": {
       "model_id": "eaa92f2bdf3b4abe9f1e9e76a9553093",
       "version_major": 2,
       "version_minor": 0
      },
      "text/plain": [
       "Output()"
      ]
     },
     "metadata": {},
     "output_type": "display_data"
    }
   ],
   "source": [
    "from skimage.transform import AffineTransform, warp\n",
    "\n",
    "shear_limits = 0.8\n",
    "shear_step = 0.01\n",
    "scale_limits = 0.8\n",
    "scale_step = 0.01\n",
    "\n",
    "import ipywidgets.widgets as w\n",
    "SCALE = w.FloatSlider(value=1, min=-scale_limits + 1, max=scale_limits + 1, step=shear_step, description='Scale')\n",
    "SHEAR = w.FloatSlider(value=0, min=-shear_limits, max=shear_limits, step=scale_step, description='Shear')\n",
    "img = I2\n",
    "\n",
    "o = w.Output()\n",
    "def warpit(img):\n",
    "    angle = 0\n",
    "    rot_matrix = AffineTransform(rotation = np.deg2rad(-angle))\n",
    "    shear_matrix = AffineTransform(shear = SHEAR.value,)\n",
    "    scale_matrix = AffineTransform(scale = (1, SCALE.value))\n",
    "\n",
    "    shift_x, shift_y = np.array(img.shape) / 2.0\n",
    "    tf_shift = AffineTransform(translation=[-shift_y, -shift_x])\n",
    "    tf_shift_inv = AffineTransform(translation=[shift_y, shift_x])\n",
    "    warped = warp(img,(tf_shift + shear_matrix + scale_matrix + rot_matrix + tf_shift_inv).inverse, order=0,)\n",
    "    return warped\n",
    "\n",
    "fig, (ax1, ax2) = plt.subplots(ncols=2)\n",
    "\n",
    "ax1.imshow(I1)\n",
    "im = ax2.imshow(warpit(img))\n",
    "\n",
    "def on_value_change(change):\n",
    "    with o:\n",
    "        new_img = warpit(img)\n",
    "        im.set_data(new_img)\n",
    "        im.autoscale()\n",
    "\n",
    "SCALE.observe(on_value_change, names='value')\n",
    "SHEAR.observe(on_value_change, names='value')\n",
    "display(SCALE)\n",
    "display(SHEAR)\n",
    "display(o)"
   ]
  },
  {
   "cell_type": "code",
   "execution_count": 23,
   "metadata": {},
   "outputs": [],
   "source": [
    "from PIL.Image import fromarray"
   ]
  },
  {
   "cell_type": "code",
   "execution_count": 46,
   "metadata": {},
   "outputs": [],
   "source": [
    "def plot(img):\n",
    "    img -= img.min()\n",
    "    img /= img.max()\n",
    "    img *= 255\n",
    "    img = fromarray(img.astype(\"uint8\"))\n",
    "    display(img)"
   ]
  },
  {
   "cell_type": "code",
   "execution_count": 48,
   "metadata": {},
   "outputs": [],
   "source": [
    "o1 = Output()\n",
    "o2 = Output()\n",
    "with o1:\n",
    "    plot(I1)\n",
    "with o2:\n",
    "    plot(I2)"
   ]
  },
  {
   "cell_type": "code",
   "execution_count": null,
   "metadata": {},
   "outputs": [],
   "source": []
  },
  {
   "cell_type": "code",
   "execution_count": null,
   "metadata": {},
   "outputs": [],
   "source": []
  },
  {
   "cell_type": "code",
   "execution_count": null,
   "metadata": {},
   "outputs": [],
   "source": []
  },
  {
   "cell_type": "code",
   "execution_count": 53,
   "metadata": {},
   "outputs": [
    {
     "data": {
      "application/vnd.jupyter.widget-view+json": {
       "model_id": "c18fa9bfcf2a41e2ac9e76e3e6951bd2",
       "version_major": 2,
       "version_minor": 0
      },
      "text/plain": [
       "TwoByTwoLayout(children=(VBox(children=(HBox(children=(Output(layout=Layout(grid_area='top-left'), outputs=({'…"
      ]
     },
     "metadata": {},
     "output_type": "display_data"
    }
   ],
   "source": [
    "from ipywidgets import Output, VBox, HBox, TwoByTwoLayout\n",
    "TwoByTwoLayout(top_left=VBox((HBox((o1, o1)), HBox((o1, o1)))), top_right=o2)"
   ]
  },
  {
   "cell_type": "code",
   "execution_count": 21,
   "metadata": {},
   "outputs": [
    {
     "data": {
      "application/vnd.jupyter.widget-view+json": {
       "model_id": "0ac35bac725d4d5ba72fa5984cd1e726",
       "version_major": 2,
       "version_minor": 0
      },
      "text/plain": [
       "Canvas(toolbar=Toolbar(toolitems=[('Home', 'Reset original view', 'home', 'home'), ('Back', 'Back to previous …"
      ]
     },
     "metadata": {},
     "output_type": "display_data"
    },
    {
     "data": {
      "text/plain": [
       "<matplotlib.image.AxesImage at 0x1fa5ff30880>"
      ]
     },
     "execution_count": 21,
     "metadata": {},
     "output_type": "execute_result"
    }
   ],
   "source": [
    "fig, (ax1, ax2) = plt.subplots(ncols=2)\n",
    "ax1.imshow(img1.get())\n",
    "ax2.imshow(img2.get())"
   ]
  },
  {
   "cell_type": "code",
   "execution_count": 23,
   "metadata": {},
   "outputs": [],
   "source": [
    "hamm = np.hamming(img1.shape[0])\n",
    "window = hamm[:, None] * hamm\n",
    "\n",
    "def hybrid_correlation(img1, img2, p=0.9, filter=True):\n",
    "    if filter:\n",
    "        hamm = cp.hamming(img1.shape[0])\n",
    "        window = hamm[:, None] * hamm\n",
    "        img1 = img1 * window\n",
    "        img2 = img2 * window\n",
    "\n",
    "    fftimg1 = cp.fft.fft2(img1)\n",
    "    fftimg2 = cp.fft.fft2(img2)\n",
    "    m = fftimg1 * cp.conj(fftimg2)\n",
    "    corr =  cp.real(cp.fft.ifft2(cp.abs(m)**p * cp.exp(1j * cp.angle(m))))\n",
    "    corr = cp.fft.fftshift(corr)\n",
    "    translation = cp.array(cp.unravel_index(corr.argmax(), corr.shape))\n",
    "    center = cp.array(corr.shape) // 2\n",
    "    return tuple(x for x in translation - center), corr.max()\n",
    "\n",
    "def translate(img, shift):\n",
    "    return cp.roll(img, shift, axis=(0,1))"
   ]
  },
  {
   "cell_type": "code",
   "execution_count": 84,
   "metadata": {},
   "outputs": [
    {
     "data": {
      "application/vnd.jupyter.widget-view+json": {
       "model_id": "d741506fee524b10bdc57b4b29e848f1",
       "version_major": 2,
       "version_minor": 0
      },
      "text/plain": [
       "Canvas(toolbar=Toolbar(toolitems=[('Home', 'Reset original view', 'home', 'home'), ('Back', 'Back to previous …"
      ]
     },
     "metadata": {},
     "output_type": "display_data"
    },
    {
     "data": {
      "text/plain": [
       "<matplotlib.image.AxesImage at 0x24db7f997f0>"
      ]
     },
     "execution_count": 84,
     "metadata": {},
     "output_type": "execute_result"
    }
   ],
   "source": [
    "img2b = translate(img2, hybrid_correlation(img1, img2))\n",
    "plt.figure()\n",
    "plt.imshow((img1 + img2b).get())"
   ]
  },
  {
   "cell_type": "code",
   "execution_count": 78,
   "metadata": {},
   "outputs": [],
   "source": [
    "I2 = img1.get()\n",
    "I2 = img2.get()"
   ]
  },
  {
   "cell_type": "code",
   "execution_count": 24,
   "metadata": {},
   "outputs": [],
   "source": [
    "from scipy.ndimage import fourier_shift"
   ]
  },
  {
   "cell_type": "code",
   "execution_count": 56,
   "metadata": {},
   "outputs": [
    {
     "data": {
      "application/vnd.jupyter.widget-view+json": {
       "model_id": "92c6f55b7f584be5bfe77e3901ec82e4",
       "version_major": 2,
       "version_minor": 0
      },
      "text/plain": [
       "Canvas(toolbar=Toolbar(toolitems=[('Home', 'Reset original view', 'home', 'home'), ('Back', 'Back to previous …"
      ]
     },
     "metadata": {},
     "output_type": "display_data"
    },
    {
     "data": {
      "text/plain": [
       "<matplotlib.image.AxesImage at 0x24db5bb0220>"
      ]
     },
     "execution_count": 56,
     "metadata": {},
     "output_type": "execute_result"
    }
   ],
   "source": [
    "I1, I2 = img1.get(), img2.get()\n",
    "I3 = np.fft.ifft2(fourier_shift(np.fft.fft2(I2), S)).real\n",
    "I4 = np.roll(I2, S[0], axis=0)\n",
    "I4 = np.roll(I4, S[1], axis=1)\n",
    "I4 = np.roll(I2, S, axis=(0,1))\n",
    "I5 = scipy.ndimage.shift(I2, S)\n",
    "\n",
    "plt.figure()\n",
    "plt.imshow(I1 + I4)"
   ]
  },
  {
   "cell_type": "code",
   "execution_count": 55,
   "metadata": {},
   "outputs": [],
   "source": [
    "I4 = np.roll(I2, S, axis=(0,1))\n"
   ]
  },
  {
   "cell_type": "code",
   "execution_count": 29,
   "metadata": {},
   "outputs": [
    {
     "data": {
      "application/vnd.jupyter.widget-view+json": {
       "model_id": "ed563126beb64a47afe9da951fd5f75a",
       "version_major": 2,
       "version_minor": 0
      },
      "text/plain": [
       "Canvas(toolbar=Toolbar(toolitems=[('Home', 'Reset original view', 'home', 'home'), ('Back', 'Back to previous …"
      ]
     },
     "metadata": {},
     "output_type": "display_data"
    },
    {
     "data": {
      "text/plain": [
       "<matplotlib.image.AxesImage at 0x24db1f36910>"
      ]
     },
     "execution_count": 29,
     "metadata": {},
     "output_type": "execute_result"
    }
   ],
   "source": [
    "plt.figure()\n",
    "plt.imshow(I2)"
   ]
  },
  {
   "cell_type": "code",
   "execution_count": null,
   "metadata": {},
   "outputs": [],
   "source": [
    "corr = scipy.signal.correlate2d(img1.get(), img2.get())"
   ]
  },
  {
   "cell_type": "code",
   "execution_count": 237,
   "metadata": {},
   "outputs": [
    {
     "data": {
      "application/vnd.jupyter.widget-view+json": {
       "model_id": "6e1fb871ca2e4769b6e03de17d8fc57b",
       "version_major": 2,
       "version_minor": 0
      },
      "text/plain": [
       "Canvas(toolbar=Toolbar(toolitems=[('Home', 'Reset original view', 'home', 'home'), ('Back', 'Back to previous …"
      ]
     },
     "metadata": {},
     "output_type": "display_data"
    },
    {
     "data": {
      "text/plain": [
       "<matplotlib.image.AxesImage at 0x29a053f7490>"
      ]
     },
     "execution_count": 237,
     "metadata": {},
     "output_type": "execute_result"
    }
   ],
   "source": [
    "plt.figure()\n",
    "plt.imshow(window)"
   ]
  },
  {
   "cell_type": "code",
   "execution_count": null,
   "metadata": {},
   "outputs": [],
   "source": [
    "window = "
   ]
  },
  {
   "cell_type": "code",
   "execution_count": 13,
   "metadata": {},
   "outputs": [
    {
     "name": "stdout",
     "output_type": "stream",
     "text": [
      "957 µs ± 22.6 µs per loop (mean ± std. dev. of 7 runs, 1000 loops each)\n",
      "2.92 ms ± 84.9 µs per loop (mean ± std. dev. of 7 runs, 100 loops each)\n"
     ]
    }
   ],
   "source": [
    "data = np.random.random((300, 300))\n",
    "%timeit np.real(np.fft.ifft(data))\n",
    "%timeit np.fft.irfft(data)"
   ]
  },
  {
   "cell_type": "code",
   "execution_count": 18,
   "metadata": {},
   "outputs": [],
   "source": [
    "from py4DSTEM.process.utils import get_maxima_2D"
   ]
  },
  {
   "cell_type": "code",
   "execution_count": null,
   "metadata": {},
   "outputs": [],
   "source": []
  },
  {
   "cell_type": "code",
   "execution_count": null,
   "metadata": {},
   "outputs": [],
   "source": [
    "get_maxima_2D()"
   ]
  },
  {
   "cell_type": "code",
   "execution_count": 19,
   "metadata": {},
   "outputs": [],
   "source": [
    "# a = np.real(np.fft.ifft(data))\n",
    "# b = np.fft.irfft(data)\n",
    "# np.testing.assert_array_almost_equal(a, b)"
   ]
  },
  {
   "cell_type": "code",
   "execution_count": 15,
   "metadata": {},
   "outputs": [
    {
     "data": {
      "text/plain": [
       "(300, 300)"
      ]
     },
     "execution_count": 15,
     "metadata": {},
     "output_type": "execute_result"
    }
   ],
   "source": [
    "a.shape"
   ]
  },
  {
   "cell_type": "code",
   "execution_count": 16,
   "metadata": {},
   "outputs": [
    {
     "data": {
      "text/plain": [
       "(300, 598)"
      ]
     },
     "execution_count": 16,
     "metadata": {},
     "output_type": "execute_result"
    }
   ],
   "source": [
    "b.shape"
   ]
  },
  {
   "cell_type": "code",
   "execution_count": 5,
   "metadata": {},
   "outputs": [
    {
     "data": {
      "application/vnd.jupyter.widget-view+json": {
       "model_id": "01a210e58ab749d8804d4a8a0397efe8",
       "version_major": 2,
       "version_minor": 0
      },
      "text/plain": [
       "Canvas(toolbar=Toolbar(toolitems=[('Home', 'Reset original view', 'home', 'home'), ('Back', 'Back to previous …"
      ]
     },
     "metadata": {},
     "output_type": "display_data"
    },
    {
     "data": {
      "text/plain": [
       "<matplotlib.image.AxesImage at 0x29a3a045b80>"
      ]
     },
     "execution_count": 5,
     "metadata": {},
     "output_type": "execute_result"
    }
   ],
   "source": [
    "import matplotlib.pyplot as plt\n",
    "fig, (ax1, ax2) = plt.subplots(ncols=2, figsize=(10,10))\n",
    "ax1.imshow(cp.asnumpy(img1))\n",
    "ax2.imshow(cp.asnumpy(cp.rot90(img2, 3)))"
   ]
  },
  {
   "cell_type": "code",
   "execution_count": null,
   "metadata": {},
   "outputs": [],
   "source": [
    "m.generate_cupy(jitt)"
   ]
  }
 ],
 "metadata": {
  "kernelspec": {
   "display_name": "Python 3",
   "language": "python",
   "name": "python3"
  },
  "language_info": {
   "codemirror_mode": {
    "name": "ipython",
    "version": 3
   },
   "file_extension": ".py",
   "mimetype": "text/x-python",
   "name": "python",
   "nbconvert_exporter": "python",
   "pygments_lexer": "ipython3",
   "version": "3.8.5"
  }
 },
 "nbformat": 4,
 "nbformat_minor": 4
}
