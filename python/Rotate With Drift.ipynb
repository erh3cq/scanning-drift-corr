{
 "cells": [
  {
   "cell_type": "code",
   "execution_count": 1,
   "metadata": {},
   "outputs": [],
   "source": [
    "%matplotlib widget"
   ]
  },
  {
   "cell_type": "code",
   "execution_count": 2,
   "metadata": {},
   "outputs": [],
   "source": [
    "from ase.visualize import view"
   ]
  },
  {
   "cell_type": "code",
   "execution_count": 3,
   "metadata": {},
   "outputs": [],
   "source": [
    "from genSTEM import ImageModel\n",
    "import cupy as cp\n",
    "import numpy as np\n",
    "import matplotlib.pyplot as plt\n",
    "from ase.io import read\n",
    "from ase.build import make_supercell\n",
    "atoms = read(r\"C:\\Users\\thomasaar\\Downloads\\imeall-master\\imeall\\examples\\boundary_interstitials\\0013687130_v6bxv2_tv0.1bxv0.0_d1.8z_traj.xyz\")\n",
    "atoms = make_supercell(atoms, np.diag((1,2,1)))\n",
    "mask = atoms.positions[:,2] > 35\n",
    "del atoms[mask]\n",
    "atoms.rotate([1,0,0], (0,0,1))"
   ]
  },
  {
   "cell_type": "code",
   "execution_count": 4,
   "metadata": {},
   "outputs": [],
   "source": [
    "atoms[1716].number = 60\n",
    "atoms[1766].number = 60"
   ]
  },
  {
   "cell_type": "code",
   "execution_count": 6,
   "metadata": {},
   "outputs": [
    {
     "name": "stdout",
     "output_type": "stream",
     "text": [
      "Wall time: 2.46 s\n"
     ]
    }
   ],
   "source": [
    "%%time\n",
    "jitter = 0\n",
    "\n",
    "drift_strength = 5e-5\n",
    "drift_vector = [-1,0]\n",
    "centre_drift = True\n",
    "\n",
    "m0 = ImageModel(atoms, \n",
    "                scan_rotation=0, centre_drift=centre_drift)\n",
    "img0 = m0.generate_cupy()\n",
    "\n",
    "m1 = ImageModel(atoms, \n",
    "                drift_strength=drift_strength, \n",
    "                drift_vector=drift_vector,\n",
    "                jitter_strength=jitter, \n",
    "                scan_rotation=0, centre_drift=centre_drift)\n",
    "img1 = m1.generate_cupy()\n",
    "\n",
    "m2 = ImageModel(atoms, \n",
    "                jitter_strength=jitter, \n",
    "                drift_vector=drift_vector,\n",
    "                drift_strength=drift_strength, \n",
    "                scan_rotation=90, centre_drift=centre_drift)\n",
    "img2 = m2.generate_cupy()\n",
    "\n",
    "\n"
   ]
  },
  {
   "cell_type": "code",
   "execution_count": 7,
   "metadata": {},
   "outputs": [
    {
     "name": "stdout",
     "output_type": "stream",
     "text": [
      "Wall time: 0 ns\n"
     ]
    }
   ],
   "source": [
    "%%time\n",
    "img2 = cp.rot90(img2, 3)\n",
    "side = np.minimum(*img1.shape)\n",
    "\n",
    "img1 = img1[:side, :side]\n",
    "img2 = img2[:side, :side]"
   ]
  },
  {
   "cell_type": "code",
   "execution_count": 8,
   "metadata": {},
   "outputs": [],
   "source": [
    "I0, I1, I2 = img0.get(), img1.get(), img2.get()"
   ]
  },
  {
   "cell_type": "code",
   "execution_count": 39,
   "metadata": {},
   "outputs": [],
   "source": [
    "from skimage.transform import AffineTransform\n",
    "from cupyx.scipy.ndimage import affine_transform\n",
    "n = 1000\n",
    "N = np.linspace(-n, n, 11)\n",
    "w = img0.shape[0]\n",
    "scales = 1 + N / w\n",
    "shears = np.arctan(N/w)\n",
    "\n",
    "shifts = np.array(img0.shape) / 2.0\n",
    "shift = AffineTransform(translation=-shifts)\n",
    "shift_inv = AffineTransform(translation=shifts)\n",
    "\n",
    "\n",
    "def get_matrix(transform):\n",
    "    return np.linalg.inv(transform.params)\n",
    "\n",
    "transform1 = np.array(\n",
    "    [get_matrix(shift + AffineTransform(shear=shear) + shift_inv) \n",
    "        for shear, scale in zip(shears, scales)])\n",
    "transform1 = cp.array(transform1)\n",
    "\n",
    "transform2 = np.array(\n",
    "    [get_matrix(shift + AffineTransform(scale=scale) + shift_inv) \n",
    "        for shear, scale in zip(shears, scales)])\n",
    "transform2 = cp.array(transform2)\n"
   ]
  },
  {
   "cell_type": "code",
   "execution_count": 40,
   "metadata": {},
   "outputs": [],
   "source": [
    "def plot(imgs):\n",
    "    imgs2 = []\n",
    "    for img in imgs:\n",
    "        img -= img.min()\n",
    "        img /= img.max()\n",
    "        img *= 255\n",
    "        img = fromarray(img.astype(\"uint8\"))\n",
    "        imgs2.append(img)\n",
    "    display(TwoByTwoLayout(imgs2))"
   ]
  },
  {
   "cell_type": "code",
   "execution_count": 41,
   "metadata": {},
   "outputs": [],
   "source": [
    "from ipywidgets import TwoByTwoLayout, Output\n",
    "from PIL.Image import fromarray\n",
    "\n",
    "def plot(img):\n",
    "    img -= img.min()\n",
    "    img /= img.max()\n",
    "    img *= 255\n",
    "    img = fromarray(img.astype(\"uint8\"))\n",
    "    display(img)"
   ]
  },
  {
   "cell_type": "code",
   "execution_count": 42,
   "metadata": {},
   "outputs": [],
   "source": [
    "from ipywidgets import GridspecLayout\n",
    "\n",
    "def subplots(imgs, ncols=2):\n",
    "    nrows = int(np.ceil(len(imgs) / ncols))\n",
    "    grid = GridspecLayout(nrows, ncols)\n",
    "    for i in range(nrows):\n",
    "        for j in range(ncols):\n",
    "            index = i*nrows + j\n",
    "            if index < len(imgs):\n",
    "                o = Output()\n",
    "                with o:\n",
    "                    plot(imgs[index])\n",
    "                grid[i, j] = o\n",
    "                \n",
    "subplots([I0, I1])"
   ]
  },
  {
   "cell_type": "code",
   "execution_count": 44,
   "metadata": {},
   "outputs": [
    {
     "data": {
      "application/vnd.jupyter.widget-view+json": {
       "model_id": "25491932ed6c49c99ebb6c1dc6e09476",
       "version_major": 2,
       "version_minor": 0
      },
      "text/plain": [
       "Canvas(toolbar=Toolbar(toolitems=[('Home', 'Reset original view', 'home', 'home'), ('Back', 'Back to previous …"
      ]
     },
     "metadata": {},
     "output_type": "display_data"
    }
   ],
   "source": [
    "fig = plt.figure(figsize = (5, 20))\n",
    "grid = plt.GridSpec(ncols=2, nrows = len(shears), figure=fig)\n",
    "for row in range(len(shears)):\n",
    "    ax1, ax2 = fig.add_subplot(grid[row, 0]), fig.add_subplot(grid[row, 1])\n",
    "    ax1.imshow(affine_transform(img1, transform1[row]).get())\n",
    "    ax2.imshow(affine_transform(img2, transform2[row]).get())"
   ]
  },
  {
   "cell_type": "code",
   "execution_count": 112,
   "metadata": {},
   "outputs": [
    {
     "data": {
      "application/vnd.jupyter.widget-view+json": {
       "model_id": "19c855059d43438aba02bdd71e084dbc",
       "version_major": 2,
       "version_minor": 0
      },
      "text/plain": [
       "Canvas(toolbar=Toolbar(toolitems=[('Home', 'Reset original view', 'home', 'home'), ('Back', 'Back to previous …"
      ]
     },
     "metadata": {},
     "output_type": "display_data"
    },
    {
     "data": {
      "text/plain": [
       "<matplotlib.image.AxesImage at 0x1fa695badf0>"
      ]
     },
     "execution_count": 112,
     "metadata": {},
     "output_type": "execute_result"
    }
   ],
   "source": [
    "fig, (ax1, ax2, ax3) = plt.subplots(ncols=3)\n",
    "ax1.imshow(I0)\n",
    "ax2.imshow(I1)\n",
    "ax3.imshow(I2)"
   ]
  },
  {
   "cell_type": "code",
   "execution_count": 92,
   "metadata": {},
   "outputs": [
    {
     "data": {
      "application/vnd.jupyter.widget-view+json": {
       "model_id": "cc8f656046bd4dfab0714a6a2b513b87",
       "version_major": 2,
       "version_minor": 0
      },
      "text/plain": [
       "Canvas(toolbar=Toolbar(toolitems=[('Home', 'Reset original view', 'home', 'home'), ('Back', 'Back to previous …"
      ]
     },
     "metadata": {},
     "output_type": "display_data"
    }
   ],
   "source": [
    "nrows = 5\n",
    "ncols = 5\n",
    "img = I1\n",
    "\n",
    "shift_x, shift_y = np.array(img.shape) / 2.0\n",
    "tf_shift = AffineTransform(translation=[-shift_y, -shift_x])\n",
    "tf_shift_inv = AffineTransform(translation=[shift_y, shift_x])\n",
    "\n",
    "\n",
    "fig, AX = plt.subplots(ncols=ncols, nrows=nrows, )\n",
    "shears = np.linspace(-np.pi, np.pi, np.prod((ncols, nrows)))\n",
    "\n",
    "for shear, ax in zip(shears, AX.flatten()):\n",
    "    ax.imshow(warp(img, tf_shift + AffineTransform(shear=shear) + tf_shift_inv))"
   ]
  },
  {
   "cell_type": "code",
   "execution_count": 55,
   "metadata": {},
   "outputs": [
    {
     "data": {
      "text/plain": [
       "array([-3.14159265, -2.87979327, -2.61799388, -2.35619449, -2.0943951 ,\n",
       "       -1.83259571, -1.57079633, -1.30899694, -1.04719755, -0.78539816,\n",
       "       -0.52359878, -0.26179939,  0.        ,  0.26179939,  0.52359878,\n",
       "        0.78539816,  1.04719755,  1.30899694,  1.57079633,  1.83259571,\n",
       "        2.0943951 ,  2.35619449,  2.61799388,  2.87979327,  3.14159265])"
      ]
     },
     "execution_count": 55,
     "metadata": {},
     "output_type": "execute_result"
    }
   ],
   "source": [
    "shears"
   ]
  },
  {
   "cell_type": "code",
   "execution_count": 20,
   "metadata": {},
   "outputs": [
    {
     "data": {
      "application/vnd.jupyter.widget-view+json": {
       "model_id": "97040b907dd94abdbfe6c7ec46236f6d",
       "version_major": 2,
       "version_minor": 0
      },
      "text/plain": [
       "Canvas(toolbar=Toolbar(toolitems=[('Home', 'Reset original view', 'home', 'home'), ('Back', 'Back to previous …"
      ]
     },
     "metadata": {},
     "output_type": "display_data"
    },
    {
     "data": {
      "application/vnd.jupyter.widget-view+json": {
       "model_id": "6ca011b844f3468380ed08ef7a7065b4",
       "version_major": 2,
       "version_minor": 0
      },
      "text/plain": [
       "FloatSlider(value=1.0, description='Scale', max=1.8, min=0.19999999999999996, step=0.01)"
      ]
     },
     "metadata": {},
     "output_type": "display_data"
    },
    {
     "data": {
      "application/vnd.jupyter.widget-view+json": {
       "model_id": "0e3e3ba0f38e4e33bb313782d8ca14fe",
       "version_major": 2,
       "version_minor": 0
      },
      "text/plain": [
       "FloatSlider(value=0.0, description='Shear', max=0.8, min=-0.8, step=0.01)"
      ]
     },
     "metadata": {},
     "output_type": "display_data"
    },
    {
     "data": {
      "application/vnd.jupyter.widget-view+json": {
       "model_id": "eaa92f2bdf3b4abe9f1e9e76a9553093",
       "version_major": 2,
       "version_minor": 0
      },
      "text/plain": [
       "Output()"
      ]
     },
     "metadata": {},
     "output_type": "display_data"
    }
   ],
   "source": [
    "from skimage.transform import AffineTransform, warp\n",
    "\n",
    "shear_limits = 0.8\n",
    "shear_step = 0.01\n",
    "scale_limits = 0.8\n",
    "scale_step = 0.01\n",
    "\n",
    "import ipywidgets.widgets as w\n",
    "SCALE = w.FloatSlider(value=1, min=-scale_limits + 1, max=scale_limits + 1, step=shear_step, description='Scale')\n",
    "SHEAR = w.FloatSlider(value=0, min=-shear_limits, max=shear_limits, step=scale_step, description='Shear')\n",
    "img = I2\n",
    "\n",
    "o = w.Output()\n",
    "def warpit(img):\n",
    "    angle = 0\n",
    "    rot_matrix = AffineTransform(rotation = np.deg2rad(-angle))\n",
    "    shear_matrix = AffineTransform(shear = SHEAR.value,)\n",
    "    scale_matrix = AffineTransform(scale = (1, SCALE.value))\n",
    "\n",
    "    shift_x, shift_y = np.array(img.shape) / 2.0\n",
    "    tf_shift = AffineTransform(translation=[-shift_y, -shift_x])\n",
    "    tf_shift_inv = AffineTransform(translation=[shift_y, shift_x])\n",
    "    warped = warp(img,(tf_shift + shear_matrix + scale_matrix + rot_matrix + tf_shift_inv).inverse, order=0,)\n",
    "    return warped\n",
    "\n",
    "fig, (ax1, ax2) = plt.subplots(ncols=2)\n",
    "\n",
    "ax1.imshow(I1)\n",
    "im = ax2.imshow(warpit(img))\n",
    "\n",
    "def on_value_change(change):\n",
    "    with o:\n",
    "        new_img = warpit(img)\n",
    "        im.set_data(new_img)\n",
    "        im.autoscale()\n",
    "\n",
    "SCALE.observe(on_value_change, names='value')\n",
    "SHEAR.observe(on_value_change, names='value')\n",
    "display(SCALE)\n",
    "display(SHEAR)\n",
    "display(o)"
   ]
  },
  {
   "cell_type": "code",
   "execution_count": 23,
   "metadata": {},
   "outputs": [],
   "source": [
    "from PIL.Image import fromarray"
   ]
  },
  {
   "cell_type": "code",
   "execution_count": 46,
   "metadata": {},
   "outputs": [],
   "source": [
    "def plot(img):\n",
    "    img -= img.min()\n",
    "    img /= img.max()\n",
    "    img *= 255\n",
    "    img = fromarray(img.astype(\"uint8\"))\n",
    "    display(img)"
   ]
  },
  {
   "cell_type": "code",
   "execution_count": 48,
   "metadata": {},
   "outputs": [],
   "source": [
    "o1 = Output()\n",
    "o2 = Output()\n",
    "with o1:\n",
    "    plot(I1)\n",
    "with o2:\n",
    "    plot(I2)"
   ]
  },
  {
   "cell_type": "code",
   "execution_count": null,
   "metadata": {},
   "outputs": [],
   "source": []
  },
  {
   "cell_type": "code",
   "execution_count": null,
   "metadata": {},
   "outputs": [],
   "source": []
  },
  {
   "cell_type": "code",
   "execution_count": null,
   "metadata": {},
   "outputs": [],
   "source": []
  },
  {
   "cell_type": "code",
   "execution_count": 53,
   "metadata": {},
   "outputs": [
    {
     "data": {
      "application/vnd.jupyter.widget-view+json": {
       "model_id": "c18fa9bfcf2a41e2ac9e76e3e6951bd2",
       "version_major": 2,
       "version_minor": 0
      },
      "text/plain": [
       "TwoByTwoLayout(children=(VBox(children=(HBox(children=(Output(layout=Layout(grid_area='top-left'), outputs=({'…"
      ]
     },
     "metadata": {},
     "output_type": "display_data"
    }
   ],
   "source": [
    "from ipywidgets import Output, VBox, HBox, TwoByTwoLayout\n",
    "TwoByTwoLayout(top_left=VBox((HBox((o1, o1)), HBox((o1, o1)))), top_right=o2)"
   ]
  },
  {
   "cell_type": "code",
   "execution_count": 21,
   "metadata": {},
   "outputs": [
    {
     "data": {
      "application/vnd.jupyter.widget-view+json": {
       "model_id": "0ac35bac725d4d5ba72fa5984cd1e726",
       "version_major": 2,
       "version_minor": 0
      },
      "text/plain": [
       "Canvas(toolbar=Toolbar(toolitems=[('Home', 'Reset original view', 'home', 'home'), ('Back', 'Back to previous …"
      ]
     },
     "metadata": {},
     "output_type": "display_data"
    },
    {
     "data": {
      "text/plain": [
       "<matplotlib.image.AxesImage at 0x1fa5ff30880>"
      ]
     },
     "execution_count": 21,
     "metadata": {},
     "output_type": "execute_result"
    }
   ],
   "source": [
    "fig, (ax1, ax2) = plt.subplots(ncols=2)\n",
    "ax1.imshow(img1.get())\n",
    "ax2.imshow(img2.get())"
   ]
  },
  {
   "cell_type": "code",
   "execution_count": 29,
   "metadata": {},
   "outputs": [],
   "source": [
    "hamm = np.hamming(img1.shape[0])\n",
    "window = hamm[:, None] * hamm\n",
    "\n",
    "def hybrid_correlation(img1, img2, p=0.9, filter=True):\n",
    "    if filter:\n",
    "        hamm = cp.hamming(img1.shape[0])\n",
    "        window = hamm[:, None] * hamm\n",
    "        img1 = img1 * window\n",
    "        img2 = img2 * window\n",
    "\n",
    "    fftimg1 = cp.fft.fft2(img1)\n",
    "    fftimg2 = cp.fft.fft2(img2)\n",
    "    m = fftimg1 * cp.conj(fftimg2)\n",
    "    corr =  cp.real(cp.fft.ifft2(cp.abs(m)**p * cp.exp(1j * cp.angle(m))))\n",
    "    corr = cp.fft.fftshift(corr)\n",
    "    translation = cp.array(cp.unravel_index(corr.argmax(), corr.shape))\n",
    "    center = cp.array(corr.shape) // 2\n",
    "    return tuple(x for x in translation - center)\n",
    "\n",
    "def translate(img, shift):\n",
    "    return cp.roll(img, shift, axis=(0,1))"
   ]
  },
  {
   "cell_type": "code",
   "execution_count": 84,
   "metadata": {},
   "outputs": [
    {
     "data": {
      "application/vnd.jupyter.widget-view+json": {
       "model_id": "d741506fee524b10bdc57b4b29e848f1",
       "version_major": 2,
       "version_minor": 0
      },
      "text/plain": [
       "Canvas(toolbar=Toolbar(toolitems=[('Home', 'Reset original view', 'home', 'home'), ('Back', 'Back to previous …"
      ]
     },
     "metadata": {},
     "output_type": "display_data"
    },
    {
     "data": {
      "text/plain": [
       "<matplotlib.image.AxesImage at 0x24db7f997f0>"
      ]
     },
     "execution_count": 84,
     "metadata": {},
     "output_type": "execute_result"
    }
   ],
   "source": [
    "img2b = translate(img2, hybrid_correlation(img1, img2))\n",
    "plt.figure()\n",
    "plt.imshow((img1 + img2b).get())"
   ]
  },
  {
   "cell_type": "code",
   "execution_count": 78,
   "metadata": {},
   "outputs": [],
   "source": [
    "I2 = img1.get()\n",
    "I2 = img2.get()"
   ]
  },
  {
   "cell_type": "code",
   "execution_count": 24,
   "metadata": {},
   "outputs": [],
   "source": [
    "from scipy.ndimage import fourier_shift"
   ]
  },
  {
   "cell_type": "code",
   "execution_count": 56,
   "metadata": {},
   "outputs": [
    {
     "data": {
      "application/vnd.jupyter.widget-view+json": {
       "model_id": "92c6f55b7f584be5bfe77e3901ec82e4",
       "version_major": 2,
       "version_minor": 0
      },
      "text/plain": [
       "Canvas(toolbar=Toolbar(toolitems=[('Home', 'Reset original view', 'home', 'home'), ('Back', 'Back to previous …"
      ]
     },
     "metadata": {},
     "output_type": "display_data"
    },
    {
     "data": {
      "text/plain": [
       "<matplotlib.image.AxesImage at 0x24db5bb0220>"
      ]
     },
     "execution_count": 56,
     "metadata": {},
     "output_type": "execute_result"
    }
   ],
   "source": [
    "I1, I2 = img1.get(), img2.get()\n",
    "I3 = np.fft.ifft2(fourier_shift(np.fft.fft2(I2), S)).real\n",
    "I4 = np.roll(I2, S[0], axis=0)\n",
    "I4 = np.roll(I4, S[1], axis=1)\n",
    "I4 = np.roll(I2, S, axis=(0,1))\n",
    "I5 = scipy.ndimage.shift(I2, S)\n",
    "\n",
    "plt.figure()\n",
    "plt.imshow(I1 + I4)"
   ]
  },
  {
   "cell_type": "code",
   "execution_count": 55,
   "metadata": {},
   "outputs": [],
   "source": [
    "I4 = np.roll(I2, S, axis=(0,1))\n"
   ]
  },
  {
   "cell_type": "code",
   "execution_count": 29,
   "metadata": {},
   "outputs": [
    {
     "data": {
      "application/vnd.jupyter.widget-view+json": {
       "model_id": "ed563126beb64a47afe9da951fd5f75a",
       "version_major": 2,
       "version_minor": 0
      },
      "text/plain": [
       "Canvas(toolbar=Toolbar(toolitems=[('Home', 'Reset original view', 'home', 'home'), ('Back', 'Back to previous …"
      ]
     },
     "metadata": {},
     "output_type": "display_data"
    },
    {
     "data": {
      "text/plain": [
       "<matplotlib.image.AxesImage at 0x24db1f36910>"
      ]
     },
     "execution_count": 29,
     "metadata": {},
     "output_type": "execute_result"
    }
   ],
   "source": [
    "plt.figure()\n",
    "plt.imshow(I2)"
   ]
  },
  {
   "cell_type": "code",
   "execution_count": null,
   "metadata": {},
   "outputs": [],
   "source": [
    "corr = scipy.signal.correlate2d(img1.get(), img2.get())"
   ]
  },
  {
   "cell_type": "code",
   "execution_count": 237,
   "metadata": {},
   "outputs": [
    {
     "data": {
      "application/vnd.jupyter.widget-view+json": {
       "model_id": "6e1fb871ca2e4769b6e03de17d8fc57b",
       "version_major": 2,
       "version_minor": 0
      },
      "text/plain": [
       "Canvas(toolbar=Toolbar(toolitems=[('Home', 'Reset original view', 'home', 'home'), ('Back', 'Back to previous …"
      ]
     },
     "metadata": {},
     "output_type": "display_data"
    },
    {
     "data": {
      "text/plain": [
       "<matplotlib.image.AxesImage at 0x29a053f7490>"
      ]
     },
     "execution_count": 237,
     "metadata": {},
     "output_type": "execute_result"
    }
   ],
   "source": [
    "plt.figure()\n",
    "plt.imshow(window)"
   ]
  },
  {
   "cell_type": "code",
   "execution_count": null,
   "metadata": {},
   "outputs": [],
   "source": [
    "window = "
   ]
  },
  {
   "cell_type": "code",
   "execution_count": 13,
   "metadata": {},
   "outputs": [
    {
     "name": "stdout",
     "output_type": "stream",
     "text": [
      "957 µs ± 22.6 µs per loop (mean ± std. dev. of 7 runs, 1000 loops each)\n",
      "2.92 ms ± 84.9 µs per loop (mean ± std. dev. of 7 runs, 100 loops each)\n"
     ]
    }
   ],
   "source": [
    "data = np.random.random((300, 300))\n",
    "%timeit np.real(np.fft.ifft(data))\n",
    "%timeit np.fft.irfft(data)"
   ]
  },
  {
   "cell_type": "code",
   "execution_count": 18,
   "metadata": {},
   "outputs": [],
   "source": [
    "from py4DSTEM.process.utils import get_maxima_2D"
   ]
  },
  {
   "cell_type": "code",
   "execution_count": null,
   "metadata": {},
   "outputs": [],
   "source": []
  },
  {
   "cell_type": "code",
   "execution_count": null,
   "metadata": {},
   "outputs": [],
   "source": [
    "get_maxima_2D()"
   ]
  },
  {
   "cell_type": "code",
   "execution_count": 19,
   "metadata": {},
   "outputs": [],
   "source": [
    "# a = np.real(np.fft.ifft(data))\n",
    "# b = np.fft.irfft(data)\n",
    "# np.testing.assert_array_almost_equal(a, b)"
   ]
  },
  {
   "cell_type": "code",
   "execution_count": 15,
   "metadata": {},
   "outputs": [
    {
     "data": {
      "text/plain": [
       "(300, 300)"
      ]
     },
     "execution_count": 15,
     "metadata": {},
     "output_type": "execute_result"
    }
   ],
   "source": [
    "a.shape"
   ]
  },
  {
   "cell_type": "code",
   "execution_count": 16,
   "metadata": {},
   "outputs": [
    {
     "data": {
      "text/plain": [
       "(300, 598)"
      ]
     },
     "execution_count": 16,
     "metadata": {},
     "output_type": "execute_result"
    }
   ],
   "source": [
    "b.shape"
   ]
  },
  {
   "cell_type": "code",
   "execution_count": 5,
   "metadata": {},
   "outputs": [
    {
     "data": {
      "application/vnd.jupyter.widget-view+json": {
       "model_id": "01a210e58ab749d8804d4a8a0397efe8",
       "version_major": 2,
       "version_minor": 0
      },
      "text/plain": [
       "Canvas(toolbar=Toolbar(toolitems=[('Home', 'Reset original view', 'home', 'home'), ('Back', 'Back to previous …"
      ]
     },
     "metadata": {},
     "output_type": "display_data"
    },
    {
     "data": {
      "text/plain": [
       "<matplotlib.image.AxesImage at 0x29a3a045b80>"
      ]
     },
     "execution_count": 5,
     "metadata": {},
     "output_type": "execute_result"
    }
   ],
   "source": [
    "import matplotlib.pyplot as plt\n",
    "fig, (ax1, ax2) = plt.subplots(ncols=2, figsize=(10,10))\n",
    "ax1.imshow(cp.asnumpy(img1))\n",
    "ax2.imshow(cp.asnumpy(cp.rot90(img2, 3)))"
   ]
  },
  {
   "cell_type": "code",
   "execution_count": null,
   "metadata": {},
   "outputs": [],
   "source": [
    "m.generate_cupy(jitt)"
   ]
  }
 ],
 "metadata": {
  "kernelspec": {
   "display_name": "Python 3",
   "language": "python",
   "name": "python3"
  },
  "language_info": {
   "codemirror_mode": {
    "name": "ipython",
    "version": 3
   },
   "file_extension": ".py",
   "mimetype": "text/x-python",
   "name": "python",
   "nbconvert_exporter": "python",
   "pygments_lexer": "ipython3",
   "version": "3.8.5"
  }
 },
 "nbformat": 4,
 "nbformat_minor": 4
}
