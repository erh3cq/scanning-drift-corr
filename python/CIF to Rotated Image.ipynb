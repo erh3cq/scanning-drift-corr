{
 "cells": [
  {
   "cell_type": "code",
   "execution_count": 2,
   "metadata": {},
   "outputs": [],
   "source": [
    "from scanpatterns import create_model, test_cell"
   ]
  },
  {
   "cell_type": "code",
   "execution_count": 10,
   "metadata": {},
   "outputs": [],
   "source": [
    "from copy import copy, deepcopy"
   ]
  },
  {
   "cell_type": "code",
   "execution_count": 13,
   "metadata": {},
   "outputs": [],
   "source": [
    "g =  hs.model.components1D.Gaussian()"
   ]
  },
  {
   "cell_type": "code",
   "execution_count": 20,
   "metadata": {},
   "outputs": [
    {
     "data": {
      "text/plain": [
       "<Gaussian (Gaussian component)>"
      ]
     },
     "execution_count": 20,
     "metadata": {},
     "output_type": "execute_result"
    }
   ],
   "source": [
    "g"
   ]
  },
  {
   "cell_type": "code",
   "execution_count": 23,
   "metadata": {},
   "outputs": [
    {
     "ename": "AttributeError",
     "evalue": "'Gaussian' object has no attribute 'deepcopy'",
     "output_type": "error",
     "traceback": [
      "\u001b[1;31m---------------------------------------------------------------------------\u001b[0m",
      "\u001b[1;31mAttributeError\u001b[0m                            Traceback (most recent call last)",
      "\u001b[1;32m<ipython-input-23-dca43764295a>\u001b[0m in \u001b[0;36m<module>\u001b[1;34m\u001b[0m\n\u001b[0;32m      3\u001b[0m \u001b[1;33m\u001b[0m\u001b[0m\n\u001b[0;32m      4\u001b[0m \u001b[0mg\u001b[0m \u001b[1;33m=\u001b[0m  \u001b[0mhs\u001b[0m\u001b[1;33m.\u001b[0m\u001b[0mmodel\u001b[0m\u001b[1;33m.\u001b[0m\u001b[0mcomponents1D\u001b[0m\u001b[1;33m.\u001b[0m\u001b[0mGaussian\u001b[0m\u001b[1;33m(\u001b[0m\u001b[1;33m)\u001b[0m\u001b[1;33m\u001b[0m\u001b[1;33m\u001b[0m\u001b[0m\n\u001b[1;32m----> 5\u001b[1;33m \u001b[0mg\u001b[0m\u001b[1;33m.\u001b[0m\u001b[0mdeepcopy\u001b[0m\u001b[1;33m(\u001b[0m\u001b[1;33m)\u001b[0m\u001b[1;33m\u001b[0m\u001b[1;33m\u001b[0m\u001b[0m\n\u001b[0m",
      "\u001b[1;31mAttributeError\u001b[0m: 'Gaussian' object has no attribute 'deepcopy'"
     ]
    }
   ],
   "source": [
    "#copy(m)\n",
    "#deepcopy(m)\n",
    "\n",
    "g =  hs.model.components1D.Gaussian()\n",
    "g.deepcopy()\n"
   ]
  },
  {
   "cell_type": "code",
   "execution_count": 33,
   "metadata": {},
   "outputs": [],
   "source": [
    "m.append(g)"
   ]
  },
  {
   "cell_type": "code",
   "execution_count": 36,
   "metadata": {},
   "outputs": [
    {
     "data": {
      "text/plain": [
       "<Model1D>"
      ]
     },
     "execution_count": 36,
     "metadata": {},
     "output_type": "execute_result"
    }
   ],
   "source": [
    "g.model"
   ]
  },
  {
   "cell_type": "code",
   "execution_count": 40,
   "metadata": {},
   "outputs": [
    {
     "data": {
      "text/plain": [
       "True"
      ]
     },
     "execution_count": 40,
     "metadata": {},
     "output_type": "execute_result"
    }
   ],
   "source": [
    "copy(m)[0] is m[0]"
   ]
  },
  {
   "cell_type": "code",
   "execution_count": 26,
   "metadata": {},
   "outputs": [],
   "source": [
    "p = g.parameters[0]"
   ]
  },
  {
   "cell_type": "code",
   "execution_count": 29,
   "metadata": {},
   "outputs": [
    {
     "data": {
      "text/plain": [
       "<Parameter A of Gaussian component>"
      ]
     },
     "execution_count": 29,
     "metadata": {},
     "output_type": "execute_result"
    }
   ],
   "source": [
    "deepcopy(p)"
   ]
  },
  {
   "cell_type": "code",
   "execution_count": 31,
   "metadata": {},
   "outputs": [
    {
     "ename": "AttributeError",
     "evalue": "'Parameter' object has no attribute 'deepcopy'",
     "output_type": "error",
     "traceback": [
      "\u001b[1;31m---------------------------------------------------------------------------\u001b[0m",
      "\u001b[1;31mAttributeError\u001b[0m                            Traceback (most recent call last)",
      "\u001b[1;32m<ipython-input-31-33a07cc235e0>\u001b[0m in \u001b[0;36m<module>\u001b[1;34m\u001b[0m\n\u001b[1;32m----> 1\u001b[1;33m \u001b[0mp\u001b[0m\u001b[1;33m.\u001b[0m\u001b[0mdeepcopy\u001b[0m\u001b[1;33m(\u001b[0m\u001b[1;33m)\u001b[0m\u001b[1;33m\u001b[0m\u001b[1;33m\u001b[0m\u001b[0m\n\u001b[0m",
      "\u001b[1;31mAttributeError\u001b[0m: 'Parameter' object has no attribute 'deepcopy'"
     ]
    }
   ],
   "source": [
    "p.deepcopy()"
   ]
  },
  {
   "cell_type": "code",
   "execution_count": 12,
   "metadata": {},
   "outputs": [
    {
     "ename": "KeyError",
     "evalue": "'__deepcopy__'",
     "output_type": "error",
     "traceback": [
      "\u001b[1;31m---------------------------------------------------------------------------\u001b[0m",
      "\u001b[1;31mKeyError\u001b[0m                                  Traceback (most recent call last)",
      "\u001b[1;32m<ipython-input-12-d87cfa73b7ed>\u001b[0m in \u001b[0;36m<module>\u001b[1;34m\u001b[0m\n\u001b[0;32m      5\u001b[0m \u001b[1;33m\u001b[0m\u001b[0m\n\u001b[0;32m      6\u001b[0m \u001b[0mm\u001b[0m \u001b[1;33m=\u001b[0m \u001b[0ms\u001b[0m\u001b[1;33m.\u001b[0m\u001b[0mcreate_model\u001b[0m\u001b[1;33m(\u001b[0m\u001b[1;33m)\u001b[0m\u001b[1;33m\u001b[0m\u001b[1;33m\u001b[0m\u001b[0m\n\u001b[1;32m----> 7\u001b[1;33m \u001b[0mdeepcopy\u001b[0m\u001b[1;33m(\u001b[0m\u001b[0mm\u001b[0m\u001b[1;33m)\u001b[0m\u001b[1;33m\u001b[0m\u001b[1;33m\u001b[0m\u001b[0m\n\u001b[0m",
      "\u001b[1;32m~\\.conda\\envs\\py39\\lib\\copy.py\u001b[0m in \u001b[0;36mdeepcopy\u001b[1;34m(x, memo, _nil)\u001b[0m\n\u001b[0;32m    170\u001b[0m                     \u001b[0my\u001b[0m \u001b[1;33m=\u001b[0m \u001b[0mx\u001b[0m\u001b[1;33m\u001b[0m\u001b[1;33m\u001b[0m\u001b[0m\n\u001b[0;32m    171\u001b[0m                 \u001b[1;32melse\u001b[0m\u001b[1;33m:\u001b[0m\u001b[1;33m\u001b[0m\u001b[1;33m\u001b[0m\u001b[0m\n\u001b[1;32m--> 172\u001b[1;33m                     \u001b[0my\u001b[0m \u001b[1;33m=\u001b[0m \u001b[0m_reconstruct\u001b[0m\u001b[1;33m(\u001b[0m\u001b[0mx\u001b[0m\u001b[1;33m,\u001b[0m \u001b[0mmemo\u001b[0m\u001b[1;33m,\u001b[0m \u001b[1;33m*\u001b[0m\u001b[0mrv\u001b[0m\u001b[1;33m)\u001b[0m\u001b[1;33m\u001b[0m\u001b[1;33m\u001b[0m\u001b[0m\n\u001b[0m\u001b[0;32m    173\u001b[0m \u001b[1;33m\u001b[0m\u001b[0m\n\u001b[0;32m    174\u001b[0m     \u001b[1;31m# If is its own copy, don't memoize.\u001b[0m\u001b[1;33m\u001b[0m\u001b[1;33m\u001b[0m\u001b[1;33m\u001b[0m\u001b[0m\n",
      "\u001b[1;32m~\\.conda\\envs\\py39\\lib\\copy.py\u001b[0m in \u001b[0;36m_reconstruct\u001b[1;34m(x, memo, func, args, state, listiter, dictiter, deepcopy)\u001b[0m\n\u001b[0;32m    268\u001b[0m     \u001b[1;32mif\u001b[0m \u001b[0mstate\u001b[0m \u001b[1;32mis\u001b[0m \u001b[1;32mnot\u001b[0m \u001b[1;32mNone\u001b[0m\u001b[1;33m:\u001b[0m\u001b[1;33m\u001b[0m\u001b[1;33m\u001b[0m\u001b[0m\n\u001b[0;32m    269\u001b[0m         \u001b[1;32mif\u001b[0m \u001b[0mdeep\u001b[0m\u001b[1;33m:\u001b[0m\u001b[1;33m\u001b[0m\u001b[1;33m\u001b[0m\u001b[0m\n\u001b[1;32m--> 270\u001b[1;33m             \u001b[0mstate\u001b[0m \u001b[1;33m=\u001b[0m \u001b[0mdeepcopy\u001b[0m\u001b[1;33m(\u001b[0m\u001b[0mstate\u001b[0m\u001b[1;33m,\u001b[0m \u001b[0mmemo\u001b[0m\u001b[1;33m)\u001b[0m\u001b[1;33m\u001b[0m\u001b[1;33m\u001b[0m\u001b[0m\n\u001b[0m\u001b[0;32m    271\u001b[0m         \u001b[1;32mif\u001b[0m \u001b[0mhasattr\u001b[0m\u001b[1;33m(\u001b[0m\u001b[0my\u001b[0m\u001b[1;33m,\u001b[0m \u001b[1;34m'__setstate__'\u001b[0m\u001b[1;33m)\u001b[0m\u001b[1;33m:\u001b[0m\u001b[1;33m\u001b[0m\u001b[1;33m\u001b[0m\u001b[0m\n\u001b[0;32m    272\u001b[0m             \u001b[0my\u001b[0m\u001b[1;33m.\u001b[0m\u001b[0m__setstate__\u001b[0m\u001b[1;33m(\u001b[0m\u001b[0mstate\u001b[0m\u001b[1;33m)\u001b[0m\u001b[1;33m\u001b[0m\u001b[1;33m\u001b[0m\u001b[0m\n",
      "\u001b[1;32m~\\.conda\\envs\\py39\\lib\\copy.py\u001b[0m in \u001b[0;36mdeepcopy\u001b[1;34m(x, memo, _nil)\u001b[0m\n\u001b[0;32m    144\u001b[0m     \u001b[0mcopier\u001b[0m \u001b[1;33m=\u001b[0m \u001b[0m_deepcopy_dispatch\u001b[0m\u001b[1;33m.\u001b[0m\u001b[0mget\u001b[0m\u001b[1;33m(\u001b[0m\u001b[0mcls\u001b[0m\u001b[1;33m)\u001b[0m\u001b[1;33m\u001b[0m\u001b[1;33m\u001b[0m\u001b[0m\n\u001b[0;32m    145\u001b[0m     \u001b[1;32mif\u001b[0m \u001b[0mcopier\u001b[0m \u001b[1;32mis\u001b[0m \u001b[1;32mnot\u001b[0m \u001b[1;32mNone\u001b[0m\u001b[1;33m:\u001b[0m\u001b[1;33m\u001b[0m\u001b[1;33m\u001b[0m\u001b[0m\n\u001b[1;32m--> 146\u001b[1;33m         \u001b[0my\u001b[0m \u001b[1;33m=\u001b[0m \u001b[0mcopier\u001b[0m\u001b[1;33m(\u001b[0m\u001b[0mx\u001b[0m\u001b[1;33m,\u001b[0m \u001b[0mmemo\u001b[0m\u001b[1;33m)\u001b[0m\u001b[1;33m\u001b[0m\u001b[1;33m\u001b[0m\u001b[0m\n\u001b[0m\u001b[0;32m    147\u001b[0m     \u001b[1;32melse\u001b[0m\u001b[1;33m:\u001b[0m\u001b[1;33m\u001b[0m\u001b[1;33m\u001b[0m\u001b[0m\n\u001b[0;32m    148\u001b[0m         \u001b[1;32mif\u001b[0m \u001b[0missubclass\u001b[0m\u001b[1;33m(\u001b[0m\u001b[0mcls\u001b[0m\u001b[1;33m,\u001b[0m \u001b[0mtype\u001b[0m\u001b[1;33m)\u001b[0m\u001b[1;33m:\u001b[0m\u001b[1;33m\u001b[0m\u001b[1;33m\u001b[0m\u001b[0m\n",
      "\u001b[1;32m~\\.conda\\envs\\py39\\lib\\copy.py\u001b[0m in \u001b[0;36m_deepcopy_dict\u001b[1;34m(x, memo, deepcopy)\u001b[0m\n\u001b[0;32m    228\u001b[0m     \u001b[0mmemo\u001b[0m\u001b[1;33m[\u001b[0m\u001b[0mid\u001b[0m\u001b[1;33m(\u001b[0m\u001b[0mx\u001b[0m\u001b[1;33m)\u001b[0m\u001b[1;33m]\u001b[0m \u001b[1;33m=\u001b[0m \u001b[0my\u001b[0m\u001b[1;33m\u001b[0m\u001b[1;33m\u001b[0m\u001b[0m\n\u001b[0;32m    229\u001b[0m     \u001b[1;32mfor\u001b[0m \u001b[0mkey\u001b[0m\u001b[1;33m,\u001b[0m \u001b[0mvalue\u001b[0m \u001b[1;32min\u001b[0m \u001b[0mx\u001b[0m\u001b[1;33m.\u001b[0m\u001b[0mitems\u001b[0m\u001b[1;33m(\u001b[0m\u001b[1;33m)\u001b[0m\u001b[1;33m:\u001b[0m\u001b[1;33m\u001b[0m\u001b[1;33m\u001b[0m\u001b[0m\n\u001b[1;32m--> 230\u001b[1;33m         \u001b[0my\u001b[0m\u001b[1;33m[\u001b[0m\u001b[0mdeepcopy\u001b[0m\u001b[1;33m(\u001b[0m\u001b[0mkey\u001b[0m\u001b[1;33m,\u001b[0m \u001b[0mmemo\u001b[0m\u001b[1;33m)\u001b[0m\u001b[1;33m]\u001b[0m \u001b[1;33m=\u001b[0m \u001b[0mdeepcopy\u001b[0m\u001b[1;33m(\u001b[0m\u001b[0mvalue\u001b[0m\u001b[1;33m,\u001b[0m \u001b[0mmemo\u001b[0m\u001b[1;33m)\u001b[0m\u001b[1;33m\u001b[0m\u001b[1;33m\u001b[0m\u001b[0m\n\u001b[0m\u001b[0;32m    231\u001b[0m     \u001b[1;32mreturn\u001b[0m \u001b[0my\u001b[0m\u001b[1;33m\u001b[0m\u001b[1;33m\u001b[0m\u001b[0m\n\u001b[0;32m    232\u001b[0m \u001b[0md\u001b[0m\u001b[1;33m[\u001b[0m\u001b[0mdict\u001b[0m\u001b[1;33m]\u001b[0m \u001b[1;33m=\u001b[0m \u001b[0m_deepcopy_dict\u001b[0m\u001b[1;33m\u001b[0m\u001b[1;33m\u001b[0m\u001b[0m\n",
      "\u001b[1;32m~\\.conda\\envs\\py39\\lib\\copy.py\u001b[0m in \u001b[0;36mdeepcopy\u001b[1;34m(x, memo, _nil)\u001b[0m\n\u001b[0;32m    149\u001b[0m             \u001b[0my\u001b[0m \u001b[1;33m=\u001b[0m \u001b[0m_deepcopy_atomic\u001b[0m\u001b[1;33m(\u001b[0m\u001b[0mx\u001b[0m\u001b[1;33m,\u001b[0m \u001b[0mmemo\u001b[0m\u001b[1;33m)\u001b[0m\u001b[1;33m\u001b[0m\u001b[1;33m\u001b[0m\u001b[0m\n\u001b[0;32m    150\u001b[0m         \u001b[1;32melse\u001b[0m\u001b[1;33m:\u001b[0m\u001b[1;33m\u001b[0m\u001b[1;33m\u001b[0m\u001b[0m\n\u001b[1;32m--> 151\u001b[1;33m             \u001b[0mcopier\u001b[0m \u001b[1;33m=\u001b[0m \u001b[0mgetattr\u001b[0m\u001b[1;33m(\u001b[0m\u001b[0mx\u001b[0m\u001b[1;33m,\u001b[0m \u001b[1;34m\"__deepcopy__\"\u001b[0m\u001b[1;33m,\u001b[0m \u001b[1;32mNone\u001b[0m\u001b[1;33m)\u001b[0m\u001b[1;33m\u001b[0m\u001b[1;33m\u001b[0m\u001b[0m\n\u001b[0m\u001b[0;32m    152\u001b[0m             \u001b[1;32mif\u001b[0m \u001b[0mcopier\u001b[0m \u001b[1;32mis\u001b[0m \u001b[1;32mnot\u001b[0m \u001b[1;32mNone\u001b[0m\u001b[1;33m:\u001b[0m\u001b[1;33m\u001b[0m\u001b[1;33m\u001b[0m\u001b[0m\n\u001b[0;32m    153\u001b[0m                 \u001b[0my\u001b[0m \u001b[1;33m=\u001b[0m \u001b[0mcopier\u001b[0m\u001b[1;33m(\u001b[0m\u001b[0mmemo\u001b[0m\u001b[1;33m)\u001b[0m\u001b[1;33m\u001b[0m\u001b[1;33m\u001b[0m\u001b[0m\n",
      "\u001b[1;32mc:\\users\\thomasaar\\documents\\github\\hyperspy\\hyperspy\\events.py\u001b[0m in \u001b[0;36m__getattr__\u001b[1;34m(self, name)\u001b[0m\n\u001b[0;32m    105\u001b[0m         could not be found in the normal way).\n\u001b[0;32m    106\u001b[0m         \"\"\"\n\u001b[1;32m--> 107\u001b[1;33m         \u001b[1;32mreturn\u001b[0m \u001b[0mself\u001b[0m\u001b[1;33m.\u001b[0m\u001b[0m_events\u001b[0m\u001b[1;33m[\u001b[0m\u001b[0mname\u001b[0m\u001b[1;33m]\u001b[0m\u001b[1;33m\u001b[0m\u001b[1;33m\u001b[0m\u001b[0m\n\u001b[0m\u001b[0;32m    108\u001b[0m \u001b[1;33m\u001b[0m\u001b[0m\n\u001b[0;32m    109\u001b[0m     \u001b[1;32mdef\u001b[0m \u001b[0m__delattr__\u001b[0m\u001b[1;33m(\u001b[0m\u001b[0mself\u001b[0m\u001b[1;33m,\u001b[0m \u001b[0mname\u001b[0m\u001b[1;33m)\u001b[0m\u001b[1;33m:\u001b[0m\u001b[1;33m\u001b[0m\u001b[1;33m\u001b[0m\u001b[0m\n",
      "\u001b[1;31mKeyError\u001b[0m: '__deepcopy__'"
     ]
    }
   ],
   "source": [
    "import hyperspy.api as hs\n",
    "s = hs.signals.Signal1D([1,2,3])\n",
    "\n",
    "deepcopy(s)\n",
    "\n",
    "m = s.create_model()\n",
    "m.\n",
    "deepcopy(m)\n"
   ]
  },
  {
   "cell_type": "code",
   "execution_count": 9,
   "metadata": {},
   "outputs": [
    {
     "data": {
      "text/plain": [
       "<Model1D>"
      ]
     },
     "execution_count": 9,
     "metadata": {},
     "output_type": "execute_result"
    }
   ],
   "source": []
  },
  {
   "cell_type": "code",
   "execution_count": 3,
   "metadata": {},
   "outputs": [
    {
     "data": {
      "text/plain": [
       "<function scanpatterns.test_cell()>"
      ]
     },
     "execution_count": 3,
     "metadata": {},
     "output_type": "execute_result"
    }
   ],
   "source": [
    "test_cell()"
   ]
  },
  {
   "cell_type": "code",
   "execution_count": null,
   "metadata": {},
   "outputs": [],
   "source": [
    "create_model()"
   ]
  },
  {
   "cell_type": "code",
   "execution_count": 1,
   "metadata": {},
   "outputs": [
    {
     "name": "stderr",
     "output_type": "stream",
     "text": [
      "<frozen importlib._bootstrap>:219: RuntimeWarning: numpy.ufunc size changed, may indicate binary incompatibility. Expected 192 from C header, got 216 from PyObject\n",
      "<frozen importlib._bootstrap>:219: RuntimeWarning: numpy.ufunc size changed, may indicate binary incompatibility. Expected 192 from C header, got 216 from PyObject\n"
     ]
    }
   ],
   "source": [
    "%matplotlib qt\n",
    "import hyperspy.api as hs\n",
    "Signal2D = hs.signals.Signal2D\n",
    "Gaussian2D = hs.model.components2D.Gaussian2D\n",
    "\n",
    "from ase.cluster.cubic import FaceCenteredCubic\n",
    "from itertools import permutations\n",
    "import numpy as np\n",
    "import matplotlib.pyplot as plt\n",
    "from skimage.transform import AffineTransform, warp\n",
    "from transforms import correlation, translate\n"
   ]
  },
  {
   "cell_type": "code",
   "execution_count": 350,
   "metadata": {},
   "outputs": [],
   "source": [
    "def create_model(cell, extra_space=0, pbc=True, pixel_size: \"Å\" =0.1):\n",
    "    XLEN, YLEN = ((cell.cell.diagonal()[:2] + 2*extra_space) // pixel_size).astype(int)\n",
    "    ax0 = {\n",
    "        'name':'y',\n",
    "        'size': YLEN,\n",
    "        'offset':-extra_space,\n",
    "        'scale':pixel_size, \n",
    "        'units':'Å',\n",
    "    }\n",
    "    ax1 = {\n",
    "        'name':'x', \n",
    "        'size': XLEN, \n",
    "        'offset':-extra_space,\n",
    "        'scale':pixel_size, \n",
    "        'units':'Å',\n",
    "    }\n",
    "\n",
    "    axes = [ax0, ax1]\n",
    "    s = Signal2D(np.zeros((YLEN, XLEN)), axes=axes)\n",
    "\n",
    "    m = s.create_model()\n",
    "\n",
    "\n",
    "    if pbc:\n",
    "        a = [-1, 0, 1]\n",
    "        merge = [list(zip(x,a)) for x in permutations(a,len(a))]\n",
    "        l = []\n",
    "        for entry in merge:\n",
    "            l += entry\n",
    "        shifts = set(l)\n",
    "    else:\n",
    "        shifts = [0]\n",
    "\n",
    "    cell_center = np.array([(ax.high_value + ax.scale + ax.low_value)/2 for ax in s.axes_manager.signal_axes])\n",
    "    diagonal_radius = np.array([ax.high_value for ax in s.axes_manager.signal_axes])\n",
    "    \n",
    "    sigma = 0.4\n",
    "    for atom in cell:\n",
    "        for offset in shifts:\n",
    "            xyposition = atom.position[:2] + cell.cell.diagonal()[:2] * offset\n",
    "            if np.abs(np.linalg.norm(xyposition - cell_center)) > np.linalg.norm(cell_center - diagonal_radius) + 1:\n",
    "                continue\n",
    "            A = atom.number**2\n",
    "            x, y = xyposition\n",
    "            g = Gaussian2D(A, sigma, sigma, x, y )\n",
    "            m.append(g)\n",
    "    return m\n",
    "\n",
    "def rotation_matrix(deg):\n",
    "    c = np.cos(np.deg2rad(deg))\n",
    "    s = np.sin(np.deg2rad(deg))\n",
    "    return np.array([[c, -s],[s, c]])\n",
    "    \n",
    "def rotate_model(m, angle=90):\n",
    "    center = cell.cell.diagonal()[:2] / 2\n",
    "    cx, cy = center\n",
    "\n",
    "    for comp in m:\n",
    "        comp_center = [comp.centre_x.value, comp.centre_y.value]\n",
    "        comp.centre_x.value, comp.centre_y.value = rotation_matrix(angle) @ (comp_center - center) + center\n",
    "    return m"
   ]
  },
  {
   "cell_type": "code",
   "execution_count": 351,
   "metadata": {},
   "outputs": [],
   "source": [
    "surfaces = [(1, 0, 0), (1, 1, 0), (1, 1, 1)]\n",
    "layers = [3, 4, 5]\n",
    "lc = 3.61000\n",
    "cell = FaceCenteredCubic('Cu', surfaces, layers, latticeconstant=lc)\n",
    "cell[46].number = 50\n",
    "\n",
    "m = create_model(cell, extra_space=2, pbc=False)\n",
    "s2 = m.as_signal()\n",
    "\n",
    "angle = 90\n",
    "\n",
    "m2 = rotate_model(m, angle)\n",
    "s3 = m2.as_signal()"
   ]
  },
  {
   "cell_type": "code",
   "execution_count": 352,
   "metadata": {},
   "outputs": [],
   "source": [
    "s3.plot()"
   ]
  },
  {
   "cell_type": "code",
   "execution_count": 239,
   "metadata": {},
   "outputs": [],
   "source": [
    "Expression = hs.model.components2D.Expression\n",
    "\n",
    "class TopHat2D(Expression):\n",
    "    def __init__(self, A=1., x0=-1., xf=1., y0=-1., yf=1, module=\"numpy\", **kwargs):\n",
    "        super(TopHat2D, self).__init__(\n",
    "            expression='where((x >= x0) & (x < xf) & (y >= y0) & (y < yf), A, 0)',\n",
    "            name=\"TopHat2D\",\n",
    "            A=A,\n",
    "            x0=x0,\n",
    "            xf=xf,\n",
    "            y0=y0,\n",
    "            yf=yf,\n",
    "            module=module,\n",
    "            autodoc=False,\n",
    "            **kwargs)\n",
    "\n",
    "        self.isbackground = False\n",
    "        self.convolved = True"
   ]
  },
  {
   "cell_type": "code",
   "execution_count": 308,
   "metadata": {},
   "outputs": [
    {
     "name": "stderr",
     "output_type": "stream",
     "text": [
      "c:\\users\\thomasaar\\documents\\github\\hyperspy\\hyperspy\\_components\\expression.py:291: UserWarning: The gradients can not be computed with sympy.\n",
      "  warnings.warn(\"The gradients can not be computed with sympy.\",\n"
     ]
    }
   ],
   "source": [
    "s = Signal2D(np.zeros((100, 100)))\n",
    "m = s.create_model()\n",
    "m.append(TopHat2D(10, 10, 90, 10, 90))\n",
    "m.append(TopHat2D(-10, 20, 80, 20, 80))\n",
    "\n",
    "#m.append(TopHat2D(10, 10, 13, 10, 13))\n",
    "#m.append(TopHat2D(20, 87, 90, 87, 90))\n",
    "#m.append(TopHat2D(30, 10, 13, 87, 90))\n"
   ]
  },
  {
   "cell_type": "code",
   "execution_count": 334,
   "metadata": {},
   "outputs": [
    {
     "name": "stdout",
     "output_type": "stream",
     "text": [
      "Theta: 0.0\n"
     ]
    }
   ],
   "source": [
    "s = drift_image(m, [0,0])\n",
    "vec = [1, 0]\n",
    "rad = np.angle(vec[0] + vec[1]*1j)\n",
    "print(\"Theta:\", np.rad2deg(rad))\n",
    "\n",
    "grad = 250\n",
    "drift_vector = np.array(vec)/grad\n",
    "s1 = drift_image(m, drift_vector)"
   ]
  },
  {
   "cell_type": "code",
   "execution_count": 335,
   "metadata": {},
   "outputs": [
    {
     "data": {
      "text/plain": [
       "21.80140948635181"
      ]
     },
     "execution_count": 335,
     "metadata": {},
     "output_type": "execute_result"
    }
   ],
   "source": [
    "np.rad2deg(np.arctan(s.data.shape[1] / grad))"
   ]
  },
  {
   "cell_type": "code",
   "execution_count": 338,
   "metadata": {},
   "outputs": [],
   "source": [
    "%matplotlib qt"
   ]
  },
  {
   "cell_type": "code",
   "execution_count": 348,
   "metadata": {},
   "outputs": [
    {
     "data": {
      "text/plain": [
       "1"
      ]
     },
     "execution_count": 348,
     "metadata": {},
     "output_type": "execute_result"
    }
   ],
   "source": [
    "s1.plot()\n",
    "1"
   ]
  },
  {
   "cell_type": "code",
   "execution_count": 340,
   "metadata": {},
   "outputs": [],
   "source": [
    "xi, yi = 14.5, 9.5\n",
    "xf, yf = 45.5, 89.5"
   ]
  },
  {
   "cell_type": "code",
   "execution_count": 342,
   "metadata": {},
   "outputs": [],
   "source": [
    "dx = xf - xi\n",
    "dy = yf - yi"
   ]
  },
  {
   "cell_type": "code",
   "execution_count": 344,
   "metadata": {},
   "outputs": [
    {
     "data": {
      "text/plain": [
       "80.0"
      ]
     },
     "execution_count": 344,
     "metadata": {},
     "output_type": "execute_result"
    }
   ],
   "source": [
    "dy"
   ]
  },
  {
   "cell_type": "code",
   "execution_count": 347,
   "metadata": {},
   "outputs": [
    {
     "data": {
      "text/plain": [
       "21.181349500266236"
      ]
     },
     "execution_count": 347,
     "metadata": {},
     "output_type": "execute_result"
    }
   ],
   "source": [
    "np.rad2deg(np.arctan(31/80))"
   ]
  },
  {
   "cell_type": "code",
   "execution_count": 315,
   "metadata": {},
   "outputs": [
    {
     "data": {
      "text/plain": [
       "<Signal2D, title: , dimensions: (|100, 100)>"
      ]
     },
     "execution_count": 315,
     "metadata": {},
     "output_type": "execute_result"
    }
   ],
   "source": [
    "s1"
   ]
  },
  {
   "cell_type": "code",
   "execution_count": 167,
   "metadata": {},
   "outputs": [],
   "source": [
    "drift_vector = np.array([1,0])/5000\n",
    "image_angles = np.array([0, 90])\n",
    "\n",
    "drift_vectors = [rotation_matrix(angle) @ drift_vector for angle in image_angles]"
   ]
  },
  {
   "cell_type": "code",
   "execution_count": 250,
   "metadata": {},
   "outputs": [],
   "source": [
    "def probe_positions(m, drift_vector, scale=None, scannoise=True, xlen=None, ylen=None, start: \"(x,y)\"=None):\n",
    "    if xlen == None or ylen == None:\n",
    "        xlen, ylen = m.axes_manager.signal_shape\n",
    "    if scale == None:\n",
    "        scale = m.axes_manager[-1].scale\n",
    "    if start == None:\n",
    "        start = [ax.offset for ax in m.axes_manager.signal_axes]\n",
    "    X = np.zeros((ylen, xlen))\n",
    "    Y = np.zeros((ylen, xlen))\n",
    "    \n",
    "    xdrift = 0\n",
    "    ydrift = 0\n",
    "\n",
    "    if scannoise == True:\n",
    "        xnoise = np.random.random() * 0.1\n",
    "    elif scannoise == False:\n",
    "        xnoise = 0\n",
    "    else:\n",
    "        xnoise = scannoise\n",
    "    \n",
    "    for yi in range(ylen):\n",
    "        xnoise = np.random.random() * 0.1 # flyback noise\n",
    "\n",
    "        for xi in range(xlen):\n",
    "            xdrift -= drift_vector[0]\n",
    "            ydrift -= drift_vector[1]\n",
    "\n",
    "            X[yi, xi] = xi*scale + start[0] + xdrift*scale + xnoise\n",
    "            Y[yi, xi] = yi*scale + start[1] + ydrift*scale\n",
    "    return X, Y\n",
    "\n",
    "def intensity_nd(m, X, Y):\n",
    "    intensity = np.zeros(X.shape)\n",
    "    for comp in m:\n",
    "        if comp.active:\n",
    "            intensity += comp.function_nd(X, Y)\n",
    "    return intensity\n",
    "\n",
    "def image_from_probe_positions(m, XY):\n",
    "    I = intensity_nd(m, *XY)\n",
    "    try:\n",
    "        return m.signal._deepcopy_with_new_data(I)\n",
    "    except:\n",
    "        return m._deepcopy_with_new_data(I)\n",
    "\n",
    "def drift_image(m, drift_vector, scale=None):\n",
    "    XY = probe_positions(m=m, drift_vector=drift_vector, scale=scale)\n",
    "    s = image_from_probe_positions(m, XY)\n",
    "    return s"
   ]
  },
  {
   "cell_type": "code",
   "execution_count": 6,
   "metadata": {},
   "outputs": [],
   "source": [
    "from ase.lattice.cubic import FaceCenteredCubic\n",
    "atoms = FaceCenteredCubic(directions=[[1,-1,0], [1,1,-2], [1,1,1]],\n",
    "                          size=(5,3,1), symbol='Cu', pbc=(1,1,1))\n",
    "atoms[63].number = 50\n",
    "atoms[69].number = 50\n",
    "cell = atoms"
   ]
  },
  {
   "cell_type": "code",
   "execution_count": 31,
   "metadata": {},
   "outputs": [],
   "source": [
    "# surfaces = [(1, 0, 0), (1, 1, 0), (1, 1, 1)]\n",
    "# layers = [3, 4, 5]\n",
    "# lc = 3.61000\n",
    "# cell = FaceCenteredCubic('Cu', surfaces, layers, latticeconstant=lc)\n",
    "# cell[46].number = 50\n",
    "\n",
    "m = create_model(cell, extra_space=2, pbc=False, pixel_size=0.05)\n",
    "s = m.as_signal()\n",
    "\n",
    "angle = 0\n",
    "drift_direction = [0, 1]\n",
    "drift_vector = rotation_matrix(angle) @ drift_direction / 1000\n",
    "s1 = drift_image(m, drift_vector)\n",
    "\n",
    "angle = 90\n",
    "rotate_model(m, angle)\n",
    "drift_vector = rotation_matrix(angle) @ drift_direction / 1000\n",
    "s2 = drift_image(m, drift_vector)"
   ]
  },
  {
   "cell_type": "code",
   "execution_count": 32,
   "metadata": {},
   "outputs": [],
   "source": [
    "%matplotlib qt"
   ]
  },
  {
   "cell_type": "code",
   "execution_count": 276,
   "metadata": {},
   "outputs": [],
   "source": [
    "shear_limits = 0.8\n",
    "shear_step = 0.01\n",
    "scale_limits = 0.8\n",
    "scale_step = 0.01"
   ]
  },
  {
   "cell_type": "code",
   "execution_count": 279,
   "metadata": {},
   "outputs": [
    {
     "data": {
      "application/vnd.jupyter.widget-view+json": {
       "model_id": "c1661310765948fc92407825cb6f3cf0",
       "version_major": 2,
       "version_minor": 0
      },
      "text/plain": [
       "FloatSlider(value=1.0, description='Scale', max=1.8, min=0.19999999999999996, step=0.01)"
      ]
     },
     "metadata": {},
     "output_type": "display_data"
    },
    {
     "data": {
      "application/vnd.jupyter.widget-view+json": {
       "model_id": "d96d0a47e7b04cd0b5a5027779f3a0f5",
       "version_major": 2,
       "version_minor": 0
      },
      "text/plain": [
       "FloatSlider(value=0.0, description='Shear', max=0.8, min=-0.8, step=0.01)"
      ]
     },
     "metadata": {},
     "output_type": "display_data"
    },
    {
     "data": {
      "application/vnd.jupyter.widget-view+json": {
       "model_id": "26e3b6690f2c43e78bb40afbc74dc08a",
       "version_major": 2,
       "version_minor": 0
      },
      "text/plain": [
       "Output()"
      ]
     },
     "metadata": {},
     "output_type": "display_data"
    }
   ],
   "source": [
    "import ipywidgets.widgets as w\n",
    "SCALE = w.FloatSlider(value=1, min=-scale_limits + 1, max=scale_limits + 1, step=shear_step, description='Scale')\n",
    "SHEAR = w.FloatSlider(value=0, min=-shear_limits, max=shear_limits, step=scale_step, description='Shear')\n",
    "img = s2.data\n",
    "\n",
    "o = w.Output()\n",
    "def warpit(img):\n",
    "    angle = 0\n",
    "    rot_matrix = AffineTransform(rotation = np.deg2rad(-angle))\n",
    "    shear_matrix = AffineTransform(shear = SHEAR.value,)\n",
    "    scale_matrix = AffineTransform(scale = (1, SCALE.value))\n",
    "\n",
    "    shift_x, shift_y = np.array(img.shape) / 2.0\n",
    "    tf_shift = AffineTransform(translation=[-shift_y, -shift_x])\n",
    "    tf_shift_inv = AffineTransform(translation=[shift_y, shift_x])\n",
    "    warped = warp(img,(tf_shift + shear_matrix + scale_matrix + rot_matrix + tf_shift_inv).inverse, order=0,)\n",
    "    return warped\n",
    "\n",
    "fig, (ax1, ax2) = plt.subplots(ncols=2)\n",
    "\n",
    "ax1.imshow(s.data)\n",
    "im = ax2.imshow(warpit(img))\n",
    "\n",
    "def on_value_change(change):\n",
    "    with o:\n",
    "        new_img = warpit(img)\n",
    "        im.set_data(new_img)\n",
    "        im.autoscale()\n",
    "\n",
    "SCALE.observe(on_value_change, names='value')\n",
    "SHEAR.observe(on_value_change, names='value')\n",
    "display(SCALE)\n",
    "display(SHEAR)\n",
    "display(o)"
   ]
  },
  {
   "cell_type": "code",
   "execution_count": 282,
   "metadata": {},
   "outputs": [],
   "source": [
    "%matplotlib inline"
   ]
  },
  {
   "cell_type": "code",
   "execution_count": 289,
   "metadata": {},
   "outputs": [
    {
     "data": {
      "image/png": "[encoded data removed]",
      "text/plain": [
       "<Figure size 432x288 with 36 Axes>"
      ]
     },
     "metadata": {
      "needs_background": "light"
     },
     "output_type": "display_data"
    }
   ],
   "source": [
    "nrows = 6\n",
    "ncols = 6\n",
    "img = s.data\n",
    "shift_x, shift_y = np.array(img.shape) / 2.0\n",
    "tf_shift = AffineTransform(translation=[-shift_y, -shift_x])\n",
    "tf_shift_inv = AffineTransform(translation=[shift_y, shift_x])\n",
    "fig, AX = plt.subplots(ncols=ncols, nrows=nrows, )\n",
    "for shear, ax in zip(np.linspace(0, np.pi, np.prod((ncols, nrows))), AX.flatten()):\n",
    "    ax.imshow(warp(s.data, tf_shift + AffineTransform(shear=shear) + tf_shift_inv))"
   ]
  },
  {
   "cell_type": "code",
   "execution_count": null,
   "metadata": {},
   "outputs": [],
   "source": []
  },
  {
   "cell_type": "code",
   "execution_count": null,
   "metadata": {},
   "outputs": [],
   "source": []
  },
  {
   "cell_type": "code",
   "execution_count": null,
   "metadata": {},
   "outputs": [],
   "source": [
    "0.36, -0.35\n"
   ]
  },
  {
   "cell_type": "code",
   "execution_count": null,
   "metadata": {},
   "outputs": [],
   "source": [
    "1, 0.33\n",
    "0.7, 1"
   ]
  },
  {
   "cell_type": "code",
   "execution_count": null,
   "metadata": {},
   "outputs": [],
   "source": [
    "#drift_direction = [1, 0]\n",
    "#1, 0.18\n",
    "#0.81, 0"
   ]
  },
  {
   "cell_type": "code",
   "execution_count": null,
   "metadata": {},
   "outputs": [],
   "source": [
    "#drift_direction = [1, 1]\n",
    "#0.84, 0.19\n",
    "#0.84, -0.19"
   ]
  },
  {
   "cell_type": "code",
   "execution_count": 185,
   "metadata": {},
   "outputs": [
    {
     "data": {
      "application/vnd.jupyter.widget-view+json": {
       "model_id": "8cb8c6389938447cb3109d6c07a4742f",
       "version_major": 2,
       "version_minor": 0
      },
      "text/plain": [
       "FloatSlider(value=1.0, description='Scale', max=1.033783783783784, min=0.966216216216216, step=0.0056306306306…"
      ]
     },
     "metadata": {},
     "output_type": "display_data"
    }
   ],
   "source": [
    "SCALE"
   ]
  },
  {
   "cell_type": "code",
   "execution_count": null,
   "metadata": {},
   "outputs": [],
   "source": []
  },
  {
   "cell_type": "code",
   "execution_count": 173,
   "metadata": {},
   "outputs": [],
   "source": [
    "w = warpit(s1.data)"
   ]
  },
  {
   "cell_type": "code",
   "execution_count": 177,
   "metadata": {},
   "outputs": [],
   "source": [
    "%matplotlib widget"
   ]
  },
  {
   "cell_type": "code",
   "execution_count": 180,
   "metadata": {},
   "outputs": [
    {
     "data": {
      "application/vnd.jupyter.widget-view+json": {
       "model_id": "e591eb467a2b41bfa3066909a33d3140",
       "version_major": 2,
       "version_minor": 0
      },
      "text/plain": [
       "Canvas(toolbar=Toolbar(toolitems=[('Home', 'Reset original view', 'home', 'home'), ('Back', 'Back to previous …"
      ]
     },
     "metadata": {},
     "output_type": "display_data"
    }
   ],
   "source": [
    "plt.figure()\n",
    "im = plt.imshow(s1.data)"
   ]
  },
  {
   "cell_type": "code",
   "execution_count": 179,
   "metadata": {},
   "outputs": [],
   "source": []
  },
  {
   "cell_type": "code",
   "execution_count": null,
   "metadata": {},
   "outputs": [],
   "source": []
  },
  {
   "cell_type": "code",
   "execution_count": 170,
   "metadata": {},
   "outputs": [
    {
     "data": {
      "text/plain": [
       "<matplotlib.image.AxesImage at 0x182c5141a60>"
      ]
     },
     "execution_count": 170,
     "metadata": {},
     "output_type": "execute_result"
    },
    {
     "data": {
      "image/png": "[encoded data removed]",
      "text/plain": [
       "<Figure size 432x288 with 1 Axes>"
      ]
     },
     "metadata": {
      "needs_background": "light"
     },
     "output_type": "display_data"
    },
    {
     "data": {
      "image/png": "[encoded data removed]",
      "text/plain": [
       "<Figure size 432x288 with 1 Axes>"
      ]
     },
     "metadata": {
      "needs_background": "light"
     },
     "output_type": "display_data"
    }
   ],
   "source": [
    "plt.figure()\n",
    "plt.imshow(s1.data)\n",
    "plt.figure()\n",
    "plt.imshow(np.rot90(s2.data))"
   ]
  },
  {
   "cell_type": "code",
   "execution_count": 27,
   "metadata": {},
   "outputs": [],
   "source": [
    "import numpy as np\n",
    "import matplotlib.pyplot as plt\n",
    "plt.rcParams['figure.max_open_warning'] = 2000\n",
    "import hyperspy.api as hs\n",
    "\n",
    "import time\n",
    "from pathlib import Path\n",
    "import h5py\n",
    "import logging\n",
    "\n",
    "from scipy.ndimage import fourier_shift\n",
    "from numpy.fft import fft2\n",
    "\n",
    "start_time = time.time()\n",
    "\n",
    "from transforms import (\n",
    "    prepare_correlation_data,\n",
    "    correlate_images,\n",
    "    correlation,\n",
    "    translate,\n",
    "    pad_images,\n",
    "    set_shear_and_scale_ranges,\n",
    "    set_transform_matrices,\n",
    "    transform,\n",
    "    transform_single_image,\n",
    "    plot_transformed_images,\n",
    "    normalise_max,\n",
    ")\n",
    "\n",
    "pad_factor = 1.3  # larger than 1, approx 1.25 is good\n",
    "steps = 11  # odd, 5,7 is normal\n",
    "correlation_method = \"cross\"  # \"phase\", \"cross\", \"hybrid\"\n",
    "gpu = False  # True / False\n",
    "shear_steps = steps\n",
    "scale_steps = steps\n"
   ]
  },
  {
   "cell_type": "code",
   "execution_count": 62,
   "metadata": {},
   "outputs": [],
   "source": [
    "angles = (0, -90)\n",
    "images = [s1.data, s2.data]"
   ]
  },
  {
   "cell_type": "code",
   "execution_count": 66,
   "metadata": {},
   "outputs": [],
   "source": [
    "from transforms import set_transform_matrices"
   ]
  },
  {
   "cell_type": "code",
   "execution_count": 79,
   "metadata": {},
   "outputs": [],
   "source": [
    "pix = 2\n",
    "image_shape = images[0].shape\n",
    "scale = (image_shape[1] + pix) / image_shape[1] - 1\n",
    "# Shear by an angle equivalent of shearing `pix` pixels\n",
    "\n",
    "half_steps = (scale_steps - 1) / 2\n",
    "scale_limits = scale * half_steps\n",
    "scales = 1 + np.linspace(-scale_limits, scale_limits, scale_steps)\n",
    "\n",
    "half_steps = (shear_steps - 1) / 2\n",
    "shear = np.arctan(pix / image_shape[1])  # maybe scale[0]?\n",
    "shear_limits = shear * half_steps\n",
    "sheares = np.linspace(-shear_limits, shear_limits, shear_steps)\n",
    "    "
   ]
  },
  {
   "cell_type": "code",
   "execution_count": 81,
   "metadata": {},
   "outputs": [
    {
     "data": {
      "text/plain": [
       "array([0.96621622, 0.97297297, 0.97972973, 0.98648649, 0.99324324,\n",
       "       1.        , 1.00675676, 1.01351351, 1.02027027, 1.02702703,\n",
       "       1.03378378])"
      ]
     },
     "execution_count": 81,
     "metadata": {},
     "output_type": "execute_result"
    }
   ],
   "source": [
    "np.linspace(-scale_limits, scale_limits, scale_steps) + 1"
   ]
  },
  {
   "cell_type": "code",
   "execution_count": null,
   "metadata": {},
   "outputs": [],
   "source": []
  },
  {
   "cell_type": "code",
   "execution_count": 76,
   "metadata": {},
   "outputs": [],
   "source": []
  },
  {
   "cell_type": "code",
   "execution_count": 111,
   "metadata": {},
   "outputs": [],
   "source": [
    "import ipywidgets.widgets as w\n",
    "SCALE = w.FloatSlider(value=1, min=-scale_limits + 1, max=scale_limits + 1, step=2*scale_limits/12, description='Scale')\n",
    "SHEAR = w.FloatSlider(value=1, min=-shear_limits, max=shear_limits, step=2*shear_limits/12, description='Shear')"
   ]
  },
  {
   "cell_type": "code",
   "execution_count": 114,
   "metadata": {},
   "outputs": [],
   "source": [
    "def onchange():\n",
    "    AffineTransform(rotation=np.deg2rad(angle), shear=SHEAR.value, scale=(1, SCALE.value))\n",
    "    "
   ]
  },
  {
   "cell_type": "code",
   "execution_count": 127,
   "metadata": {},
   "outputs": [],
   "source": [
    "from skimage.transform import AffineTransform, warp\n",
    "\n"
   ]
  },
  {
   "cell_type": "code",
   "execution_count": 132,
   "metadata": {},
   "outputs": [],
   "source": [
    "img = images[1]\n",
    "\n",
    "def warpit(img):\n",
    "    rot_matrix = AffineTransform(rotation = np.deg2rad(-angle))\n",
    "    shear_matrix = AffineTransform(shear = SHEAR.value,)\n",
    "    scale_matrix = AffineTransform(scale = (1, SCALE.value))\n",
    "\n",
    "    shift_x, shift_y = np.array(img.shape) / 2.0\n",
    "    tf_shift = AffineTransform(translation=[-shift_y, -shift_x])\n",
    "    tf_shift_inv = AffineTransform(translation=[shift_y, shift_x])\n",
    "    warped = warp(img,(tf_shift + scale_matrix + shear_matrix + rot_matrix + tf_shift_inv).inverse, order=0,)\n",
    "    return warped"
   ]
  },
  {
   "cell_type": "code",
   "execution_count": 133,
   "metadata": {},
   "outputs": [
    {
     "data": {
      "text/plain": [
       "array([[4.95754068e-38, 9.05791350e-38, 8.44747557e-37, ...,\n",
       "        0.00000000e+00, 0.00000000e+00, 0.00000000e+00],\n",
       "       [1.50474127e-37, 2.77156866e-37, 2.54650577e-36, ...,\n",
       "        0.00000000e+00, 0.00000000e+00, 0.00000000e+00],\n",
       "       [4.49639792e-37, 8.34892340e-37, 7.55735365e-36, ...,\n",
       "        0.00000000e+00, 0.00000000e+00, 0.00000000e+00],\n",
       "       ...,\n",
       "       [0.00000000e+00, 0.00000000e+00, 0.00000000e+00, ...,\n",
       "        3.34826696e-18, 1.97729134e-18, 3.65974294e-18],\n",
       "       [0.00000000e+00, 0.00000000e+00, 0.00000000e+00, ...,\n",
       "        1.30337379e-18, 7.69683828e-19, 1.45283506e-18],\n",
       "       [0.00000000e+00, 0.00000000e+00, 0.00000000e+00, ...,\n",
       "        5.00218696e-19, 2.95197783e-19, 5.67917937e-19]])"
      ]
     },
     "execution_count": 133,
     "metadata": {},
     "output_type": "execute_result"
    }
   ],
   "source": []
  },
  {
   "cell_type": "code",
   "execution_count": 136,
   "metadata": {},
   "outputs": [
    {
     "data": {
      "application/vnd.jupyter.widget-view+json": {
       "model_id": "38b907286d224f55af24f499e94d9a20",
       "version_major": 2,
       "version_minor": 0
      },
      "text/plain": [
       "Canvas(toolbar=Toolbar(toolitems=[('Home', 'Reset original view', 'home', 'home'), ('Back', 'Back to previous …"
      ]
     },
     "metadata": {},
     "output_type": "display_data"
    },
    {
     "data": {
      "text/plain": [
       "<matplotlib.image.AxesImage at 0x1829acabd30>"
      ]
     },
     "execution_count": 136,
     "metadata": {},
     "output_type": "execute_result"
    }
   ],
   "source": [
    "plt.figure()\n",
    "plt.imshow(warpit(img))"
   ]
  },
  {
   "cell_type": "code",
   "execution_count": null,
   "metadata": {},
   "outputs": [],
   "source": []
  },
  {
   "cell_type": "code",
   "execution_count": 95,
   "metadata": {},
   "outputs": [
    {
     "data": {
      "text/plain": [
       "(296, 296)"
      ]
     },
     "execution_count": 95,
     "metadata": {},
     "output_type": "execute_result"
    }
   ],
   "source": [
    "images[1].shape"
   ]
  },
  {
   "cell_type": "code",
   "execution_count": 93,
   "metadata": {},
   "outputs": [
    {
     "data": {
      "text/plain": [
       "<AffineTransform(matrix=\n",
       "    [[ 6.12323400e-17, -5.40302306e-01,  0.00000000e+00],\n",
       "     [ 1.00000000e+00, -8.41470985e-01,  0.00000000e+00],\n",
       "     [ 0.00000000e+00,  0.00000000e+00,  1.00000000e+00]]) at 0x18293844c10>"
      ]
     },
     "execution_count": 93,
     "metadata": {},
     "output_type": "execute_result"
    }
   ],
   "source": [
    "trans"
   ]
  },
  {
   "cell_type": "code",
   "execution_count": 92,
   "metadata": {},
   "outputs": [
    {
     "data": {
      "application/vnd.jupyter.widget-view+json": {
       "model_id": "4e73efa609194200add10ac14f8343fb",
       "version_major": 2,
       "version_minor": 0
      },
      "text/plain": [
       "Canvas(toolbar=Toolbar(toolitems=[('Home', 'Reset original view', 'home', 'home'), ('Back', 'Back to previous …"
      ]
     },
     "metadata": {},
     "output_type": "display_data"
    },
    {
     "ename": "ValueError",
     "evalue": "matmul: Input operand 0 does not have enough dimensions (has 0, gufunc core with signature (n?,k),(k,m?)->(n?,m?) requires 1)",
     "output_type": "error",
     "traceback": [
      "\u001b[1;31m---------------------------------------------------------------------------\u001b[0m",
      "\u001b[1;31mValueError\u001b[0m                                Traceback (most recent call last)",
      "\u001b[1;32m<ipython-input-92-9be09ea2f8ac>\u001b[0m in \u001b[0;36m<module>\u001b[1;34m\u001b[0m\n\u001b[0;32m      1\u001b[0m \u001b[0mfig\u001b[0m\u001b[1;33m,\u001b[0m \u001b[1;33m(\u001b[0m\u001b[0max1\u001b[0m\u001b[1;33m,\u001b[0m \u001b[0max2\u001b[0m\u001b[1;33m)\u001b[0m \u001b[1;33m=\u001b[0m \u001b[0mplt\u001b[0m\u001b[1;33m.\u001b[0m\u001b[0msubplots\u001b[0m\u001b[1;33m(\u001b[0m\u001b[0mncols\u001b[0m\u001b[1;33m=\u001b[0m\u001b[1;36m2\u001b[0m\u001b[1;33m)\u001b[0m\u001b[1;33m\u001b[0m\u001b[1;33m\u001b[0m\u001b[0m\n\u001b[0;32m      2\u001b[0m \u001b[0max1\u001b[0m\u001b[1;33m.\u001b[0m\u001b[0mimshow\u001b[0m\u001b[1;33m(\u001b[0m\u001b[0mimages\u001b[0m\u001b[1;33m[\u001b[0m\u001b[1;36m0\u001b[0m\u001b[1;33m]\u001b[0m\u001b[1;33m)\u001b[0m\u001b[1;33m\u001b[0m\u001b[1;33m\u001b[0m\u001b[0m\n\u001b[1;32m----> 3\u001b[1;33m \u001b[0max2\u001b[0m\u001b[1;33m.\u001b[0m\u001b[0mimshow\u001b[0m\u001b[1;33m(\u001b[0m\u001b[0mtrans\u001b[0m \u001b[1;33m@\u001b[0m \u001b[0mimages\u001b[0m\u001b[1;33m[\u001b[0m\u001b[1;36m1\u001b[0m\u001b[1;33m]\u001b[0m\u001b[1;33m)\u001b[0m\u001b[1;33m\u001b[0m\u001b[1;33m\u001b[0m\u001b[0m\n\u001b[0m",
      "\u001b[1;31mValueError\u001b[0m: matmul: Input operand 0 does not have enough dimensions (has 0, gufunc core with signature (n?,k),(k,m?)->(n?,m?) requires 1)"
     ]
    }
   ],
   "source": [
    "fig, (ax1, ax2) = plt.subplots(ncols=2)\n",
    "ax1.imshow(images[0])\n",
    "ax2.imshow(trans @ images[1])"
   ]
  },
  {
   "cell_type": "code",
   "execution_count": 63,
   "metadata": {},
   "outputs": [
    {
     "name": "stdout",
     "output_type": "stream",
     "text": [
      "Padding images\n",
      "Estimating memory usage of 0.29GB\n",
      "Calculating transform matrices\n",
      "Transforming data\n",
      "It took 1 sec\n",
      "Preparing correlation data\n",
      "Correlating\n"
     ]
    },
    {
     "data": {
      "application/vnd.jupyter.widget-view+json": {
       "model_id": "f1e487703fe74ac892c52ea1ee12bc58",
       "version_major": 2,
       "version_minor": 0
      },
      "text/plain": [
       "HBox(children=(FloatProgress(value=0.0, max=121.0), HTML(value='')))"
      ]
     },
     "metadata": {},
     "output_type": "display_data"
    },
    {
     "name": "stdout",
     "output_type": "stream",
     "text": [
      "\n",
      "Calculating final images\n",
      "Image drifted (-1.0, -1.0) pixels since first frame\n"
     ]
    },
    {
     "data": {
      "application/vnd.jupyter.widget-view+json": {
       "model_id": "80d37578759640cf9afbcdaedae95f9e",
       "version_major": 2,
       "version_minor": 0
      },
      "text/plain": [
       "Canvas(toolbar=Toolbar(toolitems=[('Home', 'Reset original view', 'home', 'home'), ('Back', 'Back to previous …"
      ]
     },
     "metadata": {},
     "output_type": "display_data"
    }
   ],
   "source": [
    "images = [normalise_max(img) for img in images]\n",
    "print(\"Padding images\")\n",
    "padded_images, weights = pad_images(images, pad_factor=pad_factor)\n",
    "GB = np.round(\n",
    "    float(np.prod(np.shape(padded_images)))\n",
    "    * shear_steps\n",
    "    * scale_steps\n",
    "    * padded_images[0].dtype.itemsize\n",
    "    / 1e9,\n",
    "    2,\n",
    ")  # 32 bytes per complex64\n",
    "\n",
    "print(\"Estimating memory usage of {}GB\".format(GB))\n",
    "# Set the various sheares, scales, first in terms of range\n",
    "sheares, scales = set_shear_and_scale_ranges(\n",
    "    padded_images[0].shape, shear_steps=shear_steps, scale_steps=scale_steps, pix=2\n",
    ")\n",
    "# Then in terms of transform matrices\n",
    "print(\"Calculating transform matrices\")\n",
    "transform_matrices = set_transform_matrices(angles, sheares, scales)\n",
    "\n",
    "rotation_matrices, shear_matrices, scale_matrices = transform_matrices\n",
    "\n",
    "# Scale and shear the masked data\n",
    "print(\"Transforming data\")\n",
    "t = time.time()\n",
    "data = transform(\n",
    "    padded_images, rotation_matrices, shear_matrices, scale_matrices, weights=weights\n",
    ")\n",
    "print('It took {} sec'.format(round(time.time() - t)))\n",
    "data = data.astype(\"float32\")\n",
    "\n",
    "data = data.reshape((len(padded_images), -1) + padded_images[0].shape)\n",
    "data = data.swapaxes(0, 1)\n",
    "\n",
    "print(\"Preparing correlation data\")\n",
    "correlation_data = prepare_correlation_data(\n",
    "    data, weights, method=correlation_method, gpu=gpu\n",
    ")\n",
    "\n",
    "print(\"Correlating\")\n",
    "max_indexes, shifts_list = correlate_images(\n",
    "    correlation_data, method=correlation_method, gpu=gpu\n",
    ")\n",
    "# Plot masked images\n",
    "print(\"Calculating final images\")\n",
    "data2 = np.array(data).swapaxes(0, 1)\n",
    "image_sums = []\n",
    "\n",
    "for i, img_array in enumerate(data2[1:]):\n",
    "    max_index = int(max_indexes[i])\n",
    "    img1 = data2[0, max_index]\n",
    "    img2 = img_array[max_index]\n",
    "    shift = shifts_list[i][max_index]\n",
    "    img2_shifted = np.fft.ifftn(fourier_shift(fft2(img2), shift)).real\n",
    "    image_sums.append(img1 + img2_shifted)\n",
    "    print(\"Image drifted ({}, {}) pixels since first frame\".format(shift[0], shift[1]))\n",
    "# fig, AX = plt.subplots(ncols=len(padded_images) - 1, squeeze=False)\n",
    "# for i, ax in enumerate(np.reshape(AX, np.prod(AX.shape))):\n",
    "#     ax.imshow(image_sums[i], cmap=\"viridis\")\n",
    "#     ax.axis(\"off\")\n",
    "\n",
    "i1, i2 = plot_transformed_images(\n",
    "    padded_images,\n",
    "    angles,\n",
    "    shifts_list,\n",
    "    max_indexes,\n",
    "    sheares,\n",
    "    scales,\n",
    "    shear_steps,\n",
    "    scale_steps,\n",
    ")\n"
   ]
  },
  {
   "cell_type": "code",
   "execution_count": 64,
   "metadata": {},
   "outputs": [
    {
     "data": {
      "application/vnd.jupyter.widget-view+json": {
       "model_id": "0afc7d2558a34e7b8cdd7245d02004a9",
       "version_major": 2,
       "version_minor": 0
      },
      "text/plain": [
       "Canvas(toolbar=Toolbar(toolitems=[('Home', 'Reset original view', 'home', 'home'), ('Back', 'Back to previous …"
      ]
     },
     "metadata": {},
     "output_type": "display_data"
    },
    {
     "data": {
      "text/plain": [
       "<matplotlib.image.AxesImage at 0x1828d288c70>"
      ]
     },
     "execution_count": 64,
     "metadata": {},
     "output_type": "execute_result"
    }
   ],
   "source": [
    "fig, (ax1, ax2) = plt.subplots(ncols=2)\n",
    "ax1.imshow(correlation_data[0,0])\n",
    "ax2.imshow(correlation_data[0,1])"
   ]
  },
  {
   "cell_type": "code",
   "execution_count": 42,
   "metadata": {},
   "outputs": [
    {
     "data": {
      "application/vnd.jupyter.widget-view+json": {
       "model_id": "31cfb6422ae048a48ce1a0609b16a4fc",
       "version_major": 2,
       "version_minor": 0
      },
      "text/plain": [
       "Canvas(toolbar=Toolbar(toolitems=[('Home', 'Reset original view', 'home', 'home'), ('Back', 'Back to previous …"
      ]
     },
     "metadata": {},
     "output_type": "display_data"
    },
    {
     "data": {
      "text/plain": [
       "<matplotlib.image.AxesImage at 0x182942f5b50>"
      ]
     },
     "execution_count": 42,
     "metadata": {},
     "output_type": "execute_result"
    }
   ],
   "source": [
    "plt.figure()\n",
    "plt.imshow(img1)"
   ]
  },
  {
   "cell_type": "code",
   "execution_count": 40,
   "metadata": {},
   "outputs": [
    {
     "data": {
      "application/vnd.jupyter.widget-view+json": {
       "model_id": "0bda05000a36452e826ea6b0f445c06a",
       "version_major": 2,
       "version_minor": 0
      },
      "text/plain": [
       "Canvas(toolbar=Toolbar(toolitems=[('Home', 'Reset original view', 'home', 'home'), ('Back', 'Back to previous …"
      ]
     },
     "metadata": {},
     "output_type": "display_data"
    },
    {
     "data": {
      "text/plain": [
       "<matplotlib.image.AxesImage at 0x18293f7e370>"
      ]
     },
     "execution_count": 40,
     "metadata": {},
     "output_type": "execute_result"
    }
   ],
   "source": [
    "plt.figure()\n",
    "plt.imshow(img2_shifted)"
   ]
  },
  {
   "cell_type": "code",
   "execution_count": null,
   "metadata": {},
   "outputs": [],
   "source": []
  },
  {
   "cell_type": "code",
   "execution_count": null,
   "metadata": {},
   "outputs": [],
   "source": []
  },
  {
   "cell_type": "code",
   "execution_count": null,
   "metadata": {},
   "outputs": [],
   "source": []
  },
  {
   "cell_type": "code",
   "execution_count": null,
   "metadata": {},
   "outputs": [],
   "source": []
  },
  {
   "cell_type": "code",
   "execution_count": 143,
   "metadata": {},
   "outputs": [],
   "source": [
    "import scipy.ndimage\n",
    "I2 = s2.data.copy()\n",
    "xlen, ylen = I2.shape\n",
    "ds = []\n",
    "shifts = []\n",
    "for y_index in np.arange(1, ylen):\n",
    "    I_backup = I2[y_index].copy()\n",
    "    y_start = y_index - 5 if y_index - 5 > 0 else 0\n",
    "    y_end = y_index + 5\n",
    "    d = []\n",
    "    mxshift = 15\n",
    "    shift_array = np.arange(-mxshift, mxshift, 1)\n",
    "    for shift in shift_array:\n",
    "        I2[y_index] = scipy.ndimage.shift(I_backup, shift, mode='wrap')\n",
    "        diff1 = np.abs(np.diff(I2[y_start:y_end, mxshift:-mxshift], axis=0)).mean()\n",
    "        diff = diff1# + diff2\n",
    "        d.append(diff)\n",
    "    ds.append(d)\n",
    "    final_shift = shift_array[np.argmin(d)]\n",
    "    shifts.append(final_shift)\n",
    "    I2[y_index] = scipy.ndimage.shift(I_backup, final_shift, mode='wrap')\n",
    "ds = np.array(ds)"
   ]
  },
  {
   "cell_type": "code",
   "execution_count": 144,
   "metadata": {},
   "outputs": [
    {
     "data": {
      "application/vnd.jupyter.widget-view+json": {
       "model_id": "47fd6bc5575f41ccb168e504003356db",
       "version_major": 2,
       "version_minor": 0
      },
      "text/plain": [
       "Canvas(toolbar=Toolbar(toolitems=[('Home', 'Reset original view', 'home', 'home'), ('Back', 'Back to previous …"
      ]
     },
     "metadata": {},
     "output_type": "display_data"
    }
   ],
   "source": [
    "plt.figure()\n",
    "for d in ds:\n",
    "    d = d - d.min()\n",
    "    d = d / d.max()\n",
    "    plt.plot(d)"
   ]
  },
  {
   "cell_type": "code",
   "execution_count": 146,
   "metadata": {},
   "outputs": [
    {
     "data": {
      "application/vnd.jupyter.widget-view+json": {
       "model_id": "a5736fe808ba425ab3363e76cc7d67d9",
       "version_major": 2,
       "version_minor": 0
      },
      "text/plain": [
       "Canvas(toolbar=Toolbar(toolitems=[('Home', 'Reset original view', 'home', 'home'), ('Back', 'Back to previous …"
      ]
     },
     "metadata": {},
     "output_type": "display_data"
    },
    {
     "data": {
      "text/plain": [
       "<matplotlib.image.AxesImage at 0x2293ae18610>"
      ]
     },
     "execution_count": 146,
     "metadata": {},
     "output_type": "execute_result"
    }
   ],
   "source": [
    "fig, (ax1, ax2) = plt.subplots(ncols=2, figsize= (16, 8))\n",
    "ax1.imshow(s2.data)\n",
    "ax2.imshow(I2)"
   ]
  },
  {
   "cell_type": "code",
   "execution_count": 147,
   "metadata": {},
   "outputs": [
    {
     "data": {
      "text/plain": [
       "1028202.8203378455"
      ]
     },
     "execution_count": 147,
     "metadata": {},
     "output_type": "execute_result"
    }
   ],
   "source": [
    "np.abs(np.diff(s2.data)).sum()"
   ]
  },
  {
   "cell_type": "code",
   "execution_count": 148,
   "metadata": {},
   "outputs": [
    {
     "data": {
      "text/plain": [
       "1030695.6852503372"
      ]
     },
     "execution_count": 148,
     "metadata": {},
     "output_type": "execute_result"
    }
   ],
   "source": [
    "np.abs(np.diff(I2.data)).sum()"
   ]
  },
  {
   "cell_type": "code",
   "execution_count": 149,
   "metadata": {},
   "outputs": [
    {
     "data": {
      "text/plain": [
       "12960139.188392874"
      ]
     },
     "execution_count": 149,
     "metadata": {},
     "output_type": "execute_result"
    }
   ],
   "source": [
    "np.abs(np.diff(s.data)).sum()"
   ]
  },
  {
   "cell_type": "code",
   "execution_count": 58,
   "metadata": {},
   "outputs": [
    {
     "data": {
      "application/vnd.jupyter.widget-view+json": {
       "model_id": "03b5c872662641fe993ccfcbfb4c2269",
       "version_major": 2,
       "version_minor": 0
      },
      "text/plain": [
       "Canvas(toolbar=Toolbar(toolitems=[('Home', 'Reset original view', 'home', 'home'), ('Back', 'Back to previous …"
      ]
     },
     "metadata": {},
     "output_type": "display_data"
    }
   ],
   "source": [
    "m = create_model(cell, extra_space=2, pbc=False, pixel_size=0.01)\n",
    "s = m.as_signal()\n",
    "\n",
    "angle = 0\n",
    "drift_direction = [0, 1]\n",
    "drift_vector = rotation_matrix(angle) @ drift_direction / 500000\n",
    "s1 = drift_image(m, drift_vector)\n",
    "s1.plot()"
   ]
  },
  {
   "cell_type": "code",
   "execution_count": null,
   "metadata": {},
   "outputs": [],
   "source": []
  }
 ],
 "metadata": {
  "kernelspec": {
   "display_name": "Python 3",
   "language": "python",
   "name": "python3"
  },
  "language_info": {
   "codemirror_mode": {
    "name": "ipython",
    "version": 3
   },
   "file_extension": ".py",
   "mimetype": "text/x-python",
   "name": "python",
   "nbconvert_exporter": "python",
   "pygments_lexer": "ipython3",
   "version": "3.8.5"
  }
 },
 "nbformat": 4,
 "nbformat_minor": 4
}
