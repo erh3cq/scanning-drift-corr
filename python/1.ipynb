{
 "cells": [
  {
   "cell_type": "code",
   "execution_count": 12,
   "metadata": {},
   "outputs": [],
   "source": [
    "%matplotlib widget"
   ]
  },
  {
   "cell_type": "code",
   "execution_count": 13,
   "metadata": {},
   "outputs": [
    {
     "data": {
      "application/vnd.jupyter.widget-view+json": {
       "model_id": "910749e02ced49c3800c0905b82a629d",
       "version_major": 2,
       "version_minor": 0
      },
      "text/plain": [
       "Canvas(toolbar=Toolbar(toolitems=[('Home', 'Reset original view', 'home', 'home'), ('Back', 'Back to previous …"
      ]
     },
     "metadata": {},
     "output_type": "display_data"
    }
   ],
   "source": [
    "import numpy as np\n",
    "import matplotlib.pyplot as plt\n",
    "import h5py\n",
    "from scipy.ndimage import gaussian_filter\n",
    "\n",
    "file = \"../data_examples/nonlinear_drift_correction_synthetic_dataset_for_testing.mat\"\n",
    "f = h5py.File(file, mode='r')\n",
    "img1 = f['image00deg'][:]\n",
    "img2 = f['image90deg'][:]\n",
    "img3 = f['imageIdeal'][:]\n",
    "imgs = [img1, img2, img3]\n",
    "\n",
    "fig, AX = plt.subplots(ncols=3)\n",
    "#fig.canvas.layout.width = '500px'\n",
    "#fig.canvas.layout.height = '300px'\n",
    "\n",
    "\n",
    "for ax, img, in zip(AX.flatten(), imgs):\n",
    "    ax.imshow(img)\n",
    "    ax.axis('off')\n",
    "#import hyperspy.api as hs\n",
    "#from scipy.io import loadmat\n",
    "\n",
    "pi = np.pi\n",
    "\n",
    "def sind(deg):\n",
    "    return np.sin(np.deg2rad(deg))\n",
    "def cosd(deg):\n",
    "    return np.cos(np.deg2rad(deg))\n",
    "\n",
    "def hanningLocal(N):\n",
    "    N = N\n",
    "    Dim1Window = np.sin(pi*np.arange(1,N+1)/(N+1))**2\n",
    "    Dim2Window = Dim1Window[:, None]\n",
    "    return Dim2Window"
   ]
  },
  {
   "cell_type": "code",
   "execution_count": 14,
   "metadata": {},
   "outputs": [],
   "source": [
    "import numpy as np\n",
    "import matplotlib.pyplot as pl\n",
    "import scipy.stats as st\n",
    "\n",
    "data = np.random.multivariate_normal((0, 0), [[0.8, 0.05], [0.05, 0.7]], 100)\n",
    "x = data[:, 0]\n",
    "y = data[:, 1]\n",
    "xmin, xmax = -3, 3\n",
    "ymin, ymax = -3, 3\n",
    "\n",
    "# Peform the kernel density estimate\n",
    "xx, yy = np.mgrid[xmin:xmax:100j, ymin:ymax:100j]\n",
    "positions = np.vstack([xx.ravel(), yy.ravel()])\n",
    "values = np.vstack([x, y])\n",
    "kernel = st.gaussian_kde(values)\n",
    "f = np.reshape(kernel(positions).T, xx.shape)"
   ]
  },
  {
   "cell_type": "code",
   "execution_count": 15,
   "metadata": {},
   "outputs": [
    {
     "data": {
      "text/plain": [
       "(2, 100)"
      ]
     },
     "execution_count": 15,
     "metadata": {},
     "output_type": "execute_result"
    }
   ],
   "source": []
  },
  {
   "cell_type": "code",
   "execution_count": 9,
   "metadata": {},
   "outputs": [
    {
     "data": {
      "text/plain": [
       "(2, 100)"
      ]
     },
     "execution_count": 9,
     "metadata": {},
     "output_type": "execute_result"
    }
   ],
   "source": [
    "values.shape"
   ]
  },
  {
   "cell_type": "code",
   "execution_count": 11,
   "metadata": {},
   "outputs": [],
   "source": [
    "from IPython.core.debugger import set_trace"
   ]
  },
  {
   "cell_type": "code",
   "execution_count": 12,
   "metadata": {},
   "outputs": [],
   "source": [
    "data = np.array([img1, img2, img1])\n",
    "scanAngles = [0, 90, 0]"
   ]
  },
  {
   "cell_type": "code",
   "execution_count": 13,
   "metadata": {},
   "outputs": [],
   "source": [
    "from ipdb import set_trace"
   ]
  },
  {
   "cell_type": "code",
   "execution_count": 28,
   "metadata": {},
   "outputs": [],
   "source": [
    "def SPmerge01(data, scanAngles):\n",
    "    paddingScale = (1+1/4);#1.5;    # - padding amount for scaling of the output.\n",
    "    KDEsigma = 1/2; # - Smoothing between pixels for KDE.\n",
    "    edgeWidth = 1/128; # - size of edge blending relative to input images.\n",
    "    linearSearch = np.linspace(-0.02,0.02,1+2*2);  # Initial linear search vector, relative to image size.\n",
    "\n",
    "    # I have changed the convention here so that the number of images is the first axis, not the last\n",
    "    # I am only supporting the case where the image input is a list / array of images \n",
    "\n",
    "    shape = np.array(data.shape)\n",
    "    imageSize = np.round(shape[1:]*paddingScale/4).astype(int)*4;\n",
    "    numImages = len(scanAngles)\n",
    "\n",
    "    scanLines = np.zeros(shape)\n",
    "    scanOr = np.zeros([numImages, 2, shape[1]])\n",
    "\n",
    "    scanDir = np.zeros([numImages, 2])\n",
    "\n",
    "    imageTransform = scanLines.copy()\n",
    "    imageDensity = scanLines.copy()\n",
    "\n",
    "    for a0 in range(numImages):\n",
    "        xy = np.column_stack([np.arange(1,shape[1]+1), np.ones(shape[1])])\n",
    "        xy[:,0] -= shape[1]/2\n",
    "        xy[:,1] -= shape[2]/2\n",
    "        \n",
    "        xy = np.array([\n",
    "            xy[:,0]*cosd(scanAngles[a0]) \n",
    "            - xy[:,1]*sind(scanAngles[a0]),\n",
    "            xy[:,1]*cosd(scanAngles[a0]) \n",
    "            - xy[:,0]*sind(scanAngles[a0]),               \n",
    "        ]).T\n",
    "\n",
    "        xy[:,0] += imageSize[0]/2\n",
    "        xy[:,1] += imageSize[1]/2\n",
    "        xy[:,0] -= xy[0,0]%1\n",
    "        xy[:,1] -= xy[1,0]%1\n",
    "        scanOr[a0] = xy.T\n",
    "        \n",
    "\n",
    "        scanDir[a0] = [cosd(scanAngles[a0] + 90), sind(scanAngles[a0] + 90)];\n",
    "    \n",
    "    linearSearch = linearSearch * scanLines.shape[1]\n",
    "    yDrift,xDrift = np.meshgrid(linearSearch, linearSearch)\n",
    "    linearSearchScore1 = np.zeros(len(linearSearch))\n",
    "    inds = np.linspace(-0.5,0.5,scanLines.shape[1]).T\n",
    "\n",
    "    N = scanLines.shape\n",
    "\n",
    "    TwoDHanningWindow = hanningLocal(N[1])*hanningLocal(N[2]).T\n",
    "    padamount = imageSize - N[1:]\n",
    "    pada, padb = padamount\n",
    "    paddedarray = np.pad(TwoDHanningWindow, ((0, pada), (0, padb)), mode='constant', constant_values=0)\n",
    "\n",
    "    w2 = np.roll(paddedarray, np.round(padamount/2).astype(int))\n",
    "\n",
    "    for a0 in range(len(linearSearch)):\n",
    "        for a1 in range(len(linearSearch)):\n",
    "            xyShift = [inds*xDrift[a0, a1], inds*yDrift[a0, a1]]\n",
    "\n",
    "            scanOr[:2] = np.tile(xyShift, [2,1,1])\n",
    "            SPmakeImage(scanLines, imageSize, KDEsigma, scanOr, scanDir, 0)\n",
    "            break\n",
    "        break"
   ]
  },
  {
   "cell_type": "code",
   "execution_count": null,
   "metadata": {},
   "outputs": [],
   "source": []
  },
  {
   "cell_type": "code",
   "execution_count": 31,
   "metadata": {},
   "outputs": [],
   "source": [
    "def SPmakeImage(scanLines, imageSize, KDEsigma, scanOr, scanDir, indImage=0):\n",
    "        # SPmakeImage\n",
    "\n",
    "    indLines = np.ones(scanLines.shape[2], dtype=int)\n",
    "    \n",
    "    t = np.tile(np.arange(0, scanLines.shape[2]), [indLines.sum(dtype=int), 1])\n",
    "    print(scanOr.shape)\n",
    "    x0 = np.tile(scanOr[indImage, 0, indLines], [1, scanLines.shape[2]])\n",
    "    y0 = np.tile(scanOr[indImage, 1, indLines], [1, scanLines.shape[2]])\n",
    "    \n",
    "    set_trace()\n",
    "    #print(scanDir.shape)\n",
    "    xInd = x0.flatten() + t.flatten()*scanDir[indImage,0];\n",
    "    yInd = y0.flatten() + t.flatten()*scanDir[indImage,1];\n",
    "    \n",
    "    xInd2 = np.maximum(np.minimum(xInd,imageSize[0]-1),1);\n",
    "    yInd2 = np.maximum(np.minimum(yInd,imageSize[1]-1),1);\n",
    "    \n",
    "    \n",
    "    xIndF = np.floor(xInd2).astype(int)\n",
    "    yIndF = np.floor(yInd2).astype(int)\n",
    "    xAll = np.array([xIndF, xIndF+1, xIndF, xIndF+1])\n",
    "    yAll = np.array([yIndF, yIndF, yIndF+1, yIndF+1]);\n",
    "    dx = xInd-xIndF\n",
    "    dy = yInd-yIndF\n",
    "    w = np.array([(1-dx)*(1-dy), dx*(1-dy), (1-dx)*dy, dx*dy])\n",
    "    \n",
    "    #print(xAll.dtype)\n",
    "    #print(imageSize.dtype)\n",
    "    \n",
    "    #set_trace()\n",
    "    \n",
    "    indAll = np.ravel_multi_index((xAll, yAll), imageSize)\n",
    "    sL = scanLines[indImage, :, indLines];\n",
    "\n",
    "    #indAll = sub2ind(sMerge.imageSize,xAll,yAll);\n",
    "    \n",
    "    weights = np.array([w[0]*sL.flatten(), w[1]*sL.flatten(), w[2]*sL.flatten(), w[3]*sL.flatten()])\n",
    "    accumarray = np.bincount(indAll.flatten(), weights=weights.flatten(), minlength=np.prod(imageSize))\n",
    "    sig = np.reshape(accumarray, imageSize)\n",
    "    \n",
    "    weights2 = np.array([w[0], w[1], w[2], w[3]])\n",
    "    accumarray2 = np.bincount(indAll.flatten(), weights=weights2.flatten(), minlength=np.prod(imageSize))\n",
    "    \n",
    "    count = np.reshape(accumarray2, imageSize);\n",
    "    \n",
    "    r = np.maximum(np.ceil(KDEsigma*3),5.0);\n",
    "    plt.figure()\n",
    "    plt.imshow(sig)\n",
    "    \n",
    "    #gaussian_filter()\n",
    "    \n",
    "    \n",
    "#     % Apply KDE\n",
    "#     r = max(ceil(sMerge.KDEsigma*3),5);\n",
    "#     sm = fspecial('gaussian',2*r+1,sMerge.KDEsigma);\n",
    "#     sm = sm / sum(sm(:));\n",
    "#     sig = conv2(sig,sm,'same');\n",
    "#     count = conv2(count,sm,'same');\n",
    "#     sub = count > 0;\n",
    "#     sig(sub) = sig[sub] / count[sub];\n",
    "#     sMerge.imageTransform(:,:,indImage) = sig;"
   ]
  },
  {
   "cell_type": "code",
   "execution_count": null,
   "metadata": {},
   "outputs": [
    {
     "name": "stdout",
     "output_type": "stream",
     "text": [
      "(3, 2, 512)\n",
      "> \u001b[1;32m<ipython-input-31-f91b487cf4d4>\u001b[0m(13)\u001b[0;36mSPmakeImage\u001b[1;34m()\u001b[0m\n",
      "\u001b[1;32m     12 \u001b[1;33m    \u001b[1;31m#print(scanDir.shape)\u001b[0m\u001b[1;33m\u001b[0m\u001b[1;33m\u001b[0m\u001b[0m\n",
      "\u001b[0m\u001b[1;32m---> 13 \u001b[1;33m    \u001b[0mxInd\u001b[0m \u001b[1;33m=\u001b[0m \u001b[0mx0\u001b[0m\u001b[1;33m.\u001b[0m\u001b[0mflatten\u001b[0m\u001b[1;33m(\u001b[0m\u001b[1;33m)\u001b[0m \u001b[1;33m+\u001b[0m \u001b[0mt\u001b[0m\u001b[1;33m.\u001b[0m\u001b[0mflatten\u001b[0m\u001b[1;33m(\u001b[0m\u001b[1;33m)\u001b[0m\u001b[1;33m*\u001b[0m\u001b[0mscanDir\u001b[0m\u001b[1;33m[\u001b[0m\u001b[0mindImage\u001b[0m\u001b[1;33m,\u001b[0m\u001b[1;36m0\u001b[0m\u001b[1;33m]\u001b[0m\u001b[1;33m;\u001b[0m\u001b[1;33m\u001b[0m\u001b[0m\n",
      "\u001b[0m\u001b[1;32m     14 \u001b[1;33m    \u001b[0myInd\u001b[0m \u001b[1;33m=\u001b[0m \u001b[0my0\u001b[0m\u001b[1;33m.\u001b[0m\u001b[0mflatten\u001b[0m\u001b[1;33m(\u001b[0m\u001b[1;33m)\u001b[0m \u001b[1;33m+\u001b[0m \u001b[0mt\u001b[0m\u001b[1;33m.\u001b[0m\u001b[0mflatten\u001b[0m\u001b[1;33m(\u001b[0m\u001b[1;33m)\u001b[0m\u001b[1;33m*\u001b[0m\u001b[0mscanDir\u001b[0m\u001b[1;33m[\u001b[0m\u001b[0mindImage\u001b[0m\u001b[1;33m,\u001b[0m\u001b[1;36m1\u001b[0m\u001b[1;33m]\u001b[0m\u001b[1;33m;\u001b[0m\u001b[1;33m\u001b[0m\u001b[0m\n",
      "\u001b[0m\n"
     ]
    },
    {
     "name": "stdin",
     "output_type": "stream",
     "text": [
      "ipdb>  q\n"
     ]
    },
    {
     "name": "stdout",
     "output_type": "stream",
     "text": [
      "--KeyboardInterrupt--\n"
     ]
    }
   ],
   "source": [
    "#%debug\n",
    "SPmerge01(data, scanAngles)"
   ]
  },
  {
   "cell_type": "code",
   "execution_count": 1,
   "metadata": {},
   "outputs": [
    {
     "data": {
      "text/plain": [
       "1"
      ]
     },
     "execution_count": 1,
     "metadata": {},
     "output_type": "execute_result"
    }
   ],
   "source": [
    "1"
   ]
  },
  {
   "cell_type": "code",
   "execution_count": 151,
   "metadata": {},
   "outputs": [
    {
     "data": {
      "text/plain": [
       "0"
      ]
     },
     "execution_count": 151,
     "metadata": {},
     "output_type": "execute_result"
    }
   ],
   "source": [
    "indImage"
   ]
  },
  {
   "cell_type": "code",
   "execution_count": 149,
   "metadata": {},
   "outputs": [
    {
     "data": {
      "text/plain": [
       "(1, 262144)"
      ]
     },
     "execution_count": 149,
     "metadata": {},
     "output_type": "execute_result"
    }
   ],
   "source": [
    "x0.shape"
   ]
  },
  {
   "cell_type": "code",
   "execution_count": 148,
   "metadata": {},
   "outputs": [
    {
     "data": {
      "text/plain": [
       "(3, 2)"
      ]
     },
     "execution_count": 148,
     "metadata": {},
     "output_type": "execute_result"
    }
   ],
   "source": [
    "scanDir.shape"
   ]
  },
  {
   "cell_type": "code",
   "execution_count": null,
   "metadata": {},
   "outputs": [],
   "source": []
  },
  {
   "cell_type": "code",
   "execution_count": 139,
   "metadata": {},
   "outputs": [
    {
     "data": {
      "text/plain": [
       "[1, 512]"
      ]
     },
     "execution_count": 139,
     "metadata": {},
     "output_type": "execute_result"
    }
   ],
   "source": [
    "[1, scanLines.shape[2]]"
   ]
  },
  {
   "cell_type": "code",
   "execution_count": 128,
   "metadata": {},
   "outputs": [],
   "source": [
    "t = repmat(1:size(sMerge.scanLines,2),[sum(indLines) 1]);\n",
    "x0 = repmat(sMerge.scanOr(indLines,1,indImage),[1 size(sMerge.scanLines,2)]);\n",
    "y0 = repmat(sMerge.scanOr(indLines,2,indImage),[1 size(sMerge.scanLines,2)]);\n",
    "xInd = x0(:) + t(:)*sMerge.scanDir(indImage,1);\n",
    "yInd = y0(:) + t(:)*sMerge.scanDir(indImage,2);\n"
   ]
  },
  {
   "cell_type": "code",
   "execution_count": 121,
   "metadata": {},
   "outputs": [
    {
     "data": {
      "text/plain": [
       "array([[0., 0., 0., ..., 0., 0., 0.],\n",
       "       [0., 0., 0., ..., 0., 0., 0.],\n",
       "       [0., 0., 0., ..., 0., 0., 0.],\n",
       "       ...,\n",
       "       [0., 0., 0., ..., 0., 0., 0.],\n",
       "       [0., 0., 0., ..., 0., 0., 0.],\n",
       "       [0., 0., 0., ..., 0., 0., 0.]])"
      ]
     },
     "execution_count": 121,
     "metadata": {},
     "output_type": "execute_result"
    }
   ],
   "source": [
    "scanLines[2]"
   ]
  },
  {
   "cell_type": "code",
   "execution_count": null,
   "metadata": {},
   "outputs": [],
   "source": []
  },
  {
   "cell_type": "code",
   "execution_count": 118,
   "metadata": {},
   "outputs": [
    {
     "data": {
      "text/plain": [
       "(3, 512, 512)"
      ]
     },
     "execution_count": 118,
     "metadata": {},
     "output_type": "execute_result"
    }
   ],
   "source": [
    "scanLines.shape"
   ]
  },
  {
   "cell_type": "code",
   "execution_count": null,
   "metadata": {},
   "outputs": [],
   "source": []
  },
  {
   "cell_type": "code",
   "execution_count": null,
   "metadata": {},
   "outputs": [],
   "source": []
  },
  {
   "cell_type": "code",
   "execution_count": 112,
   "metadata": {},
   "outputs": [
    {
     "name": "stdout",
     "output_type": "stream",
     "text": [
      "7.17 µs ± 60.8 ns per loop (mean ± std. dev. of 7 runs, 100000 loops each)\n"
     ]
    }
   ],
   "source": [
    "%%timeit\n",
    "np.tile(xyShift, [2,1,1])"
   ]
  },
  {
   "cell_type": "code",
   "execution_count": null,
   "metadata": {},
   "outputs": [],
   "source": []
  },
  {
   "cell_type": "code",
   "execution_count": 111,
   "metadata": {},
   "outputs": [
    {
     "data": {
      "text/plain": [
       "(2, 512)"
      ]
     },
     "execution_count": 111,
     "metadata": {},
     "output_type": "execute_result"
    }
   ],
   "source": [
    "np.shape(xyShift)"
   ]
  },
  {
   "cell_type": "code",
   "execution_count": 102,
   "metadata": {},
   "outputs": [],
   "source": [
    "a0 = a1 = 0\n",
    "xyShift = [inds*xDrift[a0, a1], inds*yDrift[a0, a1]]"
   ]
  },
  {
   "cell_type": "code",
   "execution_count": 103,
   "metadata": {},
   "outputs": [
    {
     "data": {
      "text/plain": [
       "array([[[ 2621.44      ,  2611.17996086,  2600.91992172, ...,\n",
       "         -2600.91992172, -2611.17996086, -2621.44      ],\n",
       "        [ 2621.44      ,  2611.17996086,  2600.91992172, ...,\n",
       "         -2600.91992172, -2611.17996086, -2621.44      ]]])"
      ]
     },
     "execution_count": 103,
     "metadata": {},
     "output_type": "execute_result"
    }
   ],
   "source": []
  },
  {
   "cell_type": "code",
   "execution_count": null,
   "metadata": {},
   "outputs": [],
   "source": [
    "round((sMerge.imageSize-N(1:2))/2)"
   ]
  },
  {
   "cell_type": "code",
   "execution_count": 91,
   "metadata": {},
   "outputs": [
    {
     "data": {
      "text/plain": [
       "128"
      ]
     },
     "execution_count": 91,
     "metadata": {},
     "output_type": "execute_result"
    }
   ],
   "source": [
    "pada"
   ]
  },
  {
   "cell_type": "code",
   "execution_count": 87,
   "metadata": {},
   "outputs": [
    {
     "data": {
      "text/plain": [
       "array([128, 128])"
      ]
     },
     "execution_count": 87,
     "metadata": {},
     "output_type": "execute_result"
    }
   ],
   "source": [
    "imageSize - N[1:]"
   ]
  },
  {
   "cell_type": "code",
   "execution_count": 86,
   "metadata": {},
   "outputs": [
    {
     "data": {
      "text/plain": [
       "array([[1., 1., 0., 0.],\n",
       "       [1., 1., 0., 0.],\n",
       "       [0., 0., 0., 0.],\n",
       "       [0., 0., 0., 0.]])"
      ]
     },
     "execution_count": 86,
     "metadata": {},
     "output_type": "execute_result"
    }
   ],
   "source": [
    "np.pad(np.ones((2,2)), ((0,2),(0,2)), 'constant')"
   ]
  },
  {
   "cell_type": "code",
   "execution_count": 79,
   "metadata": {},
   "outputs": [
    {
     "data": {
      "text/plain": [
       "array([128, 128])"
      ]
     },
     "execution_count": 79,
     "metadata": {},
     "output_type": "execute_result"
    }
   ],
   "source": [
    "imageSize - N[1:]"
   ]
  },
  {
   "cell_type": "code",
   "execution_count": null,
   "metadata": {},
   "outputs": [],
   "source": [
    "imageSize-N(1:2)#,0,'post'"
   ]
  },
  {
   "cell_type": "code",
   "execution_count": 74,
   "metadata": {},
   "outputs": [
    {
     "data": {
      "text/plain": [
       "(512, 512)"
      ]
     },
     "execution_count": 74,
     "metadata": {},
     "output_type": "execute_result"
    }
   ],
   "source": [
    "np.shape()"
   ]
  },
  {
   "cell_type": "code",
   "execution_count": null,
   "metadata": {},
   "outputs": [],
   "source": [
    "w2 = circshift(padarray(hanningLocal(N(1))*hanningLocal(N(2))',...\n",
    "    sMerge.imageSize-N(1:2),0,'post'),round((sMerge.imageSize-N(1:2))/2));"
   ]
  },
  {
   "cell_type": "code",
   "execution_count": null,
   "metadata": {},
   "outputs": [],
   "source": [
    "function [w] = hanningLocal(N)\n",
    "% Replacement for simplest 1D hanning function to remove dependency.\n",
    "w = sin(pi*((1:N)/(N+1))).^2;\n",
    "end"
   ]
  },
  {
   "cell_type": "code",
   "execution_count": 57,
   "metadata": {},
   "outputs": [],
   "source": []
  },
  {
   "cell_type": "code",
   "execution_count": 58,
   "metadata": {},
   "outputs": [
    {
     "data": {
      "text/plain": [
       "array([0.25, 0.75, 1.  , 0.75, 0.25])"
      ]
     },
     "execution_count": 58,
     "metadata": {},
     "output_type": "execute_result"
    }
   ],
   "source": [
    "hanningLocal(5)"
   ]
  },
  {
   "cell_type": "code",
   "execution_count": 59,
   "metadata": {},
   "outputs": [
    {
     "data": {
      "text/plain": [
       "array([0. , 0.5, 1. , 0.5, 0. ])"
      ]
     },
     "execution_count": 59,
     "metadata": {},
     "output_type": "execute_result"
    }
   ],
   "source": [
    "np.hanning(5)"
   ]
  },
  {
   "cell_type": "code",
   "execution_count": 60,
   "metadata": {},
   "outputs": [
    {
     "data": {
      "text/plain": [
       "array([0.08, 0.54, 1.  , 0.54, 0.08])"
      ]
     },
     "execution_count": 60,
     "metadata": {},
     "output_type": "execute_result"
    }
   ],
   "source": [
    "np.hamming(5)"
   ]
  },
  {
   "cell_type": "code",
   "execution_count": 22,
   "metadata": {},
   "outputs": [
    {
     "data": {
      "text/plain": [
       "array([[  64.,   65., -254., ...,  253.,  254.,  255.],\n",
       "       [  65.,   65., -255., ..., -255., -255., -255.]])"
      ]
     },
     "execution_count": 22,
     "metadata": {},
     "output_type": "execute_result"
    }
   ],
   "source": [
    "    sMerge.scanDir(a0,:) = [cos(scanAngles(a0)*pi/180 + pi/2) ...\n",
    "        sin(scanAngles(a0)*pi/180 + pi/2)];"
   ]
  },
  {
   "cell_type": "code",
   "execution_count": 23,
   "metadata": {},
   "outputs": [
    {
     "data": {
      "text/plain": [
       "array([[  64.,   65., -254., ...,  253.,  254.,  255.],\n",
       "       [  65.,   65., -255., ..., -255., -255., -255.]])"
      ]
     },
     "execution_count": 23,
     "metadata": {},
     "output_type": "execute_result"
    }
   ],
   "source": [
    "scanOr[1]"
   ]
  },
  {
   "cell_type": "code",
   "execution_count": 80,
   "metadata": {},
   "outputs": [
    {
     "data": {
      "text/plain": [
       "0.0"
      ]
     },
     "execution_count": 80,
     "metadata": {},
     "output_type": "execute_result"
    }
   ],
   "source": [
    "xy[0,0]%1"
   ]
  },
  {
   "cell_type": "code",
   "execution_count": 81,
   "metadata": {},
   "outputs": [
    {
     "data": {
      "text/plain": [
       "-256.0"
      ]
     },
     "execution_count": 81,
     "metadata": {},
     "output_type": "execute_result"
    }
   ],
   "source": [
    "xy[0,0]"
   ]
  },
  {
   "cell_type": "code",
   "execution_count": 43,
   "metadata": {},
   "outputs": [
    {
     "data": {
      "text/plain": [
       "[0, 90]"
      ]
     },
     "execution_count": 43,
     "metadata": {},
     "output_type": "execute_result"
    }
   ],
   "source": [
    "scanAngles"
   ]
  },
  {
   "cell_type": "code",
   "execution_count": 36,
   "metadata": {},
   "outputs": [],
   "source": [
    "scanLines[:] = data\n",
    "\n",
    "xy = [np.arange(shape[1]), np.ones(shape[1])]\n",
    "\n"
   ]
  },
  {
   "cell_type": "code",
   "execution_count": null,
   "metadata": {},
   "outputs": [],
   "source": [
    "for a0 in len(numImages):\n",
    "    scanLines[:,:,a0] = data[]"
   ]
  }
 ],
 "metadata": {
  "kernelspec": {
   "display_name": "Python 3",
   "language": "python",
   "name": "python3"
  },
  "language_info": {
   "codemirror_mode": {
    "name": "ipython",
    "version": 3
   },
   "file_extension": ".py",
   "mimetype": "text/x-python",
   "name": "python",
   "nbconvert_exporter": "python",
   "pygments_lexer": "ipython3",
   "version": "3.7.0"
  }
 },
 "nbformat": 4,
 "nbformat_minor": 4
}
