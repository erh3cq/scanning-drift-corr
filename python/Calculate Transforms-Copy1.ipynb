{
 "cells": [
  {
   "cell_type": "code",
   "execution_count": 13,
   "metadata": {},
   "outputs": [],
   "source": [
    "%matplotlib widget\n",
    "import matplotlib.pyplot as plt\n",
    "import numpy as np\n",
    "\n",
    "\n",
    "def rotation_matrix(rad):\n",
    "    c,s = np.cos(rad), np.sin(rad)\n",
    "    return np.array([[c,-s], [s, c]])\n",
    "\n",
    "def drift_points(shape=(10,10), drift_angle = 0, drift_strength=1e-4):\n",
    "    lenY, lenX = shape\n",
    "    drift_vector = (rotation_matrix(drift_angle) @ [0,1]) * drift_strength\n",
    "    arr = np.zeros((lenY, lenX, 2))\n",
    "    drift = np.zeros(2)\n",
    "    corners = []\n",
    "    for yi in range(lenY):\n",
    "        for xi in range(lenX):\n",
    "            drift += drift_vector\n",
    "            position = np.array((yi, xi))\n",
    "            arr[yi, xi] = position + drift\n",
    "            if (yi == 0 or yi == (lenY-1)) and (xi == 0 or xi == (lenX-1)):\n",
    "                corner = np.array((yi, xi)) + drift\n",
    "                corners.append(corner)\n",
    "    return arr#, corners"
   ]
  },
  {
   "cell_type": "code",
   "execution_count": 14,
   "metadata": {},
   "outputs": [],
   "source": [
    "def plot(points, ax, lim=((),())):\n",
    "    points = points.reshape((-1, 2))\n",
    "    for xy in points:\n",
    "        rect = plt.Rectangle(xy-0.25, 0.5, 0.5)\n",
    "        ax.add_patch(rect)\n",
    "    xmin, ymin = points.min(0) - 2\n",
    "    xmax, ymax = points.max(0) + 3\n",
    "    if lim == ((),()):\n",
    "        ax.set_xlim(xmin, xmax)\n",
    "        ax.set_ylim(ymax, ymin)\n",
    "    else:\n",
    "        ax.set_xlim(lim[0])\n",
    "        ax.set_ylim(lim[1])  \n",
    "        \n",
    "def extend_3D_ones(arr_of_2d):\n",
    "    return np.hstack([arr_of_2d, np.ones((len(arr_of_2d),1))])\n",
    "    \n",
    "def get_matrix(xy, xyprime):\n",
    "    xy = extend_3D_ones(xy)\n",
    "    xyprime = extend_3D_ones(xyprime)\n",
    "    T, *_ = np.linalg.lstsq(xy, xyprime, rcond=None)\n",
    "    return T.T\n",
    "\n",
    "def transform_points(points, transform):\n",
    "    points = extend_3D_ones(points)\n",
    "    points_prime = points @ transform.T\n",
    "    return points_prime[:, :2]"
   ]
  },
  {
   "cell_type": "code",
   "execution_count": 15,
   "metadata": {},
   "outputs": [],
   "source": [
    "from matplotlib.transforms import Affine2D"
   ]
  },
  {
   "cell_type": "code",
   "execution_count": 20,
   "metadata": {},
   "outputs": [
    {
     "ename": "ValueError",
     "evalue": "",
     "output_type": "error",
     "traceback": [
      "\u001b[1;31m---------------------------------------------------------------------------\u001b[0m",
      "\u001b[1;31mValueError\u001b[0m                                Traceback (most recent call last)",
      "\u001b[1;32m<ipython-input-20-f013665307b9>\u001b[0m in \u001b[0;36m<module>\u001b[1;34m()\u001b[0m\n\u001b[0;32m     53\u001b[0m     \u001b[0mimg\u001b[0m \u001b[1;33m=\u001b[0m \u001b[0mdrift_points\u001b[0m\u001b[1;33m(\u001b[0m\u001b[0mshape\u001b[0m\u001b[1;33m=\u001b[0m\u001b[0mshape\u001b[0m\u001b[1;33m,\u001b[0m \u001b[0mdrift_angle\u001b[0m\u001b[1;33m=\u001b[0m\u001b[0mangle\u001b[0m\u001b[1;33m,\u001b[0m \u001b[0mdrift_strength\u001b[0m\u001b[1;33m=\u001b[0m\u001b[0mstrength\u001b[0m\u001b[1;33m)\u001b[0m\u001b[1;33m\u001b[0m\u001b[1;33m\u001b[0m\u001b[0m\n\u001b[0;32m     54\u001b[0m     \u001b[0mM\u001b[0m \u001b[1;33m=\u001b[0m \u001b[0mget_matrix\u001b[0m\u001b[1;33m(\u001b[0m\u001b[0mimg0\u001b[0m\u001b[1;33m.\u001b[0m\u001b[0mreshape\u001b[0m\u001b[1;33m(\u001b[0m\u001b[1;33m(\u001b[0m\u001b[1;33m-\u001b[0m\u001b[1;36m1\u001b[0m\u001b[1;33m,\u001b[0m \u001b[1;36m2\u001b[0m\u001b[1;33m)\u001b[0m\u001b[1;33m)\u001b[0m\u001b[1;33m,\u001b[0m \u001b[0mimg\u001b[0m\u001b[1;33m.\u001b[0m\u001b[0mreshape\u001b[0m\u001b[1;33m(\u001b[0m\u001b[1;33m(\u001b[0m\u001b[1;33m-\u001b[0m\u001b[1;36m1\u001b[0m\u001b[1;33m,\u001b[0m \u001b[1;36m2\u001b[0m\u001b[1;33m)\u001b[0m\u001b[1;33m)\u001b[0m\u001b[1;33m)\u001b[0m\u001b[1;33m\u001b[0m\u001b[1;33m\u001b[0m\u001b[0m\n\u001b[1;32m---> 55\u001b[1;33m     \u001b[1;32mraise\u001b[0m \u001b[0mValueError\u001b[0m\u001b[1;33m(\u001b[0m\u001b[1;33m)\u001b[0m\u001b[1;33m\u001b[0m\u001b[1;33m\u001b[0m\u001b[0m\n\u001b[0m\u001b[0;32m     56\u001b[0m     \u001b[0mpoints\u001b[0m \u001b[1;33m=\u001b[0m \u001b[0mtransform_points\u001b[0m\u001b[1;33m(\u001b[0m\u001b[0mimg0\u001b[0m\u001b[1;33m.\u001b[0m\u001b[0mreshape\u001b[0m\u001b[1;33m(\u001b[0m\u001b[1;33m(\u001b[0m\u001b[1;33m-\u001b[0m\u001b[1;36m1\u001b[0m\u001b[1;33m,\u001b[0m\u001b[1;36m2\u001b[0m\u001b[1;33m)\u001b[0m\u001b[1;33m)\u001b[0m\u001b[1;33m,\u001b[0m \u001b[0mM\u001b[0m\u001b[1;33m)\u001b[0m\u001b[1;33m\u001b[0m\u001b[1;33m\u001b[0m\u001b[0m\n\u001b[0;32m     57\u001b[0m     \u001b[0mplot\u001b[0m\u001b[1;33m(\u001b[0m\u001b[0mpoints\u001b[0m\u001b[1;33m,\u001b[0m \u001b[0max\u001b[0m\u001b[1;33m,\u001b[0m \u001b[0mlim\u001b[0m\u001b[1;33m=\u001b[0m\u001b[0mlim\u001b[0m\u001b[1;33m)\u001b[0m\u001b[1;31m#((-5, 20), (-5, 20)))\u001b[0m\u001b[1;33m\u001b[0m\u001b[1;33m\u001b[0m\u001b[0m\n",
      "\u001b[1;31mValueError\u001b[0m: "
     ]
    },
    {
     "data": {
      "text/plain": [
       "<Figure size 432x288 with 0 Axes>"
      ]
     },
     "metadata": {},
     "output_type": "display_data"
    },
    {
     "data": {
      "image/png": "[encoded data removed]",
      "text/plain": [
       "<Figure size 1600x1600 with 2 Axes>"
      ]
     },
     "metadata": {},
     "output_type": "display_data"
    }
   ],
   "source": [
    "%matplotlib inline\n",
    "import numpy as np\n",
    "import matplotlib.pyplot as plt\n",
    "import matplotlib as mpl\n",
    "plt.close('all')\n",
    "fig = plt.figure()\n",
    "\n",
    "\n",
    "fig = plt.figure(figsize=(8, 8), dpi=200)\n",
    "fig.patch.set_facecolor('xkcd:mint green')\n",
    "\n",
    "#fig.subplots_adjust(wspace=0.3, left=0.05, right=0.95)\n",
    "\n",
    "r = 1\n",
    "strength = 0.04\n",
    "shape = (10, 10)\n",
    "\n",
    "height = 0.2\n",
    "width = 0.2\n",
    "\n",
    "ax = fig.add_axes((r/2 - width/2, r/2-height/2, width, height))\n",
    "img0 = drift_points(shape = shape, drift_strength=0)\n",
    "mn = img0.reshape((-1, 2)).min(0) - 3\n",
    "mx = img0.reshape((-1, 2)).max(0) + 4\n",
    "lim = ((mn[0], mx[0]), (mx[1], mn[1]))\n",
    "plot(img0, ax, lim = lim)\n",
    "#ax.axis('off')\n",
    "ax.set_facecolor('xkcd:salmon')\n",
    "\n",
    "for i, angle in enumerate(np.linspace(0, 2*np.pi, 12, endpoint=Fals\n",
    "                                      e)):\n",
    "    left =   r*np.sin(angle) / 2 + r/2\n",
    "    bottom = r*np.cos(angle) / 2 + r/2\n",
    "    \n",
    "    arrstartx = 0.3*np.sin(angle) / 2 + r/2\n",
    "    arrstarty = 0.3*np.cos(angle) / 2 + r/2\n",
    "    \n",
    "    arrendx = 0.4*np.sin(angle) / 2 + r/2\n",
    "    arrendy = 0.4*np.cos(angle) / 2 + r/2\n",
    "\n",
    "    arrow = mpl.patches.FancyArrow(\n",
    "        arrstartx, arrstarty, \n",
    "        arrendx - arrstartx, \n",
    "        arrendy - arrstarty, \n",
    "        transform=fig.transFigure, \n",
    "        figure=fig,\n",
    "        width=0.01\n",
    "    \n",
    "    )\n",
    "\n",
    "    fig.add_artist(arrow)\n",
    "    \n",
    "    ax = fig.add_axes((left-width/2, bottom-height/2, width, height))\n",
    "    img = drift_points(shape=shape, drift_angle=angle, drift_strength=strength)\n",
    "    M = get_matrix(img0.reshape((-1, 2)), img.reshape((-1, 2)))\n",
    "    raise ValueError()\n",
    "    points = transform_points(img0.reshape((-1,2)), M)\n",
    "    plot(points, ax, lim=lim)#((-5, 20), (-5, 20)))\n",
    "    #ax.axis('off')\n",
    "    ax.set_facecolor('xkcd:salmon')\n"
   ]
  },
  {
   "cell_type": "code",
   "execution_count": 113,
   "metadata": {},
   "outputs": [],
   "source": [
    "from ipywidgets import Output, HBox"
   ]
  },
  {
   "cell_type": "code",
   "execution_count": 134,
   "metadata": {},
   "outputs": [
    {
     "name": "stdout",
     "output_type": "stream",
     "text": [
      "\n"
     ]
    },
    {
     "data": {
      "application/vnd.jupyter.widget-view+json": {
       "model_id": "70049873ca914589888229761abc3483",
       "version_major": 2,
       "version_minor": 0
      },
      "text/plain": [
       "HBox(children=(Output(), Output()))"
      ]
     },
     "metadata": {},
     "output_type": "display_data"
    },
    {
     "data": {
      "application/vnd.jupyter.widget-view+json": {
       "model_id": "0c7204bc776247f0aba57f4f036dd1ec",
       "version_major": 2,
       "version_minor": 0
      },
      "text/plain": [
       "HBox(children=(Output(), Output()))"
      ]
     },
     "metadata": {},
     "output_type": "display_data"
    }
   ],
   "source": [
    "strength = 0.1\n",
    "deg = 45\n",
    "angle = np.deg2rad(deg)\n",
    "\n",
    "o1, o2, o3, o4 = Output(), Output(), Output(), Output()\n",
    "\n",
    "def transform_from_angle_strength(angle, strength):\n",
    "    arr = np.eye(3)\n",
    "    arr[0,0] = 1 - 10*strength*np.sin(angle)\n",
    "    arr[1,0] = 10*strength*np.cos(angle)\n",
    "    arr[1,1] = 1 + strength*np.cos(angle)\n",
    "    arr[1,2] = strength*np.cos(angle)\n",
    "    arr[0,1] = -np.sin(angle)*strength\n",
    "    arr[0,2] = -np.sin(angle)*strength\n",
    "    return arr\n",
    "\n",
    "img = drift_points(shape=shape, drift_angle=angle, drift_strength=strength)\n",
    "M = get_matrix(img0.reshape((-1, 2)), img.reshape((-1, 2)))\n",
    "m = transform_from_angle_strength(angle, strength)\n",
    "with o1:\n",
    "    print(np.round(M, 4))\n",
    "with o2: \n",
    "    print(np.round(m ,4))\n",
    "\n",
    "print()\n",
    "angle = np.deg2rad(deg + 90)\n",
    "\n",
    "img = drift_points(shape=shape, drift_angle=angle, drift_strength=strength)\n",
    "M = get_matrix(img0.reshape((-1, 2)), img.reshape((-1, 2)))\n",
    "m = transform_from_angle_strength(angle, strength)\n",
    "with o3:\n",
    "    print(np.round(M, 4))\n",
    "with o4: \n",
    "    print(np.round(m ,4))\n",
    "    \n",
    "display(HBox([o1, o2]))\n",
    "display(HBox([o3, o4]))"
   ]
  },
  {
   "cell_type": "code",
   "execution_count": 222,
   "metadata": {},
   "outputs": [],
   "source": [
    "a =np.column_stack([angles, angles])"
   ]
  },
  {
   "cell_type": "code",
   "execution_count": 223,
   "metadata": {},
   "outputs": [],
   "source": [
    "angle_diff = 90\n",
    "a[:,1] += angle_diff"
   ]
  },
  {
   "cell_type": "code",
   "execution_count": 235,
   "metadata": {},
   "outputs": [
    {
     "data": {
      "text/plain": [
       "(1, 2)"
      ]
     },
     "execution_count": 235,
     "metadata": {},
     "output_type": "execute_result"
    }
   ],
   "source": [
    "np.column_stack([1,1])"
   ]
  },
  {
   "cell_type": "code",
   "execution_count": 254,
   "metadata": {},
   "outputs": [],
   "source": [
    "strengths = np.linspace(0, 0.01, 11)\n",
    "angles = np.linspace(0, 360, 10, endpoint=False)\n",
    "angles = np.deg2rad(angles)\n",
    "\n",
    "def transform_from_angle_strength(strength, angle, angle_diff=np.pi/2):\n",
    "    arr = np.zeros(np.shape(strength) + np.shape(angle) + (2,) + (3,3))\n",
    "    if np.shape(strength):\n",
    "        strength = strength[:, None, None]\n",
    "    angle = np.column_stack([angle, angle])\n",
    "    angle[:,1] += angle_diff\n",
    "    arr[...] = np.eye(3)\n",
    "    s_sin = strength*np.sin(angle)\n",
    "    s_cos = strength*np.cos(angle)\n",
    "    arr[..., 0,0] = 1 - 10*s_sin\n",
    "    arr[..., 1,0] = 10*s_cos\n",
    "    arr[..., 1,1] = 1 + s_cos\n",
    "    arr[..., 1,2] = s_cos\n",
    "    arr[..., 0,1] = -s_sin\n",
    "    arr[..., 0,2] = -s_sin\n",
    "    \n",
    "    return arr.squeeze()\n",
    "\n",
    "T = transform_from_angle_strength(strengths, angles)\n"
   ]
  },
  {
   "cell_type": "code",
   "execution_count": 256,
   "metadata": {},
   "outputs": [],
   "source": [
    "s = np.array([0.1, 0.1])\n",
    "a = np.deg2rad(np.array([45, 45]))"
   ]
  },
  {
   "cell_type": "code",
   "execution_count": 206,
   "metadata": {},
   "outputs": [],
   "source": [
    "a2 = T"
   ]
  },
  {
   "cell_type": "code",
   "execution_count": 227,
   "metadata": {},
   "outputs": [
    {
     "data": {
      "text/plain": [
       "(11, 10, 2, 3, 3)"
      ]
     },
     "execution_count": 227,
     "metadata": {},
     "output_type": "execute_result"
    }
   ],
   "source": [
    "a1.shape"
   ]
  },
  {
   "cell_type": "code",
   "execution_count": 242,
   "metadata": {},
   "outputs": [
    {
     "data": {
      "text/plain": [
       "array([[[ 1.05877853,  0.00587785,  0.00587785],\n",
       "        [ 0.0809017 ,  1.00809017,  0.00809017],\n",
       "        [ 0.        ,  0.        ,  1.        ]],\n",
       "\n",
       "       [[ 0.90133704, -0.0098663 , -0.0098663 ],\n",
       "        [ 0.01629789,  1.00162979,  0.00162979],\n",
       "        [ 0.        ,  0.        ,  1.        ]]])"
      ]
     },
     "execution_count": 242,
     "metadata": {},
     "output_type": "execute_result"
    }
   ],
   "source": [
    "a1[-1, -1]"
   ]
  },
  {
   "cell_type": "code",
   "execution_count": 228,
   "metadata": {},
   "outputs": [],
   "source": [
    "np.testing.assert_array_almost_equal(a1, a2)"
   ]
  },
  {
   "cell_type": "code",
   "execution_count": null,
   "metadata": {},
   "outputs": [],
   "source": []
  },
  {
   "cell_type": "code",
   "execution_count": 118,
   "metadata": {},
   "outputs": [
    {
     "name": "stdout",
     "output_type": "stream",
     "text": [
      "[[ 0.6060769  -0.03939231 -0.03939231]\n",
      " [ 0.          1.          0.        ]\n",
      " [ 0.          0.          1.        ]]\n"
     ]
    }
   ],
   "source": [
    "deg = 90\n",
    "angle = np.deg2rad(deg)\n",
    "strength = 0.1\n",
    "\n",
    "print(m)"
   ]
  },
  {
   "cell_type": "code",
   "execution_count": null,
   "metadata": {},
   "outputs": [],
   "source": []
  },
  {
   "cell_type": "code",
   "execution_count": 72,
   "metadata": {},
   "outputs": [
    {
     "data": {
      "text/plain": [
       "0.49999999999999994"
      ]
     },
     "execution_count": 72,
     "metadata": {},
     "output_type": "execute_result"
    }
   ],
   "source": [
    "np.sin(np.deg2rad(30))"
   ]
  },
  {
   "cell_type": "code",
   "execution_count": null,
   "metadata": {},
   "outputs": [],
   "source": [
    "plt.figure()\n",
    "plt.scatter()"
   ]
  },
  {
   "cell_type": "code",
   "execution_count": 37,
   "metadata": {},
   "outputs": [
    {
     "data": {
      "text/plain": [
       "0.7071067811865476"
      ]
     },
     "execution_count": 37,
     "metadata": {},
     "output_type": "execute_result"
    }
   ],
   "source": [
    "np.sin(np.pi/4)"
   ]
  },
  {
   "cell_type": "code",
   "execution_count": 35,
   "metadata": {},
   "outputs": [
    {
     "data": {
      "text/plain": [
       "0.6788225099390857"
      ]
     },
     "execution_count": 35,
     "metadata": {},
     "output_type": "execute_result"
    }
   ],
   "source": [
    "np.sin(np.deg2rad(45)) * (1 - strength)"
   ]
  },
  {
   "cell_type": "code",
   "execution_count": 24,
   "metadata": {},
   "outputs": [
    {
     "data": {
      "text/plain": [
       "0.04"
      ]
     },
     "execution_count": 24,
     "metadata": {},
     "output_type": "execute_result"
    }
   ],
   "source": [
    "strength"
   ]
  }
 ],
 "metadata": {
  "kernelspec": {
   "display_name": "Python 3",
   "language": "python",
   "name": "python3"
  },
  "language_info": {
   "codemirror_mode": {
    "name": "ipython",
    "version": 3
   },
   "file_extension": ".py",
   "mimetype": "text/x-python",
   "name": "python",
   "nbconvert_exporter": "python",
   "pygments_lexer": "ipython3",
   "version": "3.7.9"
  }
 },
 "nbformat": 4,
 "nbformat_minor": 4
}
